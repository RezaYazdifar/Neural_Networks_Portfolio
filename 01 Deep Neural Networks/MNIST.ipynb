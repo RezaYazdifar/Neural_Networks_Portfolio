{
  "cells": [
    {
      "cell_type": "markdown",
      "metadata": {
        "id": "view-in-github",
        "colab_type": "text"
      },
      "source": [
        "<a href=\"https://colab.research.google.com/github/e-abtahi/Neural_Networks_Portfolio/blob/main/01_Deep_Neural_Networks/MNIST.ipynb\" target=\"_parent\"><img src=\"https://colab.research.google.com/assets/colab-badge.svg\" alt=\"Open In Colab\"/></a>"
      ]
    },
    {
      "cell_type": "markdown",
      "metadata": {
        "id": "wfWJSlkItKxw"
      },
      "source": [
        "# Using neural networks on MNIST Data"
      ]
    },
    {
      "cell_type": "code",
      "execution_count": null,
      "metadata": {
        "id": "WpoxCD28AOAj"
      },
      "outputs": [],
      "source": [
        "import pandas as pd\n",
        "import numpy as np\n",
        "import keras\n",
        "from tensorflow.keras.utils import to_categorical\n",
        "import warnings\n",
        "warnings.filterwarnings('ignore')\n",
        "from tensorflow.keras.callbacks import ModelCheckpoint, ReduceLROnPlateau"
      ]
    },
    {
      "cell_type": "markdown",
      "metadata": {
        "id": "tcMJzRU-tS9B"
      },
      "source": [
        "## Reading the data"
      ]
    },
    {
      "cell_type": "code",
      "execution_count": null,
      "metadata": {
        "colab": {
          "base_uri": "https://localhost:8080/"
        },
        "id": "GxJJQImBNTia",
        "outputId": "f5e5def4-2d93-4d07-81ef-b395d9884cf8"
      },
      "outputs": [
        {
          "output_type": "stream",
          "name": "stdout",
          "text": [
            "Downloading data from https://storage.googleapis.com/tensorflow/tf-keras-datasets/mnist.npz\n",
            "11490434/11490434 [==============================] - 0s 0us/step\n"
          ]
        }
      ],
      "source": [
        "from keras.datasets import mnist\n",
        "(x_train, y_train), (x_test, y_test) = mnist.load_data()"
      ]
    },
    {
      "cell_type": "code",
      "execution_count": null,
      "metadata": {
        "colab": {
          "base_uri": "https://localhost:8080/"
        },
        "id": "Q_4ngGpdNwpg",
        "outputId": "00f5ecdc-45ba-4609-b414-dab69bdfdd4a"
      },
      "outputs": [
        {
          "output_type": "stream",
          "name": "stdout",
          "text": [
            "(60000, 28, 28)\n",
            "(10000, 28, 28)\n",
            "(60000,)\n",
            "(10000,)\n"
          ]
        }
      ],
      "source": [
        "print(x_train.shape)\n",
        "print(x_test.shape)\n",
        "print(y_train.shape)\n",
        "print(y_test.shape)"
      ]
    },
    {
      "cell_type": "code",
      "execution_count": null,
      "metadata": {
        "colab": {
          "base_uri": "https://localhost:8080/"
        },
        "id": "gBxa4e3-Xeex",
        "outputId": "e256df18-9deb-4248-c3c2-e04e67711699"
      },
      "outputs": [
        {
          "output_type": "execute_result",
          "data": {
            "text/plain": [
              "5"
            ]
          },
          "metadata": {},
          "execution_count": 4
        }
      ],
      "source": [
        "y_train[0]"
      ]
    },
    {
      "cell_type": "markdown",
      "metadata": {
        "id": "7yi_xTOEtYw0"
      },
      "source": [
        "## Visualizing images from our data"
      ]
    },
    {
      "cell_type": "code",
      "execution_count": null,
      "metadata": {
        "colab": {
          "base_uri": "https://localhost:8080/",
          "height": 119
        },
        "id": "4CP0IKIdOgs-",
        "outputId": "14189c2c-52cd-4264-aa79-5476c03856d7"
      },
      "outputs": [
        {
          "output_type": "display_data",
          "data": {
            "text/plain": [
              "<Figure size 1000x100 with 10 Axes>"
            ],
            "image/png": "[encoded data removed]"
          },
          "metadata": {}
        },
        {
          "output_type": "stream",
          "name": "stdout",
          "text": [
            "label for each of the above image: [5 0 4 1 9 2 1 3 1 4]\n"
          ]
        }
      ],
      "source": [
        "# visualizing the first 10 images in the dataset and their labels\n",
        "%matplotlib inline\n",
        "import matplotlib.pyplot as plt\n",
        "plt.figure(figsize=(10, 1))\n",
        "for i in range(10):\n",
        "    plt.subplot(1, 10, i+1)\n",
        "    plt.imshow(x_train[i], cmap=\"gray\")\n",
        "    plt.axis('off')\n",
        "plt.show()\n",
        "print('label for each of the above image: %s' % (y_train[0:10]))"
      ]
    },
    {
      "cell_type": "markdown",
      "metadata": {
        "id": "V8RfTsqEth4T"
      },
      "source": [
        "## Normalizing our train and test data"
      ]
    },
    {
      "cell_type": "code",
      "execution_count": null,
      "metadata": {
        "colab": {
          "base_uri": "https://localhost:8080/"
        },
        "id": "qzz6OTOdOzg_",
        "outputId": "cc77e458-42f3-4b5e-c064-d3df4dac49b6"
      },
      "outputs": [
        {
          "output_type": "stream",
          "name": "stdout",
          "text": [
            "Training set (60000, 784) (60000,)\n",
            "Test set (10000, 784) (10000,)\n"
          ]
        }
      ],
      "source": [
        "# Flatten the images\n",
        "image_vector_size = 28*28\n",
        "x_train = x_train.reshape(x_train.shape[0], image_vector_size)\n",
        "x_test = x_test.reshape(x_test.shape[0], image_vector_size)\n",
        "\n",
        "# # normalize inputs from 0-255 to 0-1\n",
        "x_train = x_train / 255.0\n",
        "x_test = x_test / 255.0\n",
        "\n",
        "print('Training set', x_train.shape, y_train.shape)\n",
        "print('Test set', x_test.shape, y_test.shape)"
      ]
    },
    {
      "cell_type": "markdown",
      "metadata": {
        "id": "u80k7vtPtpKc"
      },
      "source": [
        "## OHE the target variables"
      ]
    },
    {
      "cell_type": "code",
      "execution_count": null,
      "metadata": {
        "id": "4EzccWfUPl_l"
      },
      "outputs": [],
      "source": [
        "# Convert to \"one-hot\" vectors using the to_categorical function\n",
        "num_classes = 10\n",
        "y_train = to_categorical(y_train, num_classes)\n",
        "y_test_cat=to_categorical(y_test,num_classes)"
      ]
    },
    {
      "cell_type": "code",
      "execution_count": null,
      "metadata": {
        "colab": {
          "base_uri": "https://localhost:8080/"
        },
        "id": "Ouv10gYwZFfR",
        "outputId": "60e0a1a1-fd7f-4a04-ebdb-44cd372e5402"
      },
      "outputs": [
        {
          "output_type": "stream",
          "name": "stdout",
          "text": [
            "First 5 training lables as one-hot encoded vectors:\n",
            " [[0. 0. 0. 0. 0. 1. 0. 0. 0. 0.]\n",
            " [1. 0. 0. 0. 0. 0. 0. 0. 0. 0.]\n",
            " [0. 0. 0. 0. 1. 0. 0. 0. 0. 0.]\n",
            " [0. 1. 0. 0. 0. 0. 0. 0. 0. 0.]\n",
            " [0. 0. 0. 0. 0. 0. 0. 0. 0. 1.]]\n"
          ]
        }
      ],
      "source": [
        "print(\"First 5 training lables as one-hot encoded vectors:\\n\", y_train[:5])"
      ]
    },
    {
      "cell_type": "markdown",
      "metadata": {
        "id": "la0FEOcCttt9"
      },
      "source": [
        "## Definfing the sequential Model"
      ]
    },
    {
      "cell_type": "code",
      "execution_count": null,
      "metadata": {
        "id": "_LvEzPxfQhVj"
      },
      "outputs": [],
      "source": [
        "# define model\n",
        "\n",
        "from tensorflow.keras import losses\n",
        "from tensorflow.keras import optimizers\n",
        "from tensorflow.keras import Sequential\n",
        "from tensorflow.keras.layers import Dense\n",
        "\n",
        "image_size=28*28\n",
        "\n",
        "# create model\n",
        "model = Sequential()\n",
        "\n",
        "model.add(Dense(256, activation='relu',kernel_initializer='he_uniform',input_shape=(image_size,))) ###Multiple Dense units with Relu activation\n",
        "model.add(Dense(64, activation='relu',kernel_initializer='he_uniform'))\n",
        "model.add(Dense(64, activation='relu',kernel_initializer='he_uniform'))\n",
        "model.add(Dense(32, activation='relu',kernel_initializer='he_uniform'))\n",
        "\n",
        "model.add(Dense(num_classes, activation='softmax')) ### For multiclass classification Softmax is used"
      ]
    },
    {
      "cell_type": "code",
      "execution_count": null,
      "metadata": {
        "id": "P3751ptOSe3r",
        "colab": {
          "base_uri": "https://localhost:8080/"
        },
        "outputId": "40a34aa6-8d9e-4e2f-8c71-a0da26321921"
      },
      "outputs": [
        {
          "output_type": "stream",
          "name": "stderr",
          "text": [
            "WARNING:absl:`lr` is deprecated in Keras optimizer, please use `learning_rate` or use the legacy optimizer, e.g.,tf.keras.optimizers.legacy.Adam.\n"
          ]
        }
      ],
      "source": [
        "# Compile model\n",
        "#RMS_prop=optimizers.RMSprop()   ## we can similarly use different optimizers like RMSprop, Adagrad and SGD\n",
        "adam = optimizers.Adam(lr=1e-3)\n",
        "model.compile(loss=losses.categorical_crossentropy, optimizer=adam, metrics=['accuracy']) ### Loss function = Categorical cross entropy"
      ]
    },
    {
      "cell_type": "code",
      "execution_count": null,
      "metadata": {
        "colab": {
          "base_uri": "https://localhost:8080/"
        },
        "id": "qMTLLs33S446",
        "outputId": "130b661a-a28a-47de-b4b1-941dcb488022"
      },
      "outputs": [
        {
          "output_type": "stream",
          "name": "stdout",
          "text": [
            "Model: \"sequential\"\n",
            "_________________________________________________________________\n",
            " Layer (type)                Output Shape              Param #   \n",
            "=================================================================\n",
            " dense (Dense)               (None, 256)               200960    \n",
            "                                                                 \n",
            " dense_1 (Dense)             (None, 64)                16448     \n",
            "                                                                 \n",
            " dense_2 (Dense)             (None, 64)                4160      \n",
            "                                                                 \n",
            " dense_3 (Dense)             (None, 32)                2080      \n",
            "                                                                 \n",
            " dense_4 (Dense)             (None, 10)                330       \n",
            "                                                                 \n",
            "=================================================================\n",
            "Total params: 223,978\n",
            "Trainable params: 223,978\n",
            "Non-trainable params: 0\n",
            "_________________________________________________________________\n"
          ]
        }
      ],
      "source": [
        "## Looking into our base model\n",
        "model.summary()"
      ]
    },
    {
      "cell_type": "code",
      "execution_count": null,
      "metadata": {
        "id": "WvZ9dJ8M4D9U"
      },
      "outputs": [],
      "source": [
        "checkpoint = ModelCheckpoint(\"model_weights.h5\",monitor='val_accuracy',\n",
        "                            save_weights_only=True, mode='max',verbose=1)\n",
        "reduce_lr = ReduceLROnPlateau(monitor='val_loss',factor=0.1,patience=2,min_lr=0.00001,model='auto')\n",
        "\n",
        "callbacks = [checkpoint,reduce_lr]"
      ]
    },
    {
      "cell_type": "code",
      "execution_count": null,
      "metadata": {
        "colab": {
          "base_uri": "https://localhost:8080/"
        },
        "id": "yLVwW55hSa67",
        "outputId": "2e4a22b9-3644-4050-eb5b-ec3cd7adacd7"
      },
      "outputs": [
        {
          "output_type": "stream",
          "name": "stdout",
          "text": [
            "Epoch 1/10\n",
            "\n",
            "Epoch 1: saving model to model_weights.h5\n",
            "375/375 - 14s - loss: 0.3267 - accuracy: 0.9036 - val_loss: 0.1610 - val_accuracy: 0.9567 - lr: 0.0010 - 14s/epoch - 37ms/step\n",
            "Epoch 2/10\n",
            "\n",
            "Epoch 2: saving model to model_weights.h5\n",
            "375/375 - 7s - loss: 0.1215 - accuracy: 0.9640 - val_loss: 0.1116 - val_accuracy: 0.9666 - lr: 0.0010 - 7s/epoch - 18ms/step\n",
            "Epoch 3/10\n",
            "\n",
            "Epoch 3: saving model to model_weights.h5\n",
            "375/375 - 4s - loss: 0.0819 - accuracy: 0.9745 - val_loss: 0.0944 - val_accuracy: 0.9722 - lr: 0.0010 - 4s/epoch - 10ms/step\n",
            "Epoch 4/10\n",
            "\n",
            "Epoch 4: saving model to model_weights.h5\n",
            "375/375 - 3s - loss: 0.0594 - accuracy: 0.9819 - val_loss: 0.1190 - val_accuracy: 0.9657 - lr: 0.0010 - 3s/epoch - 7ms/step\n",
            "Epoch 5/10\n",
            "\n",
            "Epoch 5: saving model to model_weights.h5\n",
            "375/375 - 4s - loss: 0.0446 - accuracy: 0.9863 - val_loss: 0.0923 - val_accuracy: 0.9718 - lr: 0.0010 - 4s/epoch - 9ms/step\n",
            "Epoch 6/10\n",
            "\n",
            "Epoch 6: saving model to model_weights.h5\n",
            "375/375 - 4s - loss: 0.0369 - accuracy: 0.9885 - val_loss: 0.1186 - val_accuracy: 0.9674 - lr: 0.0010 - 4s/epoch - 10ms/step\n",
            "Epoch 7/10\n",
            "\n",
            "Epoch 7: saving model to model_weights.h5\n",
            "375/375 - 3s - loss: 0.0298 - accuracy: 0.9904 - val_loss: 0.1047 - val_accuracy: 0.9718 - lr: 0.0010 - 3s/epoch - 8ms/step\n",
            "Epoch 8/10\n",
            "\n",
            "Epoch 8: saving model to model_weights.h5\n",
            "375/375 - 3s - loss: 0.0125 - accuracy: 0.9966 - val_loss: 0.0814 - val_accuracy: 0.9786 - lr: 1.0000e-04 - 3s/epoch - 7ms/step\n",
            "Epoch 9/10\n",
            "\n",
            "Epoch 9: saving model to model_weights.h5\n",
            "375/375 - 3s - loss: 0.0077 - accuracy: 0.9985 - val_loss: 0.0822 - val_accuracy: 0.9791 - lr: 1.0000e-04 - 3s/epoch - 9ms/step\n",
            "Epoch 10/10\n",
            "\n",
            "Epoch 10: saving model to model_weights.h5\n",
            "375/375 - 4s - loss: 0.0062 - accuracy: 0.9988 - val_loss: 0.0813 - val_accuracy: 0.9790 - lr: 1.0000e-04 - 4s/epoch - 10ms/step\n"
          ]
        }
      ],
      "source": [
        "# Fit the model\n",
        "history=model.fit(x_train, y_train, validation_split=0.2, epochs=10, batch_size=128, verbose=2,callbacks=callbacks)"
      ]
    },
    {
      "cell_type": "code",
      "execution_count": null,
      "metadata": {
        "id": "B8GLais7XBDn",
        "colab": {
          "base_uri": "https://localhost:8080/"
        },
        "outputId": "d986c167-435f-43a5-c819-25f3d1547b29"
      },
      "outputs": [
        {
          "output_type": "stream",
          "name": "stdout",
          "text": [
            "313/313 [==============================] - 1s 4ms/step\n"
          ]
        }
      ],
      "source": [
        "# predicting the model on test data\n",
        "y_pred=model.predict(x_test)\n"
      ]
    },
    {
      "cell_type": "code",
      "execution_count": null,
      "metadata": {
        "colab": {
          "base_uri": "https://localhost:8080/"
        },
        "id": "K01XP9CNaxyY",
        "outputId": "e974ff1c-1a15-41a2-9e61-7e9c5d071436"
      },
      "outputs": [
        {
          "output_type": "execute_result",
          "data": {
            "text/plain": [
              "array([9.0416620e-08, 2.7517427e-10, 2.0944827e-07, 4.4172539e-06,\n",
              "       2.1379200e-13, 9.2689025e-12, 4.4126381e-14, 9.9999422e-01,\n",
              "       2.0832802e-08, 9.7813336e-07], dtype=float32)"
            ]
          },
          "metadata": {},
          "execution_count": 15
        }
      ],
      "source": [
        "y_pred[0]"
      ]
    },
    {
      "cell_type": "code",
      "execution_count": null,
      "metadata": {
        "id": "5D5FLvn3X_VN"
      },
      "outputs": [],
      "source": [
        "# As our outputs are probabilities so we will try to get the output class from these probablities by getting the maximum value\n",
        "y_pred_final=[]\n",
        "for i in y_pred:\n",
        "  y_pred_final.append(np.argmax(i))"
      ]
    },
    {
      "cell_type": "code",
      "execution_count": null,
      "metadata": {
        "colab": {
          "base_uri": "https://localhost:8080/"
        },
        "id": "SM0tKCI9bByz",
        "outputId": "69d2d3c5-676e-4615-b713-1131e024487f"
      },
      "outputs": [
        {
          "output_type": "execute_result",
          "data": {
            "text/plain": [
              "7"
            ]
          },
          "metadata": {},
          "execution_count": 17
        }
      ],
      "source": [
        "y_pred_final[0]\n"
      ]
    },
    {
      "cell_type": "markdown",
      "metadata": {
        "id": "dQ__UZypubY5"
      },
      "source": [
        "## Generating classification report"
      ]
    },
    {
      "cell_type": "code",
      "execution_count": null,
      "metadata": {
        "colab": {
          "base_uri": "https://localhost:8080/"
        },
        "id": "G8WR5thXW1er",
        "outputId": "6afad68a-1e5d-43ac-cb19-885d5edee86b"
      },
      "outputs": [
        {
          "output_type": "stream",
          "name": "stdout",
          "text": [
            "              precision    recall  f1-score   support\n",
            "\n",
            "           0       0.98      0.99      0.99       980\n",
            "           1       0.99      0.99      0.99      1135\n",
            "           2       0.98      0.98      0.98      1032\n",
            "           3       0.98      0.99      0.98      1010\n",
            "           4       0.99      0.98      0.98       982\n",
            "           5       0.98      0.97      0.98       892\n",
            "           6       0.98      0.98      0.98       958\n",
            "           7       0.98      0.97      0.98      1028\n",
            "           8       0.97      0.98      0.97       974\n",
            "           9       0.97      0.97      0.97      1009\n",
            "\n",
            "    accuracy                           0.98     10000\n",
            "   macro avg       0.98      0.98      0.98     10000\n",
            "weighted avg       0.98      0.98      0.98     10000\n",
            "\n"
          ]
        }
      ],
      "source": [
        "from sklearn.metrics import classification_report\n",
        "print(classification_report(y_test,y_pred_final))"
      ]
    },
    {
      "cell_type": "markdown",
      "metadata": {
        "id": "CpRdFoieupqh"
      },
      "source": [
        "## Confusion Matrix"
      ]
    },
    {
      "cell_type": "code",
      "execution_count": null,
      "metadata": {
        "colab": {
          "base_uri": "https://localhost:8080/",
          "height": 619
        },
        "id": "6VdYmPDgZdL8",
        "outputId": "a6cb0c31-eea4-4efa-ac7d-ea0d7a3d259f"
      },
      "outputs": [
        {
          "output_type": "display_data",
          "data": {
            "text/plain": [
              "<Figure size 1000x700 with 2 Axes>"
            ],
            "image/png": "[encoded data removed]"
          },
          "metadata": {}
        }
      ],
      "source": [
        "from sklearn.metrics import confusion_matrix\n",
        "import seaborn as sns\n",
        "\n",
        "cm=confusion_matrix(y_test,y_pred_final)\n",
        "\n",
        "plt.figure(figsize=(10,7))\n",
        "sns.heatmap(cm,annot=True,fmt='d')\n",
        "plt.xlabel('Predicted')\n",
        "plt.ylabel('Truth')\n",
        "plt.show()"
      ]
    },
    {
      "cell_type": "markdown",
      "metadata": {
        "id": "GLhh3nxauyht"
      },
      "source": [
        "## Misclassified images"
      ]
    },
    {
      "cell_type": "code",
      "execution_count": null,
      "metadata": {
        "colab": {
          "base_uri": "https://localhost:8080/"
        },
        "id": "7FV3HGR7bMn9",
        "outputId": "46ac9bb5-3e9f-4283-edd0-4a758d1b7d03"
      },
      "outputs": [
        {
          "output_type": "stream",
          "name": "stdout",
          "text": [
            "[247, 321, 340, 445, 447, 495, 582, 619, 684, 720, 740, 882, 900, 947, 951, 965, 1003, 1014, 1032, 1039, 1044, 1112, 1156, 1182, 1194, 1226, 1232, 1242, 1247, 1253, 1270, 1299, 1319, 1328, 1378, 1393, 1464, 1494, 1522, 1530, 1549, 1553, 1626, 1681, 1709, 1717, 1790, 1901, 1941, 1952, 2004, 2024, 2035, 2053, 2098, 2109, 2118, 2135, 2148, 2272, 2293, 2339, 2369, 2387, 2462, 2488, 2582, 2597, 2607, 2648, 2654, 2845, 2877, 2896, 2921, 2930, 2939, 2952, 2953, 3060, 3073, 3117, 3172, 3225, 3289, 3422, 3441, 3490, 3503, 3520, 3533, 3549, 3558, 3604, 3681, 3727, 3751, 3776, 3780, 3808, 3853, 3855, 3869, 3893, 3906, 3941, 3943, 3976, 3985, 4065, 4075, 4140, 4176, 4199, 4201, 4224, 4248, 4294, 4350, 4425, 4433, 4497, 4536, 4690, 4723, 4731, 4807, 4823, 4876, 4880, 4943, 4966, 5138, 5331, 5457, 5634, 5642, 5676, 5734, 5749, 5887, 5936, 5937, 5955, 5973, 5997, 6011, 6045, 6059, 6166, 6505, 6555, 6560, 6571, 6574, 6597, 6598, 6641, 6651, 6755, 6783, 6847, 7619, 7800, 8020, 8094, 8183, 8255, 8311, 8325, 8502, 8522, 9009, 9015, 9019, 9024, 9587, 9634, 9642, 9664, 9669, 9679, 9698, 9700, 9729, 9745, 9749, 9770, 9792, 9808, 9811, 9839, 9858, 9904, 9982]\n",
            "195\n"
          ]
        }
      ],
      "source": [
        "index = 0\n",
        "misclassified_images = []\n",
        "for label, predict in zip(y_test, y_pred_final):\n",
        "    if label != predict:\n",
        "        misclassified_images.append(index)\n",
        "    index +=1\n",
        "print(misclassified_images)\n",
        "print(len(misclassified_images))"
      ]
    },
    {
      "cell_type": "markdown",
      "metadata": {
        "id": "5j1U2Js1u4OB"
      },
      "source": [
        "## Predicting the output"
      ]
    },
    {
      "cell_type": "code",
      "execution_count": null,
      "metadata": {
        "colab": {
          "base_uri": "https://localhost:8080/",
          "height": 534
        },
        "collapsed": true,
        "id": "T6fN12oQUIfC",
        "outputId": "bc922e65-0831-49aa-80da-29d5f20e301a"
      },
      "outputs": [
        {
          "output_type": "stream",
          "name": "stdout",
          "text": [
            "1/1 [==============================] - 0s 24ms/step\n",
            "Was predicted  0\n",
            "Was labeled  6\n",
            "Predicted Probabilities:  [[9.99040782e-01 5.92293134e-07 1.72523840e-09 6.75413978e-12\n",
            "  1.15447166e-10 3.23617860e-06 9.55007912e-04 3.57199667e-07\n",
            "  1.96522007e-10 3.71274247e-08]]\n"
          ]
        },
        {
          "output_type": "display_data",
          "data": {
            "text/plain": [
              "<Figure size 640x480 with 1 Axes>"
            ],
            "image/png": "[encoded data removed]"
          },
          "metadata": {}
        }
      ],
      "source": [
        "image_index = 445\n",
        "plt.imshow(x_test[image_index].reshape(28, 28),cmap='Greys')\n",
        "pred = model.predict(x_test[image_index].reshape(-1, 784))\n",
        "print(\"Was predicted \",pred.argmax())\n",
        "print(\"Was labeled \",y_test[image_index])\n",
        "print(\"Predicted Probabilities: \",pred)"
      ]
    },
    {
      "cell_type": "markdown",
      "metadata": {
        "id": "paaC3Etwu_EI"
      },
      "source": [
        "## Accuracy curve"
      ]
    },
    {
      "cell_type": "code",
      "execution_count": null,
      "metadata": {
        "colab": {
          "base_uri": "https://localhost:8080/",
          "height": 472
        },
        "id": "WsYXFGdydw-i",
        "outputId": "8d85e1f0-49ff-49cb-98d2-26ac7f31aa27"
      },
      "outputs": [
        {
          "output_type": "display_data",
          "data": {
            "text/plain": [
              "<Figure size 640x480 with 1 Axes>"
            ],
            "image/png": "[encoded data removed]"
          },
          "metadata": {}
        }
      ],
      "source": [
        "loss, accuracy  = model.evaluate(x_test, y_test_cat, verbose=False)\n",
        "\n",
        "plt.plot(history.history['accuracy'])\n",
        "plt.plot(history.history['val_accuracy'])\n",
        "plt.title('model accuracy')\n",
        "plt.ylabel('accuracy')\n",
        "plt.xlabel('epoch')\n",
        "plt.legend(['training', 'validation'], loc='best')\n",
        "plt.show()"
      ]
    }
  ],
  "metadata": {
    "accelerator": "TPU",
    "colab": {
      "provenance": [],
      "include_colab_link": true
    },
    "kernelspec": {
      "display_name": "Python 3",
      "language": "python",
      "name": "python3"
    },
    "language_info": {
      "codemirror_mode": {
        "name": "ipython",
        "version": 3
      },
      "file_extension": ".py",
      "mimetype": "text/x-python",
      "name": "python",
      "nbconvert_exporter": "python",
      "pygments_lexer": "ipython3",
      "version": "3.8.8"
    }
  },
  "nbformat": 4,
  "nbformat_minor": 0
}