{
  "cells": [
    {
      "cell_type": "markdown",
      "metadata": {
        "id": "view-in-github",
        "colab_type": "text"
      },
      "source": [
        "<a href=\"https://colab.research.google.com/github/e-abtahi/Neural_Networks_Portfolio/blob/main/Application_Case_Loans_Payoff/Loans_Payoff.ipynb\" target=\"_parent\"><img src=\"https://colab.research.google.com/assets/colab-badge.svg\" alt=\"Open In Colab\"/></a>"
      ]
    },
    {
      "cell_type": "markdown",
      "id": "ea0ceabb",
      "metadata": {
        "id": "ea0ceabb"
      },
      "source": [
        "# Problem Statement:\n",
        "\n",
        "This data set includes customers who have paid off their loans, who have been past due and put into collection without paying back their loan and interests, and who have paid off only after they were put in the collection. The financial product is a bullet loan that customers should pay off all of their loan debt in just one time by the end of the term, instead of an installment schedule. Of course, they could pay off earlier than their pay schedule.\n",
        "\n",
        "### Attribute information:\n",
        "\n",
        "- Loan_status: Whether a loan is paid off, in the collection, new customer yet to pay off, or paid off after the collection efforts\n",
        "\n",
        "- Principal: Basic principal loan amount at the origination\n",
        "\n",
        "- terms: Can be weekly (7 days), biweekly, and monthly payoff schedule\n",
        "\n",
        "- Age, education, gender: A customer’s basic demographic information"
      ]
    },
    {
      "cell_type": "markdown",
      "id": "8030dc7f",
      "metadata": {
        "id": "8030dc7f"
      },
      "source": [
        "### Importing the required libraries"
      ]
    },
    {
      "cell_type": "code",
      "execution_count": 3,
      "id": "3a027acf",
      "metadata": {
        "id": "3a027acf"
      },
      "outputs": [],
      "source": [
        "# Libraries to help with reading and manipulating data\n",
        "import pandas as pd\n",
        "import numpy as np\n",
        "# libaries to help with data visualization\n",
        "import matplotlib.pyplot as plt\n",
        "%matplotlib inline\n",
        "import seaborn as sns\n",
        "# Library to encode the variables\n",
        "from sklearn.preprocessing import OneHotEncoder\n",
        " # Library to split data\n",
        "from sklearn.model_selection import train_test_split\n",
        "# library to import different optimizers\n",
        "from tensorflow.keras import optimizers\n",
        "# Library to import different loss functions\n",
        "from tensorflow.keras import losses\n",
        "from tensorflow.keras.layers import Dense\n",
        "# Library to avoid the warnings\n",
        "import warnings\n",
        "warnings.filterwarnings('ignore')\n",
        "# importing keras library\n",
        "from tensorflow import keras\n",
        "# library to convert the target variables to numpy arrays\n",
        "from tensorflow.keras.utils import to_categorical\n",
        "# library to plot classification report\n",
        "from sklearn.metrics import classification_report"
      ]
    },
    {
      "cell_type": "markdown",
      "id": "dbf5abac",
      "metadata": {
        "id": "dbf5abac"
      },
      "source": [
        "### Q Import the dataset and answer the below question.\n",
        "### Is the given problem statement a binary classification problem, and how many unique values are present in the target(loan_status) column?\n",
        "- Yes,2\n",
        "- No, 5\n",
        "- Yes,4\n",
        "- No, 3"
      ]
    },
    {
      "cell_type": "code",
      "execution_count": 8,
      "id": "a71e7e72",
      "metadata": {
        "colab": {
          "base_uri": "https://localhost:8080/"
        },
        "id": "a71e7e72",
        "outputId": "d115c671-9780-42f8-839b-1b05314df24d"
      },
      "outputs": [
        {
          "output_type": "stream",
          "name": "stdout",
          "text": [
            "Drive already mounted at /content/drive; to attempt to forcibly remount, call drive.mount(\"/content/drive\", force_remount=True).\n"
          ]
        }
      ],
      "source": [
        "from google.colab import drive\n",
        "drive.mount('/content/drive')\n",
        "\n",
        "data = pd.read_csv('/content/drive/MyDrive/new_preprocessed_data.csv')"
      ]
    },
    {
      "cell_type": "code",
      "execution_count": 9,
      "id": "f67e6da0",
      "metadata": {
        "colab": {
          "base_uri": "https://localhost:8080/"
        },
        "id": "f67e6da0",
        "outputId": "ea97c2cf-b0bc-4342-8cea-62bba59bd171"
      },
      "outputs": [
        {
          "output_type": "execute_result",
          "data": {
            "text/plain": [
              "3"
            ]
          },
          "metadata": {},
          "execution_count": 9
        }
      ],
      "source": [
        "data.loan_status.nunique()"
      ]
    },
    {
      "cell_type": "markdown",
      "id": "c8ffda70",
      "metadata": {
        "id": "c8ffda70"
      },
      "source": [
        "### Correct Answer:  No, 3\n",
        "\n",
        "**Explanation** Since the given problem statement has three classes to predict, this will be a Multi-class classification problem. If there are two classes to predict, it will be a binary classification problem."
      ]
    },
    {
      "cell_type": "markdown",
      "id": "9ac39d2a",
      "metadata": {
        "id": "9ac39d2a"
      },
      "source": [
        "### Q Build a Neural Network model on the dataset and Obtain accuracy by following the below steps:\n",
        "\n",
        "- Store the Independent and Dependent features in X and y\n",
        "- Use train_test split to split the data (80% for training and 20% for testing)\n",
        "- Convert the target feature into a numpy array using Keras to_categorical function\n",
        "\n",
        "Use the below parameters mentioned.\n",
        "- Number of neurons in First and second layers are 64 and 32 respectively.\n",
        "- Use ReLu as an Activation function in Hidden layers and Adam as Optimizer with 1e-3 as learning rate\n",
        "- Built the model on 50 Epochs\n",
        "\n",
        "\n",
        "- **Note** - Do not use stratify sampling and Callbacks.\n",
        "\n",
        "\n",
        "- `>`80 and `<`90\n",
        "- `>`90 and `<`95\n",
        "- `>`95\n",
        "- `<`70"
      ]
    },
    {
      "cell_type": "code",
      "execution_count": 10,
      "id": "533f32cf",
      "metadata": {
        "id": "533f32cf"
      },
      "outputs": [],
      "source": [
        "#Store the Independent and Dependent features in X and y\n",
        "X = data.drop('loan_status',axis=1)\n",
        "Y = data[['loan_status']]"
      ]
    },
    {
      "cell_type": "code",
      "execution_count": 11,
      "id": "b5a98857",
      "metadata": {
        "id": "b5a98857"
      },
      "outputs": [],
      "source": [
        "# Use train_test split to split the data (80% for training and 20% for testing)\n",
        "X_train, X_test, y_train, y_test=train_test_split(X, Y, test_size=0.2, random_state=1)"
      ]
    },
    {
      "cell_type": "code",
      "execution_count": 12,
      "id": "c5fd0c83",
      "metadata": {
        "id": "c5fd0c83"
      },
      "outputs": [],
      "source": [
        "# Convert the target feature into a NumPy array using Keras to_categorical function\n",
        "y_train = to_categorical(y_train, 3)\n",
        "y_test_cat = to_categorical(y_test, 3)"
      ]
    },
    {
      "cell_type": "code",
      "execution_count": 13,
      "id": "68d4dc15",
      "metadata": {
        "scrolled": true,
        "colab": {
          "base_uri": "https://localhost:8080/"
        },
        "id": "68d4dc15",
        "outputId": "a02b08be-a9bc-42bc-ec50-b2b0ac886e6a"
      },
      "outputs": [
        {
          "output_type": "stream",
          "name": "stderr",
          "text": [
            "WARNING:absl:`lr` is deprecated in Keras optimizer, please use `learning_rate` or use the legacy optimizer, e.g.,tf.keras.optimizers.legacy.Adam.\n"
          ]
        },
        {
          "output_type": "stream",
          "name": "stdout",
          "text": [
            "Epoch 1/50\n",
            "10/10 - 1s - loss: 34.8240 - accuracy: 0.5688 - val_loss: 23.3857 - val_accuracy: 0.6125 - 1s/epoch - 126ms/step\n",
            "Epoch 2/50\n",
            "10/10 - 0s - loss: 9.1396 - accuracy: 0.3281 - val_loss: 4.3435 - val_accuracy: 0.6000 - 59ms/epoch - 6ms/step\n",
            "Epoch 3/50\n",
            "10/10 - 0s - loss: 4.8381 - accuracy: 0.5875 - val_loss: 5.3509 - val_accuracy: 0.1375 - 71ms/epoch - 7ms/step\n",
            "Epoch 4/50\n",
            "10/10 - 0s - loss: 3.4074 - accuracy: 0.4375 - val_loss: 1.6162 - val_accuracy: 0.6000 - 77ms/epoch - 8ms/step\n",
            "Epoch 5/50\n",
            "10/10 - 0s - loss: 1.7155 - accuracy: 0.3500 - val_loss: 1.1315 - val_accuracy: 0.4500 - 80ms/epoch - 8ms/step\n",
            "Epoch 6/50\n",
            "10/10 - 0s - loss: 1.3778 - accuracy: 0.5000 - val_loss: 1.5722 - val_accuracy: 0.6000 - 87ms/epoch - 9ms/step\n",
            "Epoch 7/50\n",
            "10/10 - 0s - loss: 1.3170 - accuracy: 0.5000 - val_loss: 1.1524 - val_accuracy: 0.5000 - 72ms/epoch - 7ms/step\n",
            "Epoch 8/50\n",
            "10/10 - 0s - loss: 1.1197 - accuracy: 0.4625 - val_loss: 1.0374 - val_accuracy: 0.5000 - 84ms/epoch - 8ms/step\n",
            "Epoch 9/50\n",
            "10/10 - 0s - loss: 1.0631 - accuracy: 0.5938 - val_loss: 1.0997 - val_accuracy: 0.5000 - 77ms/epoch - 8ms/step\n",
            "Epoch 10/50\n",
            "10/10 - 0s - loss: 1.1176 - accuracy: 0.5344 - val_loss: 1.6371 - val_accuracy: 0.6000 - 74ms/epoch - 7ms/step\n",
            "Epoch 11/50\n",
            "10/10 - 0s - loss: 1.4250 - accuracy: 0.4625 - val_loss: 1.3091 - val_accuracy: 0.6000 - 74ms/epoch - 7ms/step\n",
            "Epoch 12/50\n",
            "10/10 - 0s - loss: 1.1850 - accuracy: 0.5562 - val_loss: 1.0823 - val_accuracy: 0.5500 - 79ms/epoch - 8ms/step\n",
            "Epoch 13/50\n",
            "10/10 - 0s - loss: 1.1287 - accuracy: 0.5125 - val_loss: 1.3345 - val_accuracy: 0.5500 - 68ms/epoch - 7ms/step\n",
            "Epoch 14/50\n",
            "10/10 - 0s - loss: 1.0877 - accuracy: 0.5188 - val_loss: 1.1328 - val_accuracy: 0.6000 - 61ms/epoch - 6ms/step\n",
            "Epoch 15/50\n",
            "10/10 - 0s - loss: 1.0711 - accuracy: 0.5813 - val_loss: 1.3571 - val_accuracy: 0.2375 - 72ms/epoch - 7ms/step\n",
            "Epoch 16/50\n",
            "10/10 - 0s - loss: 1.1862 - accuracy: 0.5562 - val_loss: 0.9767 - val_accuracy: 0.5750 - 78ms/epoch - 8ms/step\n",
            "Epoch 17/50\n",
            "10/10 - 0s - loss: 1.0017 - accuracy: 0.5656 - val_loss: 1.3763 - val_accuracy: 0.1500 - 65ms/epoch - 6ms/step\n",
            "Epoch 18/50\n",
            "10/10 - 0s - loss: 1.1333 - accuracy: 0.4969 - val_loss: 0.9740 - val_accuracy: 0.5625 - 66ms/epoch - 7ms/step\n",
            "Epoch 19/50\n",
            "10/10 - 0s - loss: 1.0843 - accuracy: 0.5719 - val_loss: 1.2803 - val_accuracy: 0.6125 - 61ms/epoch - 6ms/step\n",
            "Epoch 20/50\n",
            "10/10 - 0s - loss: 1.2237 - accuracy: 0.4563 - val_loss: 1.2051 - val_accuracy: 0.6125 - 48ms/epoch - 5ms/step\n",
            "Epoch 21/50\n",
            "10/10 - 0s - loss: 1.0131 - accuracy: 0.6250 - val_loss: 1.2464 - val_accuracy: 0.1625 - 65ms/epoch - 7ms/step\n",
            "Epoch 22/50\n",
            "10/10 - 0s - loss: 1.1969 - accuracy: 0.5063 - val_loss: 1.9391 - val_accuracy: 0.6125 - 50ms/epoch - 5ms/step\n",
            "Epoch 23/50\n",
            "10/10 - 0s - loss: 1.1253 - accuracy: 0.5844 - val_loss: 1.1736 - val_accuracy: 0.6125 - 65ms/epoch - 7ms/step\n",
            "Epoch 24/50\n",
            "10/10 - 0s - loss: 1.1982 - accuracy: 0.5688 - val_loss: 1.3099 - val_accuracy: 0.1375 - 61ms/epoch - 6ms/step\n",
            "Epoch 25/50\n",
            "10/10 - 0s - loss: 1.3547 - accuracy: 0.5437 - val_loss: 1.9037 - val_accuracy: 0.6000 - 52ms/epoch - 5ms/step\n",
            "Epoch 26/50\n",
            "10/10 - 0s - loss: 1.4063 - accuracy: 0.4875 - val_loss: 1.3145 - val_accuracy: 0.6125 - 63ms/epoch - 6ms/step\n",
            "Epoch 27/50\n",
            "10/10 - 0s - loss: 1.3098 - accuracy: 0.5031 - val_loss: 1.4081 - val_accuracy: 0.1625 - 56ms/epoch - 6ms/step\n",
            "Epoch 28/50\n",
            "10/10 - 0s - loss: 1.1670 - accuracy: 0.5219 - val_loss: 1.1024 - val_accuracy: 0.5375 - 60ms/epoch - 6ms/step\n",
            "Epoch 29/50\n",
            "10/10 - 0s - loss: 1.0347 - accuracy: 0.6000 - val_loss: 1.0764 - val_accuracy: 0.6125 - 55ms/epoch - 6ms/step\n",
            "Epoch 30/50\n",
            "10/10 - 0s - loss: 1.3135 - accuracy: 0.5156 - val_loss: 1.3309 - val_accuracy: 0.6125 - 54ms/epoch - 5ms/step\n",
            "Epoch 31/50\n",
            "10/10 - 0s - loss: 1.1870 - accuracy: 0.5562 - val_loss: 1.0191 - val_accuracy: 0.6125 - 64ms/epoch - 6ms/step\n",
            "Epoch 32/50\n",
            "10/10 - 0s - loss: 1.1804 - accuracy: 0.5219 - val_loss: 1.0677 - val_accuracy: 0.6125 - 52ms/epoch - 5ms/step\n",
            "Epoch 33/50\n",
            "10/10 - 0s - loss: 1.2044 - accuracy: 0.5063 - val_loss: 1.5322 - val_accuracy: 0.5625 - 64ms/epoch - 6ms/step\n",
            "Epoch 34/50\n",
            "10/10 - 0s - loss: 1.1218 - accuracy: 0.5562 - val_loss: 1.4984 - val_accuracy: 0.2500 - 50ms/epoch - 5ms/step\n",
            "Epoch 35/50\n",
            "10/10 - 0s - loss: 1.4422 - accuracy: 0.4844 - val_loss: 1.5788 - val_accuracy: 0.1625 - 74ms/epoch - 7ms/step\n",
            "Epoch 36/50\n",
            "10/10 - 0s - loss: 1.2815 - accuracy: 0.4781 - val_loss: 1.0324 - val_accuracy: 0.6125 - 67ms/epoch - 7ms/step\n",
            "Epoch 37/50\n",
            "10/10 - 0s - loss: 1.1838 - accuracy: 0.5125 - val_loss: 1.2051 - val_accuracy: 0.4125 - 67ms/epoch - 7ms/step\n",
            "Epoch 38/50\n",
            "10/10 - 0s - loss: 1.0958 - accuracy: 0.5500 - val_loss: 0.9611 - val_accuracy: 0.6125 - 51ms/epoch - 5ms/step\n",
            "Epoch 39/50\n",
            "10/10 - 0s - loss: 1.1159 - accuracy: 0.5750 - val_loss: 1.0300 - val_accuracy: 0.6125 - 71ms/epoch - 7ms/step\n",
            "Epoch 40/50\n",
            "10/10 - 0s - loss: 1.0681 - accuracy: 0.5625 - val_loss: 1.4118 - val_accuracy: 0.6000 - 65ms/epoch - 7ms/step\n",
            "Epoch 41/50\n",
            "10/10 - 0s - loss: 1.1553 - accuracy: 0.5031 - val_loss: 1.8033 - val_accuracy: 0.6125 - 49ms/epoch - 5ms/step\n",
            "Epoch 42/50\n",
            "10/10 - 0s - loss: 1.7182 - accuracy: 0.4844 - val_loss: 1.8846 - val_accuracy: 0.1625 - 68ms/epoch - 7ms/step\n",
            "Epoch 43/50\n",
            "10/10 - 0s - loss: 1.6783 - accuracy: 0.4563 - val_loss: 1.5915 - val_accuracy: 0.6125 - 50ms/epoch - 5ms/step\n",
            "Epoch 44/50\n",
            "10/10 - 0s - loss: 1.4569 - accuracy: 0.5250 - val_loss: 1.0974 - val_accuracy: 0.3125 - 65ms/epoch - 7ms/step\n",
            "Epoch 45/50\n",
            "10/10 - 0s - loss: 1.3969 - accuracy: 0.4563 - val_loss: 1.8900 - val_accuracy: 0.6125 - 63ms/epoch - 6ms/step\n",
            "Epoch 46/50\n",
            "10/10 - 0s - loss: 1.5127 - accuracy: 0.4031 - val_loss: 1.3478 - val_accuracy: 0.6125 - 52ms/epoch - 5ms/step\n",
            "Epoch 47/50\n",
            "10/10 - 0s - loss: 1.7564 - accuracy: 0.5031 - val_loss: 1.3712 - val_accuracy: 0.1875 - 70ms/epoch - 7ms/step\n",
            "Epoch 48/50\n",
            "10/10 - 0s - loss: 1.5750 - accuracy: 0.4250 - val_loss: 1.1270 - val_accuracy: 0.6125 - 53ms/epoch - 5ms/step\n",
            "Epoch 49/50\n",
            "10/10 - 0s - loss: 1.2215 - accuracy: 0.5219 - val_loss: 1.5953 - val_accuracy: 0.6125 - 65ms/epoch - 7ms/step\n",
            "Epoch 50/50\n",
            "10/10 - 0s - loss: 1.2549 - accuracy: 0.5063 - val_loss: 0.9741 - val_accuracy: 0.6125 - 52ms/epoch - 5ms/step\n"
          ]
        }
      ],
      "source": [
        "# Model Building\n",
        "#Defining the model\n",
        "model = keras.Sequential()\n",
        "# Adding the input layer with 64 neurons with relu as an activation function with input shape 11\n",
        "model.add(Dense(64, activation='relu',input_shape=(11,)))\n",
        "# Adding the first hidden layer with 32 neurons with relu as an activation function\n",
        "model.add(Dense(32, activation='relu'))\n",
        "# Defining the output layer with 3 neurons with softmax as an activation function\n",
        "model.add(Dense(3, activation='softmax'))\n",
        "# Defining the Adam Optimizers\n",
        "adam = optimizers.Adam(lr=1e-3)\n",
        "# Compiling the model with categorical crossentropy as loss function with accuracy as metrics\n",
        "model.compile(loss=losses.categorical_crossentropy, optimizer=adam, metrics=['accuracy'])\n",
        "# Fitting the model on X_train and y_train with 50 epcohs with 20% of validation split\n",
        "history=model.fit(X_train, y_train, epochs=50,  validation_split=0.2,  verbose=2)"
      ]
    },
    {
      "cell_type": "markdown",
      "id": "e3aab14e",
      "metadata": {
        "id": "e3aab14e"
      },
      "source": [
        "### Correct Answer: **<70**"
      ]
    },
    {
      "cell_type": "markdown",
      "id": "86f7aede",
      "metadata": {
        "id": "86f7aede"
      },
      "source": [
        "### Q For the above model built, find the f1 - score for the 0th class using the classification report.\n",
        "\n",
        "- 0.51 - 0.55\n",
        "- 0.71 - 0.80\n",
        "- 0.60 - 0.70\n",
        "- 0.35 - 0.50"
      ]
    },
    {
      "cell_type": "code",
      "execution_count": 14,
      "id": "ad49526a",
      "metadata": {
        "colab": {
          "base_uri": "https://localhost:8080/"
        },
        "id": "ad49526a",
        "outputId": "a4fbfff1-f3f6-4030-af71-f0aa863a125e"
      },
      "outputs": [
        {
          "output_type": "stream",
          "name": "stdout",
          "text": [
            "4/4 [==============================] - 0s 3ms/step\n"
          ]
        }
      ],
      "source": [
        "# Predicting on Test data\n",
        "y_pred=model.predict(X_test)"
      ]
    },
    {
      "cell_type": "code",
      "execution_count": 15,
      "id": "eeb0f724",
      "metadata": {
        "id": "eeb0f724"
      },
      "outputs": [],
      "source": [
        "# Appling argmax function\n",
        "y_pred_final=[]\n",
        "for i in y_pred:\n",
        "    y_pred_final.append(np.argmax(i))"
      ]
    },
    {
      "cell_type": "code",
      "execution_count": 16,
      "id": "106803d1",
      "metadata": {
        "colab": {
          "base_uri": "https://localhost:8080/"
        },
        "id": "106803d1",
        "outputId": "b0c27f6d-5220-4005-f1cc-642b0bd57bac"
      },
      "outputs": [
        {
          "output_type": "stream",
          "name": "stdout",
          "text": [
            "              precision    recall  f1-score   support\n",
            "\n",
            "           0       0.51      1.00      0.68        51\n",
            "           1       0.00      0.00      0.00        23\n",
            "           2       0.00      0.00      0.00        26\n",
            "\n",
            "    accuracy                           0.51       100\n",
            "   macro avg       0.17      0.33      0.23       100\n",
            "weighted avg       0.26      0.51      0.34       100\n",
            "\n"
          ]
        }
      ],
      "source": [
        "# Classification report\n",
        "print(classification_report(y_test,y_pred_final))"
      ]
    },
    {
      "cell_type": "markdown",
      "id": "b521e5ef",
      "metadata": {
        "id": "b521e5ef"
      },
      "source": [
        "### Correct Answer: 0.60 - 0.70"
      ]
    },
    {
      "cell_type": "markdown",
      "id": "1ec0cfbe",
      "metadata": {
        "id": "1ec0cfbe"
      },
      "source": [
        "### Q Build a model on the data using below hyperparameters and find the accuracy.\n",
        "\n",
        "- The number of neurons in First,second, thrid and fourth layers should be 128,64,64 and 32 respectively.\n",
        "- Use ReLu as an Activation function in Hidden layers and Adam as Optimizer with 1e-3 as learning rate\n",
        "- Built the model on 200 Epochs\n",
        "\n",
        "**Note** - Do not use stratify sampling and Callbacks.\n",
        "\n",
        "- `>`80 and `<`90\n",
        "- `>`90 and `<`95\n",
        "- `>`95\n",
        "- `<`75"
      ]
    },
    {
      "cell_type": "code",
      "execution_count": 17,
      "id": "2e49b038",
      "metadata": {
        "scrolled": true,
        "colab": {
          "base_uri": "https://localhost:8080/"
        },
        "id": "2e49b038",
        "outputId": "fccfec14-2fd5-4dc1-fee4-678a6c83606b"
      },
      "outputs": [
        {
          "output_type": "stream",
          "name": "stderr",
          "text": [
            "WARNING:absl:`lr` is deprecated in Keras optimizer, please use `learning_rate` or use the legacy optimizer, e.g.,tf.keras.optimizers.legacy.Adam.\n"
          ]
        },
        {
          "output_type": "stream",
          "name": "stdout",
          "text": [
            "Epoch 1/200\n",
            "3/3 - 2s - loss: 130.9166 - accuracy: 0.2000 - val_loss: 57.3524 - val_accuracy: 0.6125 - 2s/epoch - 520ms/step\n",
            "Epoch 2/200\n",
            "3/3 - 0s - loss: 77.3426 - accuracy: 0.6250 - val_loss: 103.8137 - val_accuracy: 0.6125 - 82ms/epoch - 27ms/step\n",
            "Epoch 3/200\n",
            "3/3 - 0s - loss: 96.1648 - accuracy: 0.6250 - val_loss: 62.2005 - val_accuracy: 0.6125 - 73ms/epoch - 24ms/step\n",
            "Epoch 4/200\n",
            "3/3 - 0s - loss: 50.7936 - accuracy: 0.5594 - val_loss: 34.6427 - val_accuracy: 0.2375 - 82ms/epoch - 27ms/step\n",
            "Epoch 5/200\n",
            "3/3 - 0s - loss: 25.6208 - accuracy: 0.3406 - val_loss: 19.0342 - val_accuracy: 0.6125 - 86ms/epoch - 29ms/step\n",
            "Epoch 6/200\n",
            "3/3 - 0s - loss: 15.6924 - accuracy: 0.5719 - val_loss: 36.8400 - val_accuracy: 0.1500 - 79ms/epoch - 26ms/step\n",
            "Epoch 7/200\n",
            "3/3 - 0s - loss: 24.8140 - accuracy: 0.2469 - val_loss: 25.5231 - val_accuracy: 0.6125 - 85ms/epoch - 28ms/step\n",
            "Epoch 8/200\n",
            "3/3 - 0s - loss: 21.6241 - accuracy: 0.6250 - val_loss: 11.6677 - val_accuracy: 0.6125 - 81ms/epoch - 27ms/step\n",
            "Epoch 9/200\n",
            "3/3 - 0s - loss: 12.3022 - accuracy: 0.3531 - val_loss: 6.0352 - val_accuracy: 0.6000 - 78ms/epoch - 26ms/step\n",
            "Epoch 10/200\n",
            "3/3 - 0s - loss: 7.1147 - accuracy: 0.5531 - val_loss: 11.8511 - val_accuracy: 0.1875 - 67ms/epoch - 22ms/step\n",
            "Epoch 11/200\n",
            "3/3 - 0s - loss: 12.5810 - accuracy: 0.4500 - val_loss: 16.9462 - val_accuracy: 0.6125 - 75ms/epoch - 25ms/step\n",
            "Epoch 12/200\n",
            "3/3 - 0s - loss: 10.0574 - accuracy: 0.5531 - val_loss: 9.2451 - val_accuracy: 0.2375 - 67ms/epoch - 22ms/step\n",
            "Epoch 13/200\n",
            "3/3 - 0s - loss: 5.8301 - accuracy: 0.3625 - val_loss: 6.6567 - val_accuracy: 0.6000 - 68ms/epoch - 23ms/step\n",
            "Epoch 14/200\n",
            "3/3 - 0s - loss: 4.8766 - accuracy: 0.4281 - val_loss: 3.2184 - val_accuracy: 0.5250 - 72ms/epoch - 24ms/step\n",
            "Epoch 15/200\n",
            "3/3 - 0s - loss: 2.1615 - accuracy: 0.4625 - val_loss: 3.1313 - val_accuracy: 0.5000 - 77ms/epoch - 26ms/step\n",
            "Epoch 16/200\n",
            "3/3 - 0s - loss: 2.3604 - accuracy: 0.5094 - val_loss: 5.1326 - val_accuracy: 0.1375 - 71ms/epoch - 24ms/step\n",
            "Epoch 17/200\n",
            "3/3 - 0s - loss: 4.8175 - accuracy: 0.4187 - val_loss: 2.8771 - val_accuracy: 0.4375 - 60ms/epoch - 20ms/step\n",
            "Epoch 18/200\n",
            "3/3 - 0s - loss: 4.3289 - accuracy: 0.2844 - val_loss: 11.3866 - val_accuracy: 0.6125 - 62ms/epoch - 21ms/step\n",
            "Epoch 19/200\n",
            "3/3 - 0s - loss: 12.0368 - accuracy: 0.6250 - val_loss: 13.7230 - val_accuracy: 0.6125 - 75ms/epoch - 25ms/step\n",
            "Epoch 20/200\n",
            "3/3 - 0s - loss: 9.6687 - accuracy: 0.5594 - val_loss: 13.9079 - val_accuracy: 0.1250 - 66ms/epoch - 22ms/step\n",
            "Epoch 21/200\n",
            "3/3 - 0s - loss: 11.7405 - accuracy: 0.2531 - val_loss: 10.3583 - val_accuracy: 0.6000 - 65ms/epoch - 22ms/step\n",
            "Epoch 22/200\n",
            "3/3 - 0s - loss: 10.0042 - accuracy: 0.6219 - val_loss: 9.3247 - val_accuracy: 0.2375 - 79ms/epoch - 26ms/step\n",
            "Epoch 23/200\n",
            "3/3 - 0s - loss: 6.0031 - accuracy: 0.4000 - val_loss: 11.0266 - val_accuracy: 0.1500 - 73ms/epoch - 24ms/step\n",
            "Epoch 24/200\n",
            "3/3 - 0s - loss: 6.7980 - accuracy: 0.3625 - val_loss: 12.0707 - val_accuracy: 0.6125 - 71ms/epoch - 24ms/step\n",
            "Epoch 25/200\n",
            "3/3 - 0s - loss: 9.5075 - accuracy: 0.6250 - val_loss: 13.5824 - val_accuracy: 0.2375 - 59ms/epoch - 20ms/step\n",
            "Epoch 26/200\n",
            "3/3 - 0s - loss: 10.5822 - accuracy: 0.2438 - val_loss: 10.1298 - val_accuracy: 0.6125 - 85ms/epoch - 28ms/step\n",
            "Epoch 27/200\n",
            "3/3 - 0s - loss: 9.7946 - accuracy: 0.4625 - val_loss: 18.6687 - val_accuracy: 0.6125 - 71ms/epoch - 24ms/step\n",
            "Epoch 28/200\n",
            "3/3 - 0s - loss: 13.2870 - accuracy: 0.5531 - val_loss: 14.2661 - val_accuracy: 0.1625 - 79ms/epoch - 26ms/step\n",
            "Epoch 29/200\n",
            "3/3 - 0s - loss: 12.2737 - accuracy: 0.4187 - val_loss: 10.6490 - val_accuracy: 0.6125 - 51ms/epoch - 17ms/step\n",
            "Epoch 30/200\n",
            "3/3 - 0s - loss: 10.3790 - accuracy: 0.3438 - val_loss: 11.2914 - val_accuracy: 0.6125 - 75ms/epoch - 25ms/step\n",
            "Epoch 31/200\n",
            "3/3 - 0s - loss: 12.4635 - accuracy: 0.6250 - val_loss: 9.0554 - val_accuracy: 0.6125 - 54ms/epoch - 18ms/step\n",
            "Epoch 32/200\n",
            "3/3 - 0s - loss: 10.4247 - accuracy: 0.3781 - val_loss: 3.1730 - val_accuracy: 0.6000 - 71ms/epoch - 24ms/step\n",
            "Epoch 33/200\n",
            "3/3 - 0s - loss: 4.4564 - accuracy: 0.5250 - val_loss: 5.3137 - val_accuracy: 0.5750 - 55ms/epoch - 18ms/step\n",
            "Epoch 34/200\n",
            "3/3 - 0s - loss: 5.3937 - accuracy: 0.6062 - val_loss: 7.7600 - val_accuracy: 0.2375 - 52ms/epoch - 17ms/step\n",
            "Epoch 35/200\n",
            "3/3 - 0s - loss: 7.1628 - accuracy: 0.2625 - val_loss: 8.7239 - val_accuracy: 0.6125 - 53ms/epoch - 18ms/step\n",
            "Epoch 36/200\n",
            "3/3 - 0s - loss: 6.3184 - accuracy: 0.5625 - val_loss: 4.0273 - val_accuracy: 0.3375 - 53ms/epoch - 18ms/step\n",
            "Epoch 37/200\n",
            "3/3 - 0s - loss: 3.5537 - accuracy: 0.4563 - val_loss: 2.5345 - val_accuracy: 0.4750 - 71ms/epoch - 24ms/step\n",
            "Epoch 38/200\n",
            "3/3 - 0s - loss: 2.8769 - accuracy: 0.5531 - val_loss: 7.9790 - val_accuracy: 0.1500 - 57ms/epoch - 19ms/step\n",
            "Epoch 39/200\n",
            "3/3 - 0s - loss: 4.1435 - accuracy: 0.4344 - val_loss: 7.0425 - val_accuracy: 0.2375 - 72ms/epoch - 24ms/step\n",
            "Epoch 40/200\n",
            "3/3 - 0s - loss: 4.2512 - accuracy: 0.4437 - val_loss: 6.5299 - val_accuracy: 0.1500 - 76ms/epoch - 25ms/step\n",
            "Epoch 41/200\n",
            "3/3 - 0s - loss: 4.3893 - accuracy: 0.4594 - val_loss: 3.9967 - val_accuracy: 0.2375 - 76ms/epoch - 25ms/step\n",
            "Epoch 42/200\n",
            "3/3 - 0s - loss: 3.1461 - accuracy: 0.3625 - val_loss: 3.1034 - val_accuracy: 0.6000 - 59ms/epoch - 20ms/step\n",
            "Epoch 43/200\n",
            "3/3 - 0s - loss: 2.3966 - accuracy: 0.5094 - val_loss: 1.7053 - val_accuracy: 0.4625 - 69ms/epoch - 23ms/step\n",
            "Epoch 44/200\n",
            "3/3 - 0s - loss: 2.1135 - accuracy: 0.5719 - val_loss: 5.7147 - val_accuracy: 0.1125 - 52ms/epoch - 17ms/step\n",
            "Epoch 45/200\n",
            "3/3 - 0s - loss: 4.5975 - accuracy: 0.2937 - val_loss: 10.4988 - val_accuracy: 0.6125 - 55ms/epoch - 18ms/step\n",
            "Epoch 46/200\n",
            "3/3 - 0s - loss: 7.9231 - accuracy: 0.6250 - val_loss: 13.2202 - val_accuracy: 0.1500 - 48ms/epoch - 16ms/step\n",
            "Epoch 47/200\n",
            "3/3 - 0s - loss: 7.7219 - accuracy: 0.2875 - val_loss: 6.2259 - val_accuracy: 0.2875 - 50ms/epoch - 17ms/step\n",
            "Epoch 48/200\n",
            "3/3 - 0s - loss: 9.6450 - accuracy: 0.4688 - val_loss: 10.8911 - val_accuracy: 0.2375 - 75ms/epoch - 25ms/step\n",
            "Epoch 49/200\n",
            "3/3 - 0s - loss: 13.9197 - accuracy: 0.4156 - val_loss: 10.4265 - val_accuracy: 0.6125 - 73ms/epoch - 24ms/step\n",
            "Epoch 50/200\n",
            "3/3 - 0s - loss: 9.1382 - accuracy: 0.5094 - val_loss: 15.0323 - val_accuracy: 0.1500 - 57ms/epoch - 19ms/step\n",
            "Epoch 51/200\n",
            "3/3 - 0s - loss: 12.0995 - accuracy: 0.2688 - val_loss: 13.1340 - val_accuracy: 0.6125 - 71ms/epoch - 24ms/step\n",
            "Epoch 52/200\n",
            "3/3 - 0s - loss: 10.6529 - accuracy: 0.6250 - val_loss: 2.1410 - val_accuracy: 0.5625 - 53ms/epoch - 18ms/step\n",
            "Epoch 53/200\n",
            "3/3 - 0s - loss: 9.4260 - accuracy: 0.3500 - val_loss: 10.2987 - val_accuracy: 0.1375 - 52ms/epoch - 17ms/step\n",
            "Epoch 54/200\n",
            "3/3 - 0s - loss: 7.2451 - accuracy: 0.4719 - val_loss: 8.7419 - val_accuracy: 0.6125 - 61ms/epoch - 20ms/step\n",
            "Epoch 55/200\n",
            "3/3 - 0s - loss: 9.3440 - accuracy: 0.5312 - val_loss: 8.3990 - val_accuracy: 0.2375 - 55ms/epoch - 18ms/step\n",
            "Epoch 56/200\n",
            "3/3 - 0s - loss: 10.1509 - accuracy: 0.4219 - val_loss: 12.9975 - val_accuracy: 0.6125 - 54ms/epoch - 18ms/step\n",
            "Epoch 57/200\n",
            "3/3 - 0s - loss: 12.6118 - accuracy: 0.3719 - val_loss: 15.2360 - val_accuracy: 0.6125 - 90ms/epoch - 30ms/step\n",
            "Epoch 58/200\n",
            "3/3 - 0s - loss: 12.0201 - accuracy: 0.6250 - val_loss: 8.4073 - val_accuracy: 0.6125 - 75ms/epoch - 25ms/step\n",
            "Epoch 59/200\n",
            "3/3 - 0s - loss: 6.6186 - accuracy: 0.3531 - val_loss: 2.9837 - val_accuracy: 0.2375 - 74ms/epoch - 25ms/step\n",
            "Epoch 60/200\n",
            "3/3 - 0s - loss: 6.3724 - accuracy: 0.4594 - val_loss: 11.1985 - val_accuracy: 0.6125 - 72ms/epoch - 24ms/step\n",
            "Epoch 61/200\n",
            "3/3 - 0s - loss: 8.4431 - accuracy: 0.5437 - val_loss: 11.6242 - val_accuracy: 0.1500 - 71ms/epoch - 24ms/step\n",
            "Epoch 62/200\n",
            "3/3 - 0s - loss: 5.8978 - accuracy: 0.3781 - val_loss: 5.6353 - val_accuracy: 0.6000 - 71ms/epoch - 24ms/step\n",
            "Epoch 63/200\n",
            "3/3 - 0s - loss: 6.6128 - accuracy: 0.5281 - val_loss: 5.7408 - val_accuracy: 0.6000 - 52ms/epoch - 17ms/step\n",
            "Epoch 64/200\n",
            "3/3 - 0s - loss: 4.9247 - accuracy: 0.5688 - val_loss: 5.8365 - val_accuracy: 0.1500 - 70ms/epoch - 23ms/step\n",
            "Epoch 65/200\n",
            "3/3 - 0s - loss: 3.6508 - accuracy: 0.3281 - val_loss: 4.8927 - val_accuracy: 0.6000 - 59ms/epoch - 20ms/step\n",
            "Epoch 66/200\n",
            "3/3 - 0s - loss: 3.9643 - accuracy: 0.6125 - val_loss: 6.9448 - val_accuracy: 0.0750 - 51ms/epoch - 17ms/step\n",
            "Epoch 67/200\n",
            "3/3 - 0s - loss: 5.5103 - accuracy: 0.2594 - val_loss: 7.0514 - val_accuracy: 0.6125 - 62ms/epoch - 21ms/step\n",
            "Epoch 68/200\n",
            "3/3 - 0s - loss: 5.3607 - accuracy: 0.5312 - val_loss: 1.9294 - val_accuracy: 0.1125 - 73ms/epoch - 24ms/step\n",
            "Epoch 69/200\n",
            "3/3 - 0s - loss: 1.8927 - accuracy: 0.4875 - val_loss: 3.8075 - val_accuracy: 0.1375 - 78ms/epoch - 26ms/step\n",
            "Epoch 70/200\n",
            "3/3 - 0s - loss: 3.5931 - accuracy: 0.3000 - val_loss: 6.4959 - val_accuracy: 0.6125 - 40ms/epoch - 13ms/step\n",
            "Epoch 71/200\n",
            "3/3 - 0s - loss: 6.6280 - accuracy: 0.6250 - val_loss: 2.1183 - val_accuracy: 0.1375 - 43ms/epoch - 14ms/step\n",
            "Epoch 72/200\n",
            "3/3 - 0s - loss: 2.6623 - accuracy: 0.3187 - val_loss: 3.5051 - val_accuracy: 0.6000 - 63ms/epoch - 21ms/step\n",
            "Epoch 73/200\n",
            "3/3 - 0s - loss: 2.8801 - accuracy: 0.5063 - val_loss: 2.2195 - val_accuracy: 0.5500 - 57ms/epoch - 19ms/step\n",
            "Epoch 74/200\n",
            "3/3 - 0s - loss: 2.2266 - accuracy: 0.5063 - val_loss: 3.3989 - val_accuracy: 0.6000 - 43ms/epoch - 14ms/step\n",
            "Epoch 75/200\n",
            "3/3 - 0s - loss: 2.9571 - accuracy: 0.5469 - val_loss: 3.1751 - val_accuracy: 0.6125 - 60ms/epoch - 20ms/step\n",
            "Epoch 76/200\n",
            "3/3 - 0s - loss: 3.7388 - accuracy: 0.5250 - val_loss: 6.0848 - val_accuracy: 0.6125 - 42ms/epoch - 14ms/step\n",
            "Epoch 77/200\n",
            "3/3 - 0s - loss: 4.3220 - accuracy: 0.6250 - val_loss: 9.4571 - val_accuracy: 0.2375 - 38ms/epoch - 13ms/step\n",
            "Epoch 78/200\n",
            "3/3 - 0s - loss: 8.0581 - accuracy: 0.1906 - val_loss: 8.6267 - val_accuracy: 0.6125 - 44ms/epoch - 15ms/step\n",
            "Epoch 79/200\n",
            "3/3 - 0s - loss: 10.9708 - accuracy: 0.6250 - val_loss: 9.6908 - val_accuracy: 0.6125 - 41ms/epoch - 14ms/step\n",
            "Epoch 80/200\n",
            "3/3 - 0s - loss: 9.5801 - accuracy: 0.4094 - val_loss: 6.1111 - val_accuracy: 0.6125 - 37ms/epoch - 12ms/step\n",
            "Epoch 81/200\n",
            "3/3 - 0s - loss: 4.5038 - accuracy: 0.5719 - val_loss: 4.4359 - val_accuracy: 0.1250 - 40ms/epoch - 13ms/step\n",
            "Epoch 82/200\n",
            "3/3 - 0s - loss: 3.0999 - accuracy: 0.4531 - val_loss: 6.4640 - val_accuracy: 0.2375 - 43ms/epoch - 14ms/step\n",
            "Epoch 83/200\n",
            "3/3 - 0s - loss: 5.6631 - accuracy: 0.4531 - val_loss: 2.9569 - val_accuracy: 0.5625 - 58ms/epoch - 19ms/step\n",
            "Epoch 84/200\n",
            "3/3 - 0s - loss: 5.8653 - accuracy: 0.3125 - val_loss: 3.6983 - val_accuracy: 0.6000 - 108ms/epoch - 36ms/step\n",
            "Epoch 85/200\n",
            "3/3 - 0s - loss: 6.5875 - accuracy: 0.5437 - val_loss: 9.4119 - val_accuracy: 0.6125 - 107ms/epoch - 36ms/step\n",
            "Epoch 86/200\n",
            "3/3 - 0s - loss: 11.9711 - accuracy: 0.6250 - val_loss: 9.2727 - val_accuracy: 0.2375 - 52ms/epoch - 17ms/step\n",
            "Epoch 87/200\n",
            "3/3 - 0s - loss: 7.7518 - accuracy: 0.4437 - val_loss: 2.6033 - val_accuracy: 0.2000 - 44ms/epoch - 15ms/step\n",
            "Epoch 88/200\n",
            "3/3 - 0s - loss: 4.9155 - accuracy: 0.2688 - val_loss: 8.7738 - val_accuracy: 0.6125 - 40ms/epoch - 13ms/step\n",
            "Epoch 89/200\n",
            "3/3 - 0s - loss: 6.5702 - accuracy: 0.5188 - val_loss: 6.7758 - val_accuracy: 0.6125 - 38ms/epoch - 13ms/step\n",
            "Epoch 90/200\n",
            "3/3 - 0s - loss: 3.9557 - accuracy: 0.5938 - val_loss: 5.6827 - val_accuracy: 0.2375 - 48ms/epoch - 16ms/step\n",
            "Epoch 91/200\n",
            "3/3 - 0s - loss: 3.9695 - accuracy: 0.4625 - val_loss: 5.5051 - val_accuracy: 0.1750 - 41ms/epoch - 14ms/step\n",
            "Epoch 92/200\n",
            "3/3 - 0s - loss: 3.8438 - accuracy: 0.4344 - val_loss: 4.1241 - val_accuracy: 0.2250 - 55ms/epoch - 18ms/step\n",
            "Epoch 93/200\n",
            "3/3 - 0s - loss: 3.4512 - accuracy: 0.3094 - val_loss: 6.1965 - val_accuracy: 0.6125 - 41ms/epoch - 14ms/step\n",
            "Epoch 94/200\n",
            "3/3 - 0s - loss: 4.3709 - accuracy: 0.5250 - val_loss: 3.8374 - val_accuracy: 0.2125 - 39ms/epoch - 13ms/step\n",
            "Epoch 95/200\n",
            "3/3 - 0s - loss: 5.4002 - accuracy: 0.4094 - val_loss: 7.3229 - val_accuracy: 0.6125 - 37ms/epoch - 12ms/step\n",
            "Epoch 96/200\n",
            "3/3 - 0s - loss: 6.0841 - accuracy: 0.3812 - val_loss: 5.3518 - val_accuracy: 0.6125 - 39ms/epoch - 13ms/step\n",
            "Epoch 97/200\n",
            "3/3 - 0s - loss: 5.6692 - accuracy: 0.5594 - val_loss: 4.9164 - val_accuracy: 0.2375 - 42ms/epoch - 14ms/step\n",
            "Epoch 98/200\n",
            "3/3 - 0s - loss: 7.4574 - accuracy: 0.4563 - val_loss: 12.4901 - val_accuracy: 0.6125 - 38ms/epoch - 13ms/step\n",
            "Epoch 99/200\n",
            "3/3 - 0s - loss: 9.7149 - accuracy: 0.5531 - val_loss: 17.1690 - val_accuracy: 0.1625 - 185ms/epoch - 62ms/step\n",
            "Epoch 100/200\n",
            "3/3 - 0s - loss: 10.1934 - accuracy: 0.4844 - val_loss: 8.1343 - val_accuracy: 0.6125 - 40ms/epoch - 13ms/step\n",
            "Epoch 101/200\n",
            "3/3 - 0s - loss: 6.5481 - accuracy: 0.5344 - val_loss: 12.6353 - val_accuracy: 0.2375 - 39ms/epoch - 13ms/step\n",
            "Epoch 102/200\n",
            "3/3 - 0s - loss: 9.2611 - accuracy: 0.2781 - val_loss: 13.6754 - val_accuracy: 0.6125 - 69ms/epoch - 23ms/step\n",
            "Epoch 103/200\n",
            "3/3 - 0s - loss: 12.1850 - accuracy: 0.6250 - val_loss: 9.2846 - val_accuracy: 0.6125 - 70ms/epoch - 23ms/step\n",
            "Epoch 104/200\n",
            "3/3 - 0s - loss: 11.7495 - accuracy: 0.3688 - val_loss: 3.0463 - val_accuracy: 0.3875 - 64ms/epoch - 21ms/step\n",
            "Epoch 105/200\n",
            "3/3 - 0s - loss: 4.0968 - accuracy: 0.5031 - val_loss: 7.6704 - val_accuracy: 0.6125 - 49ms/epoch - 16ms/step\n",
            "Epoch 106/200\n",
            "3/3 - 0s - loss: 9.5386 - accuracy: 0.6219 - val_loss: 11.3930 - val_accuracy: 0.2375 - 66ms/epoch - 22ms/step\n",
            "Epoch 107/200\n",
            "3/3 - 0s - loss: 10.9709 - accuracy: 0.4156 - val_loss: 4.4468 - val_accuracy: 0.6125 - 64ms/epoch - 21ms/step\n",
            "Epoch 108/200\n",
            "3/3 - 0s - loss: 5.6116 - accuracy: 0.3531 - val_loss: 5.4666 - val_accuracy: 0.6125 - 69ms/epoch - 23ms/step\n",
            "Epoch 109/200\n",
            "3/3 - 0s - loss: 4.9406 - accuracy: 0.5844 - val_loss: 6.8839 - val_accuracy: 0.4125 - 51ms/epoch - 17ms/step\n",
            "Epoch 110/200\n",
            "3/3 - 0s - loss: 4.3782 - accuracy: 0.5344 - val_loss: 1.7843 - val_accuracy: 0.2875 - 67ms/epoch - 22ms/step\n",
            "Epoch 111/200\n",
            "3/3 - 0s - loss: 3.6597 - accuracy: 0.3375 - val_loss: 5.7910 - val_accuracy: 0.6125 - 70ms/epoch - 23ms/step\n",
            "Epoch 112/200\n",
            "3/3 - 0s - loss: 5.6726 - accuracy: 0.5375 - val_loss: 2.0023 - val_accuracy: 0.2375 - 49ms/epoch - 16ms/step\n",
            "Epoch 113/200\n",
            "3/3 - 0s - loss: 2.8831 - accuracy: 0.4750 - val_loss: 11.3323 - val_accuracy: 0.6000 - 62ms/epoch - 21ms/step\n",
            "Epoch 114/200\n",
            "3/3 - 0s - loss: 8.8617 - accuracy: 0.4750 - val_loss: 13.7183 - val_accuracy: 0.6125 - 66ms/epoch - 22ms/step\n",
            "Epoch 115/200\n",
            "3/3 - 0s - loss: 10.0541 - accuracy: 0.4594 - val_loss: 9.7949 - val_accuracy: 0.6125 - 63ms/epoch - 21ms/step\n",
            "Epoch 116/200\n",
            "3/3 - 0s - loss: 5.5849 - accuracy: 0.5219 - val_loss: 4.7108 - val_accuracy: 0.2375 - 46ms/epoch - 15ms/step\n",
            "Epoch 117/200\n",
            "3/3 - 0s - loss: 5.5531 - accuracy: 0.4437 - val_loss: 5.3099 - val_accuracy: 0.6125 - 50ms/epoch - 17ms/step\n",
            "Epoch 118/200\n",
            "3/3 - 0s - loss: 6.8359 - accuracy: 0.4688 - val_loss: 3.2670 - val_accuracy: 0.6125 - 38ms/epoch - 13ms/step\n",
            "Epoch 119/200\n",
            "3/3 - 0s - loss: 3.3203 - accuracy: 0.3531 - val_loss: 7.7089 - val_accuracy: 0.6125 - 41ms/epoch - 14ms/step\n",
            "Epoch 120/200\n",
            "3/3 - 0s - loss: 6.5978 - accuracy: 0.6250 - val_loss: 12.5853 - val_accuracy: 0.1625 - 41ms/epoch - 14ms/step\n",
            "Epoch 121/200\n",
            "3/3 - 0s - loss: 8.3230 - accuracy: 0.2969 - val_loss: 10.3257 - val_accuracy: 0.6125 - 60ms/epoch - 20ms/step\n",
            "Epoch 122/200\n",
            "3/3 - 0s - loss: 7.5056 - accuracy: 0.5219 - val_loss: 3.3290 - val_accuracy: 0.2375 - 40ms/epoch - 13ms/step\n",
            "Epoch 123/200\n",
            "3/3 - 0s - loss: 5.2789 - accuracy: 0.4156 - val_loss: 5.2936 - val_accuracy: 0.4000 - 41ms/epoch - 14ms/step\n",
            "Epoch 124/200\n",
            "3/3 - 0s - loss: 5.5306 - accuracy: 0.3812 - val_loss: 5.7140 - val_accuracy: 0.6125 - 47ms/epoch - 16ms/step\n",
            "Epoch 125/200\n",
            "3/3 - 0s - loss: 4.0299 - accuracy: 0.5688 - val_loss: 1.7346 - val_accuracy: 0.5000 - 44ms/epoch - 15ms/step\n",
            "Epoch 126/200\n",
            "3/3 - 0s - loss: 2.1543 - accuracy: 0.5219 - val_loss: 1.5765 - val_accuracy: 0.6125 - 59ms/epoch - 20ms/step\n",
            "Epoch 127/200\n",
            "3/3 - 0s - loss: 2.0519 - accuracy: 0.5063 - val_loss: 3.5294 - val_accuracy: 0.6125 - 39ms/epoch - 13ms/step\n",
            "Epoch 128/200\n",
            "3/3 - 0s - loss: 3.5134 - accuracy: 0.5875 - val_loss: 4.6374 - val_accuracy: 0.1875 - 61ms/epoch - 20ms/step\n",
            "Epoch 129/200\n",
            "3/3 - 0s - loss: 4.0804 - accuracy: 0.4563 - val_loss: 4.0456 - val_accuracy: 0.2375 - 56ms/epoch - 19ms/step\n",
            "Epoch 130/200\n",
            "3/3 - 0s - loss: 3.0907 - accuracy: 0.4156 - val_loss: 3.1423 - val_accuracy: 0.1500 - 38ms/epoch - 13ms/step\n",
            "Epoch 131/200\n",
            "3/3 - 0s - loss: 2.5886 - accuracy: 0.3313 - val_loss: 3.8442 - val_accuracy: 0.6125 - 62ms/epoch - 21ms/step\n",
            "Epoch 132/200\n",
            "3/3 - 0s - loss: 3.3119 - accuracy: 0.5344 - val_loss: 2.0867 - val_accuracy: 0.2000 - 39ms/epoch - 13ms/step\n",
            "Epoch 133/200\n",
            "3/3 - 0s - loss: 3.0548 - accuracy: 0.4281 - val_loss: 2.6857 - val_accuracy: 0.4750 - 39ms/epoch - 13ms/step\n",
            "Epoch 134/200\n",
            "3/3 - 0s - loss: 3.0466 - accuracy: 0.3812 - val_loss: 3.5322 - val_accuracy: 0.6125 - 39ms/epoch - 13ms/step\n",
            "Epoch 135/200\n",
            "3/3 - 0s - loss: 3.9179 - accuracy: 0.5250 - val_loss: 3.1864 - val_accuracy: 0.6125 - 60ms/epoch - 20ms/step\n",
            "Epoch 136/200\n",
            "3/3 - 0s - loss: 3.0680 - accuracy: 0.5469 - val_loss: 2.7498 - val_accuracy: 0.2250 - 54ms/epoch - 18ms/step\n",
            "Epoch 137/200\n",
            "3/3 - 0s - loss: 3.6827 - accuracy: 0.4719 - val_loss: 4.4261 - val_accuracy: 0.2375 - 37ms/epoch - 12ms/step\n",
            "Epoch 138/200\n",
            "3/3 - 0s - loss: 4.5416 - accuracy: 0.4250 - val_loss: 3.3595 - val_accuracy: 0.2375 - 39ms/epoch - 13ms/step\n",
            "Epoch 139/200\n",
            "3/3 - 0s - loss: 3.1075 - accuracy: 0.3250 - val_loss: 6.7674 - val_accuracy: 0.6125 - 40ms/epoch - 13ms/step\n",
            "Epoch 140/200\n",
            "3/3 - 0s - loss: 5.1681 - accuracy: 0.5500 - val_loss: 4.6772 - val_accuracy: 0.6125 - 39ms/epoch - 13ms/step\n",
            "Epoch 141/200\n",
            "3/3 - 0s - loss: 3.1584 - accuracy: 0.5344 - val_loss: 1.2260 - val_accuracy: 0.4375 - 38ms/epoch - 13ms/step\n",
            "Epoch 142/200\n",
            "3/3 - 0s - loss: 1.9398 - accuracy: 0.5781 - val_loss: 5.0334 - val_accuracy: 0.1500 - 38ms/epoch - 13ms/step\n",
            "Epoch 143/200\n",
            "3/3 - 0s - loss: 2.9047 - accuracy: 0.3875 - val_loss: 2.0709 - val_accuracy: 0.6000 - 41ms/epoch - 14ms/step\n",
            "Epoch 144/200\n",
            "3/3 - 0s - loss: 3.4627 - accuracy: 0.4250 - val_loss: 4.0136 - val_accuracy: 0.6125 - 43ms/epoch - 14ms/step\n",
            "Epoch 145/200\n",
            "3/3 - 0s - loss: 5.3500 - accuracy: 0.3375 - val_loss: 7.9117 - val_accuracy: 0.6125 - 68ms/epoch - 23ms/step\n",
            "Epoch 146/200\n",
            "3/3 - 0s - loss: 7.7542 - accuracy: 0.6250 - val_loss: 3.3115 - val_accuracy: 0.5000 - 56ms/epoch - 19ms/step\n",
            "Epoch 147/200\n",
            "3/3 - 0s - loss: 6.7509 - accuracy: 0.3125 - val_loss: 7.8647 - val_accuracy: 0.6125 - 38ms/epoch - 13ms/step\n",
            "Epoch 148/200\n",
            "3/3 - 0s - loss: 8.0208 - accuracy: 0.6250 - val_loss: 16.8102 - val_accuracy: 0.1625 - 56ms/epoch - 19ms/step\n",
            "Epoch 149/200\n",
            "3/3 - 0s - loss: 12.5380 - accuracy: 0.3000 - val_loss: 15.4639 - val_accuracy: 0.6125 - 41ms/epoch - 14ms/step\n",
            "Epoch 150/200\n",
            "3/3 - 0s - loss: 11.2052 - accuracy: 0.6250 - val_loss: 4.8617 - val_accuracy: 0.2250 - 39ms/epoch - 13ms/step\n",
            "Epoch 151/200\n",
            "3/3 - 0s - loss: 3.9139 - accuracy: 0.2219 - val_loss: 4.7301 - val_accuracy: 0.6125 - 38ms/epoch - 13ms/step\n",
            "Epoch 152/200\n",
            "3/3 - 0s - loss: 6.8708 - accuracy: 0.6250 - val_loss: 6.6857 - val_accuracy: 0.2375 - 39ms/epoch - 13ms/step\n",
            "Epoch 153/200\n",
            "3/3 - 0s - loss: 7.0835 - accuracy: 0.4344 - val_loss: 3.2917 - val_accuracy: 0.2375 - 43ms/epoch - 14ms/step\n",
            "Epoch 154/200\n",
            "3/3 - 0s - loss: 3.0739 - accuracy: 0.3938 - val_loss: 5.6768 - val_accuracy: 0.1625 - 39ms/epoch - 13ms/step\n",
            "Epoch 155/200\n",
            "3/3 - 0s - loss: 6.0422 - accuracy: 0.4000 - val_loss: 5.8843 - val_accuracy: 0.6125 - 38ms/epoch - 13ms/step\n",
            "Epoch 156/200\n",
            "3/3 - 0s - loss: 4.7238 - accuracy: 0.5813 - val_loss: 6.6438 - val_accuracy: 0.2375 - 41ms/epoch - 14ms/step\n",
            "Epoch 157/200\n",
            "3/3 - 0s - loss: 5.7761 - accuracy: 0.2750 - val_loss: 11.9261 - val_accuracy: 0.6125 - 42ms/epoch - 14ms/step\n",
            "Epoch 158/200\n",
            "3/3 - 0s - loss: 9.7240 - accuracy: 0.6250 - val_loss: 14.1060 - val_accuracy: 0.1625 - 40ms/epoch - 13ms/step\n",
            "Epoch 159/200\n",
            "3/3 - 0s - loss: 9.5630 - accuracy: 0.3187 - val_loss: 9.4446 - val_accuracy: 0.6125 - 40ms/epoch - 13ms/step\n",
            "Epoch 160/200\n",
            "3/3 - 0s - loss: 6.3354 - accuracy: 0.6250 - val_loss: 10.8548 - val_accuracy: 0.2375 - 56ms/epoch - 19ms/step\n",
            "Epoch 161/200\n",
            "3/3 - 0s - loss: 9.9904 - accuracy: 0.1844 - val_loss: 5.6148 - val_accuracy: 0.6125 - 43ms/epoch - 14ms/step\n",
            "Epoch 162/200\n",
            "3/3 - 0s - loss: 5.6654 - accuracy: 0.5688 - val_loss: 10.9761 - val_accuracy: 0.5125 - 41ms/epoch - 14ms/step\n",
            "Epoch 163/200\n",
            "3/3 - 0s - loss: 8.3048 - accuracy: 0.6094 - val_loss: 12.9347 - val_accuracy: 0.1625 - 56ms/epoch - 19ms/step\n",
            "Epoch 164/200\n",
            "3/3 - 0s - loss: 7.7413 - accuracy: 0.3969 - val_loss: 8.2392 - val_accuracy: 0.6125 - 38ms/epoch - 13ms/step\n",
            "Epoch 165/200\n",
            "3/3 - 0s - loss: 5.5585 - accuracy: 0.5375 - val_loss: 3.7821 - val_accuracy: 0.2375 - 41ms/epoch - 14ms/step\n",
            "Epoch 166/200\n",
            "3/3 - 0s - loss: 4.1069 - accuracy: 0.4156 - val_loss: 8.0230 - val_accuracy: 0.1625 - 66ms/epoch - 22ms/step\n",
            "Epoch 167/200\n",
            "3/3 - 0s - loss: 5.6862 - accuracy: 0.4125 - val_loss: 6.4679 - val_accuracy: 0.1875 - 40ms/epoch - 13ms/step\n",
            "Epoch 168/200\n",
            "3/3 - 0s - loss: 3.9676 - accuracy: 0.4437 - val_loss: 2.7273 - val_accuracy: 0.1500 - 38ms/epoch - 13ms/step\n",
            "Epoch 169/200\n",
            "3/3 - 0s - loss: 2.9512 - accuracy: 0.2812 - val_loss: 5.0227 - val_accuracy: 0.6125 - 43ms/epoch - 14ms/step\n",
            "Epoch 170/200\n",
            "3/3 - 0s - loss: 4.0130 - accuracy: 0.5469 - val_loss: 2.8454 - val_accuracy: 0.5500 - 39ms/epoch - 13ms/step\n",
            "Epoch 171/200\n",
            "3/3 - 0s - loss: 2.1271 - accuracy: 0.6031 - val_loss: 5.4103 - val_accuracy: 0.2375 - 39ms/epoch - 13ms/step\n",
            "Epoch 172/200\n",
            "3/3 - 0s - loss: 3.1043 - accuracy: 0.4437 - val_loss: 3.9807 - val_accuracy: 0.2375 - 39ms/epoch - 13ms/step\n",
            "Epoch 173/200\n",
            "3/3 - 0s - loss: 4.0522 - accuracy: 0.4250 - val_loss: 3.4367 - val_accuracy: 0.2250 - 41ms/epoch - 14ms/step\n",
            "Epoch 174/200\n",
            "3/3 - 0s - loss: 2.0609 - accuracy: 0.3500 - val_loss: 2.6397 - val_accuracy: 0.6125 - 37ms/epoch - 12ms/step\n",
            "Epoch 175/200\n",
            "3/3 - 0s - loss: 2.7315 - accuracy: 0.5281 - val_loss: 2.1028 - val_accuracy: 0.6125 - 39ms/epoch - 13ms/step\n",
            "Epoch 176/200\n",
            "3/3 - 0s - loss: 2.6559 - accuracy: 0.4406 - val_loss: 3.7507 - val_accuracy: 0.6125 - 38ms/epoch - 13ms/step\n",
            "Epoch 177/200\n",
            "3/3 - 0s - loss: 2.7339 - accuracy: 0.4625 - val_loss: 1.6499 - val_accuracy: 0.2500 - 39ms/epoch - 13ms/step\n",
            "Epoch 178/200\n",
            "3/3 - 0s - loss: 1.4200 - accuracy: 0.4375 - val_loss: 1.5582 - val_accuracy: 0.6125 - 39ms/epoch - 13ms/step\n",
            "Epoch 179/200\n",
            "3/3 - 0s - loss: 1.2272 - accuracy: 0.5250 - val_loss: 1.6352 - val_accuracy: 0.6125 - 39ms/epoch - 13ms/step\n",
            "Epoch 180/200\n",
            "3/3 - 0s - loss: 1.2187 - accuracy: 0.5656 - val_loss: 1.1409 - val_accuracy: 0.6125 - 49ms/epoch - 16ms/step\n",
            "Epoch 181/200\n",
            "3/3 - 0s - loss: 1.1851 - accuracy: 0.5094 - val_loss: 1.9895 - val_accuracy: 0.3125 - 63ms/epoch - 21ms/step\n",
            "Epoch 182/200\n",
            "3/3 - 0s - loss: 1.4637 - accuracy: 0.5188 - val_loss: 2.3580 - val_accuracy: 0.2375 - 63ms/epoch - 21ms/step\n",
            "Epoch 183/200\n",
            "3/3 - 0s - loss: 2.0823 - accuracy: 0.4406 - val_loss: 3.0584 - val_accuracy: 0.5500 - 46ms/epoch - 15ms/step\n",
            "Epoch 184/200\n",
            "3/3 - 0s - loss: 1.9506 - accuracy: 0.5969 - val_loss: 1.8042 - val_accuracy: 0.2375 - 58ms/epoch - 19ms/step\n",
            "Epoch 185/200\n",
            "3/3 - 0s - loss: 1.5232 - accuracy: 0.4469 - val_loss: 1.3881 - val_accuracy: 0.1375 - 47ms/epoch - 16ms/step\n",
            "Epoch 186/200\n",
            "3/3 - 0s - loss: 1.0981 - accuracy: 0.5094 - val_loss: 1.2210 - val_accuracy: 0.3375 - 45ms/epoch - 15ms/step\n",
            "Epoch 187/200\n",
            "3/3 - 0s - loss: 1.1274 - accuracy: 0.5031 - val_loss: 1.3075 - val_accuracy: 0.5625 - 79ms/epoch - 26ms/step\n",
            "Epoch 188/200\n",
            "3/3 - 0s - loss: 0.9784 - accuracy: 0.5844 - val_loss: 1.4119 - val_accuracy: 0.6125 - 66ms/epoch - 22ms/step\n",
            "Epoch 189/200\n",
            "3/3 - 0s - loss: 1.1316 - accuracy: 0.5562 - val_loss: 1.5023 - val_accuracy: 0.6125 - 53ms/epoch - 18ms/step\n",
            "Epoch 190/200\n",
            "3/3 - 0s - loss: 1.1560 - accuracy: 0.5531 - val_loss: 1.7278 - val_accuracy: 0.6125 - 51ms/epoch - 17ms/step\n",
            "Epoch 191/200\n",
            "3/3 - 0s - loss: 1.5904 - accuracy: 0.5219 - val_loss: 1.5251 - val_accuracy: 0.6125 - 50ms/epoch - 17ms/step\n",
            "Epoch 192/200\n",
            "3/3 - 0s - loss: 1.4042 - accuracy: 0.5906 - val_loss: 1.1031 - val_accuracy: 0.3875 - 67ms/epoch - 22ms/step\n",
            "Epoch 193/200\n",
            "3/3 - 0s - loss: 1.1352 - accuracy: 0.5719 - val_loss: 1.2417 - val_accuracy: 0.6125 - 45ms/epoch - 15ms/step\n",
            "Epoch 194/200\n",
            "3/3 - 0s - loss: 1.4443 - accuracy: 0.4906 - val_loss: 1.7985 - val_accuracy: 0.6125 - 51ms/epoch - 17ms/step\n",
            "Epoch 195/200\n",
            "3/3 - 0s - loss: 2.1689 - accuracy: 0.4656 - val_loss: 2.1372 - val_accuracy: 0.5875 - 55ms/epoch - 18ms/step\n",
            "Epoch 196/200\n",
            "3/3 - 0s - loss: 2.3253 - accuracy: 0.4656 - val_loss: 1.8538 - val_accuracy: 0.6125 - 50ms/epoch - 17ms/step\n",
            "Epoch 197/200\n",
            "3/3 - 0s - loss: 2.9835 - accuracy: 0.4406 - val_loss: 2.5761 - val_accuracy: 0.6125 - 64ms/epoch - 21ms/step\n",
            "Epoch 198/200\n",
            "3/3 - 0s - loss: 2.8451 - accuracy: 0.4437 - val_loss: 4.1616 - val_accuracy: 0.6125 - 72ms/epoch - 24ms/step\n",
            "Epoch 199/200\n",
            "3/3 - 0s - loss: 2.4993 - accuracy: 0.4500 - val_loss: 1.3010 - val_accuracy: 0.6125 - 47ms/epoch - 16ms/step\n",
            "Epoch 200/200\n",
            "3/3 - 0s - loss: 1.6801 - accuracy: 0.5562 - val_loss: 1.5420 - val_accuracy: 0.2875 - 64ms/epoch - 21ms/step\n"
          ]
        }
      ],
      "source": [
        "# Model Building\n",
        "#Defining the model\n",
        "model_1 = keras.Sequential()\n",
        "# Adding the input layer with 128 neurons with relu as an activation function input shape 11\n",
        "model_1.add(Dense(128, activation='relu',kernel_initializer='he_uniform',input_shape=(11,)))\n",
        "# Adding the first hidden layer with 64 neurons with relu as an activation function\n",
        "model_1.add(Dense(64, activation='relu',kernel_initializer='he_uniform'))\n",
        "# Adding the second hidden layer with 64 neurons with relu as an activation function\n",
        "model_1.add(Dense(64, activation='relu',kernel_initializer='he_uniform'))\n",
        "# Adding the third hidden layer with 32 neurons with relu as an activation function\n",
        "model_1.add(Dense(32, activation='relu',kernel_initializer='he_uniform'))\n",
        "# Defining the output layer with 3 neurons with softmax as an activation function\n",
        "model_1.add(Dense(3, activation='softmax'))\n",
        "# Defining the Adam Optimizers\n",
        "adam = optimizers.Adam(lr=1e-3)\n",
        "# Compiling the model with categorical crossentropy as loss function with accuracy as metrics\n",
        "model_1.compile(loss=losses.categorical_crossentropy, optimizer=adam, metrics=['accuracy'])\n",
        "# Fitting the model on X_train and y_train with 200 epcohs having validation split of 20%\n",
        "history_1=model_1.fit(X_train, y_train, validation_split=0.2, epochs=200, batch_size=128, verbose=2)"
      ]
    },
    {
      "cell_type": "markdown",
      "id": "521adf0b",
      "metadata": {
        "id": "521adf0b"
      },
      "source": [
        "### Correct Answer: <75"
      ]
    },
    {
      "cell_type": "markdown",
      "id": "bbf93bc5",
      "metadata": {
        "id": "bbf93bc5"
      },
      "source": [
        "### Q Build a model on the data using below hyperparameters and find the precision of 0th class using the classification report.\n",
        "\n",
        "* The number of neurons in First,and second layer should be 64 and 32 respectively.\n",
        "* Use ReLu as an Activation function in Hidden layers and SGD as Optimizer with 1e-3 as learning rate\n",
        "* Built the model on 100 Epochs\n",
        "\n",
        "**Note** - Do not use stratify sampling and Callbacks."
      ]
    },
    {
      "cell_type": "markdown",
      "id": "eeec1ec5",
      "metadata": {
        "id": "eeec1ec5"
      },
      "source": [
        "- `>`80 and `<`90\n",
        "- `>`60 and `<`70\n",
        "- `>`95\n",
        "- `<`60"
      ]
    },
    {
      "cell_type": "code",
      "execution_count": 18,
      "id": "4a223f40",
      "metadata": {
        "colab": {
          "base_uri": "https://localhost:8080/"
        },
        "id": "4a223f40",
        "outputId": "f98f9068-f0bd-462a-dcf0-84f7fb749b89"
      },
      "outputs": [
        {
          "output_type": "stream",
          "name": "stderr",
          "text": [
            "WARNING:absl:`lr` is deprecated in Keras optimizer, please use `learning_rate` or use the legacy optimizer, e.g.,tf.keras.optimizers.legacy.SGD.\n"
          ]
        },
        {
          "output_type": "stream",
          "name": "stdout",
          "text": [
            "Epoch 1/100\n",
            "3/3 - 1s - loss: 18685.5273 - accuracy: 0.4031 - val_loss: 1.1188 - val_accuracy: 0.2375 - 769ms/epoch - 256ms/step\n",
            "Epoch 2/100\n",
            "3/3 - 0s - loss: 1.0564 - accuracy: 0.4406 - val_loss: 0.9820 - val_accuracy: 0.6000 - 62ms/epoch - 21ms/step\n",
            "Epoch 3/100\n",
            "3/3 - 0s - loss: 0.9984 - accuracy: 0.6250 - val_loss: 0.9703 - val_accuracy: 0.6000 - 60ms/epoch - 20ms/step\n",
            "Epoch 4/100\n",
            "3/3 - 0s - loss: 0.9919 - accuracy: 0.6250 - val_loss: 0.9647 - val_accuracy: 0.6000 - 47ms/epoch - 16ms/step\n",
            "Epoch 5/100\n",
            "3/3 - 0s - loss: 0.9890 - accuracy: 0.6250 - val_loss: 0.9607 - val_accuracy: 0.6000 - 51ms/epoch - 17ms/step\n",
            "Epoch 6/100\n",
            "3/3 - 0s - loss: 0.9868 - accuracy: 0.6250 - val_loss: 0.9585 - val_accuracy: 0.6000 - 70ms/epoch - 23ms/step\n",
            "Epoch 7/100\n",
            "3/3 - 0s - loss: 0.9855 - accuracy: 0.6250 - val_loss: 0.9582 - val_accuracy: 0.6000 - 45ms/epoch - 15ms/step\n",
            "Epoch 8/100\n",
            "3/3 - 0s - loss: 0.9838 - accuracy: 0.6250 - val_loss: 0.9556 - val_accuracy: 0.6000 - 59ms/epoch - 20ms/step\n",
            "Epoch 9/100\n",
            "3/3 - 0s - loss: 0.9826 - accuracy: 0.6250 - val_loss: 0.9539 - val_accuracy: 0.6000 - 68ms/epoch - 23ms/step\n",
            "Epoch 10/100\n",
            "3/3 - 0s - loss: 0.9816 - accuracy: 0.6250 - val_loss: 0.9552 - val_accuracy: 0.6000 - 44ms/epoch - 15ms/step\n",
            "Epoch 11/100\n",
            "3/3 - 0s - loss: 0.9802 - accuracy: 0.6250 - val_loss: 0.9528 - val_accuracy: 0.6000 - 44ms/epoch - 15ms/step\n",
            "Epoch 12/100\n",
            "3/3 - 0s - loss: 0.9791 - accuracy: 0.6250 - val_loss: 0.9531 - val_accuracy: 0.6000 - 43ms/epoch - 14ms/step\n",
            "Epoch 13/100\n",
            "3/3 - 0s - loss: 0.9779 - accuracy: 0.6250 - val_loss: 0.9533 - val_accuracy: 0.6000 - 55ms/epoch - 18ms/step\n",
            "Epoch 14/100\n",
            "3/3 - 0s - loss: 0.9768 - accuracy: 0.6250 - val_loss: 0.9526 - val_accuracy: 0.6000 - 63ms/epoch - 21ms/step\n",
            "Epoch 15/100\n",
            "3/3 - 0s - loss: 0.9755 - accuracy: 0.6250 - val_loss: 0.9516 - val_accuracy: 0.6000 - 44ms/epoch - 15ms/step\n",
            "Epoch 16/100\n",
            "3/3 - 0s - loss: 0.9767 - accuracy: 0.6250 - val_loss: 0.9507 - val_accuracy: 0.6000 - 42ms/epoch - 14ms/step\n",
            "Epoch 17/100\n",
            "3/3 - 0s - loss: 0.9733 - accuracy: 0.6250 - val_loss: 0.9499 - val_accuracy: 0.6000 - 37ms/epoch - 12ms/step\n",
            "Epoch 18/100\n",
            "3/3 - 0s - loss: 0.9730 - accuracy: 0.6250 - val_loss: 0.9473 - val_accuracy: 0.6000 - 37ms/epoch - 12ms/step\n",
            "Epoch 19/100\n",
            "3/3 - 0s - loss: 0.9716 - accuracy: 0.6250 - val_loss: 0.9466 - val_accuracy: 0.6000 - 42ms/epoch - 14ms/step\n",
            "Epoch 20/100\n",
            "3/3 - 0s - loss: 0.9716 - accuracy: 0.6250 - val_loss: 0.9460 - val_accuracy: 0.6000 - 42ms/epoch - 14ms/step\n",
            "Epoch 21/100\n",
            "3/3 - 0s - loss: 0.9698 - accuracy: 0.6250 - val_loss: 0.9469 - val_accuracy: 0.6000 - 38ms/epoch - 13ms/step\n",
            "Epoch 22/100\n",
            "3/3 - 0s - loss: 0.9685 - accuracy: 0.6250 - val_loss: 0.9458 - val_accuracy: 0.6000 - 38ms/epoch - 13ms/step\n",
            "Epoch 23/100\n",
            "3/3 - 0s - loss: 0.9674 - accuracy: 0.6250 - val_loss: 0.9458 - val_accuracy: 0.6000 - 40ms/epoch - 13ms/step\n",
            "Epoch 24/100\n",
            "3/3 - 0s - loss: 0.9676 - accuracy: 0.6250 - val_loss: 0.9437 - val_accuracy: 0.6000 - 45ms/epoch - 15ms/step\n",
            "Epoch 25/100\n",
            "3/3 - 0s - loss: 0.9665 - accuracy: 0.6250 - val_loss: 0.9454 - val_accuracy: 0.6000 - 49ms/epoch - 16ms/step\n",
            "Epoch 26/100\n",
            "3/3 - 0s - loss: 0.9649 - accuracy: 0.6250 - val_loss: 0.9446 - val_accuracy: 0.6000 - 40ms/epoch - 13ms/step\n",
            "Epoch 27/100\n",
            "3/3 - 0s - loss: 0.9649 - accuracy: 0.6250 - val_loss: 0.9438 - val_accuracy: 0.6000 - 35ms/epoch - 12ms/step\n",
            "Epoch 28/100\n",
            "3/3 - 0s - loss: 0.9637 - accuracy: 0.6250 - val_loss: 0.9424 - val_accuracy: 0.6000 - 40ms/epoch - 13ms/step\n",
            "Epoch 29/100\n",
            "3/3 - 0s - loss: 0.9627 - accuracy: 0.6250 - val_loss: 0.9427 - val_accuracy: 0.6000 - 55ms/epoch - 18ms/step\n",
            "Epoch 30/100\n",
            "3/3 - 0s - loss: 0.9619 - accuracy: 0.6250 - val_loss: 0.9421 - val_accuracy: 0.6000 - 36ms/epoch - 12ms/step\n",
            "Epoch 31/100\n",
            "3/3 - 0s - loss: 0.9612 - accuracy: 0.6250 - val_loss: 0.9425 - val_accuracy: 0.6000 - 38ms/epoch - 13ms/step\n",
            "Epoch 32/100\n",
            "3/3 - 0s - loss: 0.9611 - accuracy: 0.6250 - val_loss: 0.9445 - val_accuracy: 0.6000 - 38ms/epoch - 13ms/step\n",
            "Epoch 33/100\n",
            "3/3 - 0s - loss: 0.9596 - accuracy: 0.6250 - val_loss: 0.9438 - val_accuracy: 0.6000 - 39ms/epoch - 13ms/step\n",
            "Epoch 34/100\n",
            "3/3 - 0s - loss: 0.9593 - accuracy: 0.6250 - val_loss: 0.9447 - val_accuracy: 0.6000 - 41ms/epoch - 14ms/step\n",
            "Epoch 35/100\n",
            "3/3 - 0s - loss: 0.9587 - accuracy: 0.6250 - val_loss: 0.9446 - val_accuracy: 0.6000 - 38ms/epoch - 13ms/step\n",
            "Epoch 36/100\n",
            "3/3 - 0s - loss: 0.9576 - accuracy: 0.6250 - val_loss: 0.9431 - val_accuracy: 0.6000 - 36ms/epoch - 12ms/step\n",
            "Epoch 37/100\n",
            "3/3 - 0s - loss: 0.9579 - accuracy: 0.6250 - val_loss: 0.9421 - val_accuracy: 0.6000 - 55ms/epoch - 18ms/step\n",
            "Epoch 38/100\n",
            "3/3 - 0s - loss: 0.9562 - accuracy: 0.6250 - val_loss: 0.9403 - val_accuracy: 0.6000 - 86ms/epoch - 29ms/step\n",
            "Epoch 39/100\n",
            "3/3 - 0s - loss: 0.9561 - accuracy: 0.6250 - val_loss: 0.9387 - val_accuracy: 0.6000 - 77ms/epoch - 26ms/step\n",
            "Epoch 40/100\n",
            "3/3 - 0s - loss: 0.9554 - accuracy: 0.6250 - val_loss: 0.9398 - val_accuracy: 0.6000 - 66ms/epoch - 22ms/step\n",
            "Epoch 41/100\n",
            "3/3 - 0s - loss: 0.9544 - accuracy: 0.6250 - val_loss: 0.9394 - val_accuracy: 0.6000 - 77ms/epoch - 26ms/step\n",
            "Epoch 42/100\n",
            "3/3 - 0s - loss: 0.9537 - accuracy: 0.6250 - val_loss: 0.9403 - val_accuracy: 0.6000 - 92ms/epoch - 31ms/step\n",
            "Epoch 43/100\n",
            "3/3 - 0s - loss: 0.9531 - accuracy: 0.6250 - val_loss: 0.9389 - val_accuracy: 0.6000 - 104ms/epoch - 35ms/step\n",
            "Epoch 44/100\n",
            "3/3 - 0s - loss: 0.9528 - accuracy: 0.6250 - val_loss: 0.9384 - val_accuracy: 0.6000 - 68ms/epoch - 23ms/step\n",
            "Epoch 45/100\n",
            "3/3 - 0s - loss: 0.9520 - accuracy: 0.6250 - val_loss: 0.9396 - val_accuracy: 0.6000 - 74ms/epoch - 25ms/step\n",
            "Epoch 46/100\n",
            "3/3 - 0s - loss: 0.9514 - accuracy: 0.6250 - val_loss: 0.9391 - val_accuracy: 0.6000 - 83ms/epoch - 28ms/step\n",
            "Epoch 47/100\n",
            "3/3 - 0s - loss: 0.9511 - accuracy: 0.6250 - val_loss: 0.9385 - val_accuracy: 0.6000 - 79ms/epoch - 26ms/step\n",
            "Epoch 48/100\n",
            "3/3 - 0s - loss: 0.9502 - accuracy: 0.6250 - val_loss: 0.9381 - val_accuracy: 0.6000 - 78ms/epoch - 26ms/step\n",
            "Epoch 49/100\n",
            "3/3 - 0s - loss: 0.9498 - accuracy: 0.6250 - val_loss: 0.9382 - val_accuracy: 0.6000 - 68ms/epoch - 23ms/step\n",
            "Epoch 50/100\n",
            "3/3 - 0s - loss: 0.9496 - accuracy: 0.6250 - val_loss: 0.9378 - val_accuracy: 0.6000 - 61ms/epoch - 20ms/step\n",
            "Epoch 51/100\n",
            "3/3 - 0s - loss: 0.9486 - accuracy: 0.6250 - val_loss: 0.9374 - val_accuracy: 0.6000 - 57ms/epoch - 19ms/step\n",
            "Epoch 52/100\n",
            "3/3 - 0s - loss: 0.9482 - accuracy: 0.6250 - val_loss: 0.9371 - val_accuracy: 0.6000 - 72ms/epoch - 24ms/step\n",
            "Epoch 53/100\n",
            "3/3 - 0s - loss: 0.9478 - accuracy: 0.6250 - val_loss: 0.9377 - val_accuracy: 0.6000 - 49ms/epoch - 16ms/step\n",
            "Epoch 54/100\n",
            "3/3 - 0s - loss: 0.9471 - accuracy: 0.6250 - val_loss: 0.9382 - val_accuracy: 0.6000 - 72ms/epoch - 24ms/step\n",
            "Epoch 55/100\n",
            "3/3 - 0s - loss: 0.9469 - accuracy: 0.6250 - val_loss: 0.9372 - val_accuracy: 0.6000 - 52ms/epoch - 17ms/step\n",
            "Epoch 56/100\n",
            "3/3 - 0s - loss: 0.9467 - accuracy: 0.6250 - val_loss: 0.9362 - val_accuracy: 0.6000 - 88ms/epoch - 29ms/step\n",
            "Epoch 57/100\n",
            "3/3 - 0s - loss: 0.9460 - accuracy: 0.6250 - val_loss: 0.9371 - val_accuracy: 0.6000 - 70ms/epoch - 23ms/step\n",
            "Epoch 58/100\n",
            "3/3 - 0s - loss: 0.9453 - accuracy: 0.6250 - val_loss: 0.9370 - val_accuracy: 0.6000 - 71ms/epoch - 24ms/step\n",
            "Epoch 59/100\n",
            "3/3 - 0s - loss: 0.9449 - accuracy: 0.6250 - val_loss: 0.9372 - val_accuracy: 0.6000 - 72ms/epoch - 24ms/step\n",
            "Epoch 60/100\n",
            "3/3 - 0s - loss: 0.9446 - accuracy: 0.6250 - val_loss: 0.9368 - val_accuracy: 0.6000 - 70ms/epoch - 23ms/step\n",
            "Epoch 61/100\n",
            "3/3 - 0s - loss: 0.9442 - accuracy: 0.6250 - val_loss: 0.9365 - val_accuracy: 0.6000 - 49ms/epoch - 16ms/step\n",
            "Epoch 62/100\n",
            "3/3 - 0s - loss: 0.9440 - accuracy: 0.6250 - val_loss: 0.9369 - val_accuracy: 0.6000 - 47ms/epoch - 16ms/step\n",
            "Epoch 63/100\n",
            "3/3 - 0s - loss: 0.9442 - accuracy: 0.6250 - val_loss: 0.9367 - val_accuracy: 0.6000 - 56ms/epoch - 19ms/step\n",
            "Epoch 64/100\n",
            "3/3 - 0s - loss: 0.9439 - accuracy: 0.6250 - val_loss: 0.9381 - val_accuracy: 0.6000 - 66ms/epoch - 22ms/step\n",
            "Epoch 65/100\n",
            "3/3 - 0s - loss: 0.9429 - accuracy: 0.6250 - val_loss: 0.9369 - val_accuracy: 0.6000 - 68ms/epoch - 23ms/step\n",
            "Epoch 66/100\n",
            "3/3 - 0s - loss: 0.9423 - accuracy: 0.6250 - val_loss: 0.9373 - val_accuracy: 0.6000 - 70ms/epoch - 23ms/step\n",
            "Epoch 67/100\n",
            "3/3 - 0s - loss: 0.9419 - accuracy: 0.6250 - val_loss: 0.9368 - val_accuracy: 0.6000 - 61ms/epoch - 20ms/step\n",
            "Epoch 68/100\n",
            "3/3 - 0s - loss: 0.9420 - accuracy: 0.6250 - val_loss: 0.9376 - val_accuracy: 0.6000 - 73ms/epoch - 24ms/step\n",
            "Epoch 69/100\n",
            "3/3 - 0s - loss: 0.9414 - accuracy: 0.6250 - val_loss: 0.9383 - val_accuracy: 0.6000 - 62ms/epoch - 21ms/step\n",
            "Epoch 70/100\n",
            "3/3 - 0s - loss: 0.9413 - accuracy: 0.6250 - val_loss: 0.9362 - val_accuracy: 0.6000 - 68ms/epoch - 23ms/step\n",
            "Epoch 71/100\n",
            "3/3 - 0s - loss: 0.9409 - accuracy: 0.6250 - val_loss: 0.9357 - val_accuracy: 0.6000 - 52ms/epoch - 17ms/step\n",
            "Epoch 72/100\n",
            "3/3 - 0s - loss: 0.9402 - accuracy: 0.6250 - val_loss: 0.9356 - val_accuracy: 0.6000 - 75ms/epoch - 25ms/step\n",
            "Epoch 73/100\n",
            "3/3 - 0s - loss: 0.9404 - accuracy: 0.6250 - val_loss: 0.9354 - val_accuracy: 0.6000 - 77ms/epoch - 26ms/step\n",
            "Epoch 74/100\n",
            "3/3 - 0s - loss: 0.9399 - accuracy: 0.6250 - val_loss: 0.9361 - val_accuracy: 0.6000 - 50ms/epoch - 17ms/step\n",
            "Epoch 75/100\n",
            "3/3 - 0s - loss: 0.9393 - accuracy: 0.6250 - val_loss: 0.9364 - val_accuracy: 0.6000 - 50ms/epoch - 17ms/step\n",
            "Epoch 76/100\n",
            "3/3 - 0s - loss: 0.9391 - accuracy: 0.6250 - val_loss: 0.9370 - val_accuracy: 0.6000 - 50ms/epoch - 17ms/step\n",
            "Epoch 77/100\n",
            "3/3 - 0s - loss: 0.9388 - accuracy: 0.6250 - val_loss: 0.9374 - val_accuracy: 0.6000 - 78ms/epoch - 26ms/step\n",
            "Epoch 78/100\n",
            "3/3 - 0s - loss: 0.9385 - accuracy: 0.6250 - val_loss: 0.9362 - val_accuracy: 0.6000 - 71ms/epoch - 24ms/step\n",
            "Epoch 79/100\n",
            "3/3 - 0s - loss: 0.9390 - accuracy: 0.6250 - val_loss: 0.9371 - val_accuracy: 0.6000 - 73ms/epoch - 24ms/step\n",
            "Epoch 80/100\n",
            "3/3 - 0s - loss: 0.9380 - accuracy: 0.6250 - val_loss: 0.9374 - val_accuracy: 0.6000 - 66ms/epoch - 22ms/step\n",
            "Epoch 81/100\n",
            "3/3 - 0s - loss: 0.9378 - accuracy: 0.6250 - val_loss: 0.9363 - val_accuracy: 0.6000 - 62ms/epoch - 21ms/step\n",
            "Epoch 82/100\n",
            "3/3 - 0s - loss: 0.9376 - accuracy: 0.6250 - val_loss: 0.9352 - val_accuracy: 0.6000 - 73ms/epoch - 24ms/step\n",
            "Epoch 83/100\n",
            "3/3 - 0s - loss: 0.9370 - accuracy: 0.6250 - val_loss: 0.9357 - val_accuracy: 0.6000 - 73ms/epoch - 24ms/step\n",
            "Epoch 84/100\n",
            "3/3 - 0s - loss: 0.9369 - accuracy: 0.6250 - val_loss: 0.9357 - val_accuracy: 0.6000 - 56ms/epoch - 19ms/step\n",
            "Epoch 85/100\n",
            "3/3 - 0s - loss: 0.9370 - accuracy: 0.6250 - val_loss: 0.9352 - val_accuracy: 0.6000 - 54ms/epoch - 18ms/step\n",
            "Epoch 86/100\n",
            "3/3 - 0s - loss: 0.9362 - accuracy: 0.6250 - val_loss: 0.9354 - val_accuracy: 0.6000 - 71ms/epoch - 24ms/step\n",
            "Epoch 87/100\n",
            "3/3 - 0s - loss: 0.9360 - accuracy: 0.6250 - val_loss: 0.9354 - val_accuracy: 0.6000 - 80ms/epoch - 27ms/step\n",
            "Epoch 88/100\n",
            "3/3 - 0s - loss: 0.9358 - accuracy: 0.6250 - val_loss: 0.9360 - val_accuracy: 0.6000 - 55ms/epoch - 18ms/step\n",
            "Epoch 89/100\n",
            "3/3 - 0s - loss: 0.9360 - accuracy: 0.6250 - val_loss: 0.9347 - val_accuracy: 0.6000 - 62ms/epoch - 21ms/step\n",
            "Epoch 90/100\n",
            "3/3 - 0s - loss: 0.9362 - accuracy: 0.6250 - val_loss: 0.9372 - val_accuracy: 0.6000 - 79ms/epoch - 26ms/step\n",
            "Epoch 91/100\n",
            "3/3 - 0s - loss: 0.9358 - accuracy: 0.6250 - val_loss: 0.9361 - val_accuracy: 0.6000 - 69ms/epoch - 23ms/step\n",
            "Epoch 92/100\n",
            "3/3 - 0s - loss: 0.9349 - accuracy: 0.6250 - val_loss: 0.9353 - val_accuracy: 0.6000 - 80ms/epoch - 27ms/step\n",
            "Epoch 93/100\n",
            "3/3 - 0s - loss: 0.9345 - accuracy: 0.6250 - val_loss: 0.9359 - val_accuracy: 0.6000 - 66ms/epoch - 22ms/step\n",
            "Epoch 94/100\n",
            "3/3 - 0s - loss: 0.9346 - accuracy: 0.6250 - val_loss: 0.9355 - val_accuracy: 0.6000 - 71ms/epoch - 24ms/step\n",
            "Epoch 95/100\n",
            "3/3 - 0s - loss: 0.9343 - accuracy: 0.6250 - val_loss: 0.9346 - val_accuracy: 0.6000 - 69ms/epoch - 23ms/step\n",
            "Epoch 96/100\n",
            "3/3 - 0s - loss: 0.9342 - accuracy: 0.6250 - val_loss: 0.9354 - val_accuracy: 0.6000 - 68ms/epoch - 23ms/step\n",
            "Epoch 97/100\n",
            "3/3 - 0s - loss: 0.9337 - accuracy: 0.6250 - val_loss: 0.9357 - val_accuracy: 0.6000 - 65ms/epoch - 22ms/step\n",
            "Epoch 98/100\n",
            "3/3 - 0s - loss: 0.9334 - accuracy: 0.6250 - val_loss: 0.9356 - val_accuracy: 0.6000 - 52ms/epoch - 17ms/step\n",
            "Epoch 99/100\n",
            "3/3 - 0s - loss: 0.9343 - accuracy: 0.6250 - val_loss: 0.9352 - val_accuracy: 0.6000 - 68ms/epoch - 23ms/step\n",
            "Epoch 100/100\n",
            "3/3 - 0s - loss: 0.9331 - accuracy: 0.6250 - val_loss: 0.9359 - val_accuracy: 0.6000 - 72ms/epoch - 24ms/step\n"
          ]
        }
      ],
      "source": [
        "# Model Building\n",
        "#Defining the model\n",
        "model_2 = keras.Sequential()\n",
        "# Adding the input layer with 64 neurons with relu as an activation function of input shape 11\n",
        "model_2.add(Dense(64, activation='relu',kernel_initializer='he_uniform',input_shape=(11,)))\n",
        "# Adding the first hidden layer with 32 neurons with relu as an activation function\n",
        "model_2.add(Dense(32, activation='relu',kernel_initializer='he_uniform'))\n",
        "# Defining the output layer with 3 neurons with softmax as an activation function\n",
        "model_2.add(Dense(3, activation='softmax'))\n",
        "# Deining the SGD optimizer\n",
        "SGD = optimizers.SGD(lr=1e-3)\n",
        "# Compiling the model with categorical crossentropy as loss function with accuracy as metrics\n",
        "model_2.compile(loss=losses.categorical_crossentropy, optimizer=SGD, metrics=['accuracy'])\n",
        "# Fitting the model on X_train and y_train with 200 epcohs having validation split of 20%\n",
        "history_2=model_2.fit(X_train, y_train, validation_split=0.2, epochs=100, batch_size=128, verbose=2)"
      ]
    },
    {
      "cell_type": "code",
      "execution_count": 19,
      "id": "8ba54dc6",
      "metadata": {
        "colab": {
          "base_uri": "https://localhost:8080/"
        },
        "id": "8ba54dc6",
        "outputId": "e35d7ea7-6535-4ce2-f388-6c2ffda8319d"
      },
      "outputs": [
        {
          "output_type": "stream",
          "name": "stdout",
          "text": [
            "4/4 [==============================] - 0s 5ms/step\n"
          ]
        }
      ],
      "source": [
        "# Predicting on test data\n",
        "y_pred_2=model_2.predict(X_test)"
      ]
    },
    {
      "cell_type": "code",
      "execution_count": 20,
      "id": "92d88d55",
      "metadata": {
        "id": "92d88d55"
      },
      "outputs": [],
      "source": [
        "# Applying argmax\n",
        "y_pred_final_2=[]\n",
        "for i in y_pred_2:\n",
        "    y_pred_final_2.append(np.argmax(i))"
      ]
    },
    {
      "cell_type": "code",
      "execution_count": 21,
      "id": "c4be8bee",
      "metadata": {
        "colab": {
          "base_uri": "https://localhost:8080/"
        },
        "id": "c4be8bee",
        "outputId": "bddc2441-c2c4-4367-a843-f498e32c0c25"
      },
      "outputs": [
        {
          "output_type": "stream",
          "name": "stdout",
          "text": [
            "              precision    recall  f1-score   support\n",
            "\n",
            "           0       0.51      0.98      0.67        51\n",
            "           1       0.00      0.00      0.00        23\n",
            "           2       0.00      0.00      0.00        26\n",
            "\n",
            "    accuracy                           0.50       100\n",
            "   macro avg       0.17      0.33      0.22       100\n",
            "weighted avg       0.26      0.50      0.34       100\n",
            "\n"
          ]
        }
      ],
      "source": [
        "# Classification report\n",
        "print(classification_report(y_test,y_pred_final_2))"
      ]
    },
    {
      "cell_type": "markdown",
      "id": "c4baba49",
      "metadata": {
        "id": "c4baba49"
      },
      "source": [
        "### Correct Answer: **<60**"
      ]
    }
  ],
  "metadata": {
    "kernelspec": {
      "display_name": "Python 3",
      "language": "python",
      "name": "python3"
    },
    "language_info": {
      "codemirror_mode": {
        "name": "ipython",
        "version": 3
      },
      "file_extension": ".py",
      "mimetype": "text/x-python",
      "name": "python",
      "nbconvert_exporter": "python",
      "pygments_lexer": "ipython3",
      "version": "3.8.8"
    },
    "colab": {
      "provenance": [],
      "include_colab_link": true
    }
  },
  "nbformat": 4,
  "nbformat_minor": 5
}