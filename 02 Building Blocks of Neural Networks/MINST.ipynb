{
  "cells": [
    {
      "cell_type": "markdown",
      "metadata": {
        "id": "view-in-github",
        "colab_type": "text"
      },
      "source": [
        "<a href=\"https://colab.research.google.com/github/e-abtahi/Neural_Networks_Portfolio/blob/main/02_Building_Blocks_of_Neural_Networks/MINST.ipynb\" target=\"_parent\"><img src=\"https://colab.research.google.com/assets/colab-badge.svg\" alt=\"Open In Colab\"/></a>"
      ]
    },
    {
      "cell_type": "markdown",
      "metadata": {
        "id": "wfWJSlkItKxw"
      },
      "source": [
        "# Using Neural Networks on MNIST Data"
      ]
    },
    {
      "cell_type": "code",
      "execution_count": null,
      "metadata": {
        "id": "WpoxCD28AOAj"
      },
      "outputs": [],
      "source": [
        "import pandas as pd\n",
        "import numpy as np\n",
        "import keras\n",
        "from tensorflow.keras.utils import to_categorical\n",
        "import warnings\n",
        "warnings.filterwarnings('ignore')\n",
        "from tensorflow.keras.callbacks import ModelCheckpoint, ReduceLROnPlateau"
      ]
    },
    {
      "cell_type": "markdown",
      "metadata": {
        "id": "tcMJzRU-tS9B"
      },
      "source": [
        "## Reading the data"
      ]
    },
    {
      "cell_type": "code",
      "execution_count": null,
      "metadata": {
        "colab": {
          "base_uri": "https://localhost:8080/"
        },
        "id": "GxJJQImBNTia",
        "outputId": "73a4f175-b507-433d-97f1-b74f14377341"
      },
      "outputs": [
        {
          "output_type": "stream",
          "name": "stdout",
          "text": [
            "Downloading data from https://storage.googleapis.com/tensorflow/tf-keras-datasets/mnist.npz\n",
            "11490434/11490434 [==============================] - 0s 0us/step\n"
          ]
        }
      ],
      "source": [
        "from keras.datasets import mnist\n",
        "(x_train, y_train), (x_test, y_test) = mnist.load_data()"
      ]
    },
    {
      "cell_type": "code",
      "execution_count": null,
      "metadata": {
        "colab": {
          "base_uri": "https://localhost:8080/"
        },
        "id": "Q_4ngGpdNwpg",
        "outputId": "69567150-bb71-4b6e-caa1-09a853317ab1"
      },
      "outputs": [
        {
          "output_type": "stream",
          "name": "stdout",
          "text": [
            "(60000, 28, 28)\n",
            "(10000, 28, 28)\n",
            "(60000,)\n",
            "(10000,)\n"
          ]
        }
      ],
      "source": [
        "print(x_train.shape)\n",
        "print(x_test.shape)\n",
        "print(y_train.shape)\n",
        "print(y_test.shape)"
      ]
    },
    {
      "cell_type": "code",
      "execution_count": null,
      "metadata": {
        "colab": {
          "base_uri": "https://localhost:8080/"
        },
        "id": "gBxa4e3-Xeex",
        "outputId": "42265608-ec6d-4aca-d336-874d35358a00"
      },
      "outputs": [
        {
          "output_type": "execute_result",
          "data": {
            "text/plain": [
              "5"
            ]
          },
          "metadata": {},
          "execution_count": 4
        }
      ],
      "source": [
        "y_train[0]"
      ]
    },
    {
      "cell_type": "markdown",
      "metadata": {
        "id": "7yi_xTOEtYw0"
      },
      "source": [
        "## Visualizing images from our data"
      ]
    },
    {
      "cell_type": "code",
      "execution_count": null,
      "metadata": {
        "colab": {
          "base_uri": "https://localhost:8080/",
          "height": 119
        },
        "id": "4CP0IKIdOgs-",
        "outputId": "6be322a9-3cf0-432e-a051-5193eaed5a3a"
      },
      "outputs": [
        {
          "output_type": "display_data",
          "data": {
            "text/plain": [
              "<Figure size 1000x100 with 10 Axes>"
            ],
            "image/png": "[encoded data removed]"
          },
          "metadata": {}
        },
        {
          "output_type": "stream",
          "name": "stdout",
          "text": [
            "label for each of the above image: [5 0 4 1 9 2 1 3 1 4]\n"
          ]
        }
      ],
      "source": [
        "# visualizing the first 10 images in the dataset and their labels\n",
        "%matplotlib inline\n",
        "import matplotlib.pyplot as plt\n",
        "plt.figure(figsize=(10, 1))\n",
        "for i in range(10):\n",
        "    plt.subplot(1, 10, i+1)\n",
        "    plt.imshow(x_train[i], cmap=\"gray\")\n",
        "    plt.axis('off')\n",
        "plt.show()\n",
        "print('label for each of the above image: %s' % (y_train[0:10]))"
      ]
    },
    {
      "cell_type": "markdown",
      "metadata": {
        "id": "V8RfTsqEth4T"
      },
      "source": [
        "## Normalizing our train and test data"
      ]
    },
    {
      "cell_type": "code",
      "execution_count": null,
      "metadata": {
        "colab": {
          "base_uri": "https://localhost:8080/"
        },
        "id": "qzz6OTOdOzg_",
        "outputId": "5aded102-3d58-4dbd-edea-b106d4fb3bd3"
      },
      "outputs": [
        {
          "output_type": "stream",
          "name": "stdout",
          "text": [
            "Training set (60000, 784) (60000,)\n",
            "Test set (10000, 784) (10000,)\n"
          ]
        }
      ],
      "source": [
        "# Flatten the images\n",
        "image_vector_size = 28*28\n",
        "x_train = x_train.reshape(x_train.shape[0], image_vector_size)\n",
        "x_test = x_test.reshape(x_test.shape[0], image_vector_size)\n",
        "\n",
        "# # normalize inputs from 0-255 to 0-1\n",
        "x_train = x_train / 255.0\n",
        "x_test = x_test / 255.0\n",
        "\n",
        "print('Training set', x_train.shape, y_train.shape)\n",
        "print('Test set', x_test.shape, y_test.shape)"
      ]
    },
    {
      "cell_type": "markdown",
      "metadata": {
        "id": "u80k7vtPtpKc"
      },
      "source": [
        "## One-Hot Encoding on the target variables"
      ]
    },
    {
      "cell_type": "code",
      "execution_count": null,
      "metadata": {
        "id": "4EzccWfUPl_l"
      },
      "outputs": [],
      "source": [
        "# Convert to \"one-hot\" vectors using the to_categorical function\n",
        "num_classes = 10\n",
        "y_train = to_categorical(y_train, num_classes)\n",
        "y_test_cat=to_categorical(y_test,num_classes)"
      ]
    },
    {
      "cell_type": "code",
      "execution_count": null,
      "metadata": {
        "colab": {
          "base_uri": "https://localhost:8080/"
        },
        "id": "Ouv10gYwZFfR",
        "outputId": "d74bd442-a4a6-438b-a054-7ed5e68beee0"
      },
      "outputs": [
        {
          "output_type": "stream",
          "name": "stdout",
          "text": [
            "First 5 training lables as one-hot encoded vectors:\n",
            " [[0. 0. 0. 0. 0. 1. 0. 0. 0. 0.]\n",
            " [1. 0. 0. 0. 0. 0. 0. 0. 0. 0.]\n",
            " [0. 0. 0. 0. 1. 0. 0. 0. 0. 0.]\n",
            " [0. 1. 0. 0. 0. 0. 0. 0. 0. 0.]\n",
            " [0. 0. 0. 0. 0. 0. 0. 0. 0. 1.]]\n"
          ]
        }
      ],
      "source": [
        "print(\"First 5 training lables as one-hot encoded vectors:\\n\", y_train[:5])"
      ]
    },
    {
      "cell_type": "markdown",
      "metadata": {
        "id": "la0FEOcCttt9"
      },
      "source": [
        "## Defining the Sequential Model"
      ]
    },
    {
      "cell_type": "code",
      "execution_count": null,
      "metadata": {
        "id": "_LvEzPxfQhVj"
      },
      "outputs": [],
      "source": [
        "# define model\n",
        "\n",
        "from tensorflow.keras import losses\n",
        "from tensorflow.keras import optimizers\n",
        "from tensorflow.keras import Sequential\n",
        "from tensorflow.keras.layers import Dense\n",
        "\n",
        "image_size=28*28\n",
        "\n",
        "# create model\n",
        "model = Sequential()\n",
        "\n",
        "model.add(Dense(256, activation='relu',kernel_initializer='he_uniform',input_shape=(image_size,))) ###Multiple Dense units with Relu activation\n",
        "model.add(Dense(64, activation='relu',kernel_initializer='he_uniform'))\n",
        "model.add(Dense(64, activation='relu',kernel_initializer='he_uniform'))\n",
        "model.add(Dense(32, activation='relu',kernel_initializer='he_uniform'))\n",
        "\n",
        "model.add(Dense(num_classes, activation='softmax')) ### For multiclass classification Softmax is used"
      ]
    },
    {
      "cell_type": "code",
      "execution_count": null,
      "metadata": {
        "id": "P3751ptOSe3r",
        "colab": {
          "base_uri": "https://localhost:8080/"
        },
        "outputId": "e7b951d8-6560-4bdd-e5c2-033119aefc95"
      },
      "outputs": [
        {
          "output_type": "stream",
          "name": "stderr",
          "text": [
            "WARNING:absl:`lr` is deprecated in Keras optimizer, please use `learning_rate` or use the legacy optimizer, e.g.,tf.keras.optimizers.legacy.Adam.\n"
          ]
        }
      ],
      "source": [
        "# Compile model\n",
        "#RMS_prop=optimizers.RMSprop()   ## we can similarly use different optimizers like RMSprop, Adagrad and SGD\n",
        "adam = optimizers.Adam(lr=1e-3)\n",
        "model.compile(loss=losses.categorical_crossentropy, optimizer=adam, metrics=['accuracy']) ### Loss function = Categorical cross entropy"
      ]
    },
    {
      "cell_type": "code",
      "execution_count": null,
      "metadata": {
        "colab": {
          "base_uri": "https://localhost:8080/"
        },
        "id": "qMTLLs33S446",
        "outputId": "2d095dc6-4cf0-419b-82c8-d116412dc424"
      },
      "outputs": [
        {
          "output_type": "stream",
          "name": "stdout",
          "text": [
            "Model: \"sequential\"\n",
            "_________________________________________________________________\n",
            " Layer (type)                Output Shape              Param #   \n",
            "=================================================================\n",
            " dense (Dense)               (None, 256)               200960    \n",
            "                                                                 \n",
            " dense_1 (Dense)             (None, 64)                16448     \n",
            "                                                                 \n",
            " dense_2 (Dense)             (None, 64)                4160      \n",
            "                                                                 \n",
            " dense_3 (Dense)             (None, 32)                2080      \n",
            "                                                                 \n",
            " dense_4 (Dense)             (None, 10)                330       \n",
            "                                                                 \n",
            "=================================================================\n",
            "Total params: 223,978\n",
            "Trainable params: 223,978\n",
            "Non-trainable params: 0\n",
            "_________________________________________________________________\n"
          ]
        }
      ],
      "source": [
        "## Looking into our base model\n",
        "model.summary()"
      ]
    },
    {
      "cell_type": "code",
      "execution_count": null,
      "metadata": {
        "id": "WvZ9dJ8M4D9U"
      },
      "outputs": [],
      "source": [
        "checkpoint = ModelCheckpoint(\"model_weights.h5\",monitor='val_accuracy',\n",
        "                            save_weights_only=True, mode='max',verbose=1)\n",
        "reduce_lr = ReduceLROnPlateau(monitor='val_loss',factor=0.1,patience=2,min_lr=0.00001,model='auto')\n",
        "\n",
        "callbacks = [checkpoint,reduce_lr]"
      ]
    },
    {
      "cell_type": "code",
      "execution_count": null,
      "metadata": {
        "colab": {
          "base_uri": "https://localhost:8080/"
        },
        "id": "yLVwW55hSa67",
        "outputId": "bd39b565-4d04-42eb-ce22-e5ede83f2e1d"
      },
      "outputs": [
        {
          "output_type": "stream",
          "name": "stdout",
          "text": [
            "Epoch 1/10\n",
            "\n",
            "Epoch 1: saving model to model_weights.h5\n",
            "375/375 - 15s - loss: 0.3526 - accuracy: 0.8925 - val_loss: 0.1634 - val_accuracy: 0.9527 - lr: 0.0010 - 15s/epoch - 41ms/step\n",
            "Epoch 2/10\n",
            "\n",
            "Epoch 2: saving model to model_weights.h5\n",
            "375/375 - 7s - loss: 0.1247 - accuracy: 0.9625 - val_loss: 0.1239 - val_accuracy: 0.9647 - lr: 0.0010 - 7s/epoch - 18ms/step\n",
            "Epoch 3/10\n",
            "\n",
            "Epoch 3: saving model to model_weights.h5\n",
            "375/375 - 5s - loss: 0.0863 - accuracy: 0.9734 - val_loss: 0.1152 - val_accuracy: 0.9658 - lr: 0.0010 - 5s/epoch - 14ms/step\n",
            "Epoch 4/10\n",
            "\n",
            "Epoch 4: saving model to model_weights.h5\n",
            "375/375 - 5s - loss: 0.0584 - accuracy: 0.9830 - val_loss: 0.0935 - val_accuracy: 0.9728 - lr: 0.0010 - 5s/epoch - 15ms/step\n",
            "Epoch 5/10\n",
            "\n",
            "Epoch 5: saving model to model_weights.h5\n",
            "375/375 - 5s - loss: 0.0456 - accuracy: 0.9861 - val_loss: 0.0963 - val_accuracy: 0.9735 - lr: 0.0010 - 5s/epoch - 13ms/step\n",
            "Epoch 6/10\n",
            "\n",
            "Epoch 6: saving model to model_weights.h5\n",
            "375/375 - 3s - loss: 0.0355 - accuracy: 0.9885 - val_loss: 0.0969 - val_accuracy: 0.9743 - lr: 0.0010 - 3s/epoch - 7ms/step\n",
            "Epoch 7/10\n",
            "\n",
            "Epoch 7: saving model to model_weights.h5\n",
            "375/375 - 3s - loss: 0.0155 - accuracy: 0.9959 - val_loss: 0.0811 - val_accuracy: 0.9782 - lr: 1.0000e-04 - 3s/epoch - 9ms/step\n",
            "Epoch 8/10\n",
            "\n",
            "Epoch 8: saving model to model_weights.h5\n",
            "375/375 - 4s - loss: 0.0104 - accuracy: 0.9979 - val_loss: 0.0803 - val_accuracy: 0.9786 - lr: 1.0000e-04 - 4s/epoch - 10ms/step\n",
            "Epoch 9/10\n",
            "\n",
            "Epoch 9: saving model to model_weights.h5\n",
            "375/375 - 4s - loss: 0.0086 - accuracy: 0.9985 - val_loss: 0.0805 - val_accuracy: 0.9793 - lr: 1.0000e-04 - 4s/epoch - 10ms/step\n",
            "Epoch 10/10\n",
            "\n",
            "Epoch 10: saving model to model_weights.h5\n",
            "375/375 - 3s - loss: 0.0074 - accuracy: 0.9988 - val_loss: 0.0808 - val_accuracy: 0.9788 - lr: 1.0000e-04 - 3s/epoch - 7ms/step\n"
          ]
        }
      ],
      "source": [
        "# Fit the model\n",
        "history=model.fit(x_train, y_train, validation_split=0.2, epochs=10, batch_size=128, verbose=2,callbacks=callbacks)"
      ]
    },
    {
      "cell_type": "code",
      "execution_count": null,
      "metadata": {
        "id": "hF5N_0XXD2ca"
      },
      "outputs": [],
      "source": [
        "import torch\n",
        "import torchvision\n",
        "import numpy as np\n",
        "import matplotlib\n",
        "import matplotlib.pyplot as plt\n",
        "import torch.nn as nn\n",
        "import torch.nn.functional as F\n",
        "from torchvision.datasets import MNIST\n",
        "from torchvision.transforms import ToTensor\n",
        "from torchvision.utils import make_grid\n",
        "from torch.utils.data.dataloader import DataLoader\n",
        "from torch.utils.data import random_split\n",
        "%matplotlib inline\n",
        "# Use a white background for matplotlib figures\n",
        "matplotlib.rcParams['figure.facecolor'] = '#ffffff'"
      ]
    },
    {
      "cell_type": "code",
      "execution_count": null,
      "metadata": {
        "colab": {
          "base_uri": "https://localhost:8080/"
        },
        "id": "VvYJ2JvAENOo",
        "outputId": "0707e1df-697f-4452-eae9-4cda54ac0635"
      },
      "outputs": [
        {
          "output_type": "execute_result",
          "data": {
            "text/plain": [
              "False"
            ]
          },
          "metadata": {},
          "execution_count": 15
        }
      ],
      "source": [
        "torch.cuda.is_available()"
      ]
    },
    {
      "cell_type": "code",
      "execution_count": null,
      "metadata": {
        "id": "B8GLais7XBDn",
        "colab": {
          "base_uri": "https://localhost:8080/"
        },
        "outputId": "2d0a3026-3018-4149-a7a7-f790179206f6"
      },
      "outputs": [
        {
          "output_type": "stream",
          "name": "stdout",
          "text": [
            "313/313 [==============================] - 1s 4ms/step\n"
          ]
        }
      ],
      "source": [
        "# predicting the model on test data\n",
        "y_pred=model.predict(x_test)\n"
      ]
    },
    {
      "cell_type": "code",
      "execution_count": null,
      "metadata": {
        "colab": {
          "base_uri": "https://localhost:8080/"
        },
        "id": "K01XP9CNaxyY",
        "outputId": "27c421d4-637e-41c3-d81c-1dfbbcabecf5"
      },
      "outputs": [
        {
          "output_type": "execute_result",
          "data": {
            "text/plain": [
              "array([2.4604072e-08, 3.8109405e-07, 1.1163572e-07, 2.2382224e-05,\n",
              "       2.1507318e-10, 1.6939805e-09, 1.1216816e-12, 9.9997085e-01,\n",
              "       8.0249123e-09, 6.1421879e-06], dtype=float32)"
            ]
          },
          "metadata": {},
          "execution_count": 17
        }
      ],
      "source": [
        "y_pred[0]"
      ]
    },
    {
      "cell_type": "code",
      "execution_count": null,
      "metadata": {
        "id": "5D5FLvn3X_VN"
      },
      "outputs": [],
      "source": [
        "# As our outputs are probabilities so we will try to get the output class from these probablities by getting the maximum value\n",
        "y_pred_final=[]\n",
        "for i in y_pred:\n",
        "  y_pred_final.append(np.argmax(i))"
      ]
    },
    {
      "cell_type": "code",
      "execution_count": null,
      "metadata": {
        "colab": {
          "base_uri": "https://localhost:8080/"
        },
        "id": "SM0tKCI9bByz",
        "outputId": "bb4caa36-47c3-441a-da69-8f77ad13a779"
      },
      "outputs": [
        {
          "output_type": "execute_result",
          "data": {
            "text/plain": [
              "7"
            ]
          },
          "metadata": {},
          "execution_count": 19
        }
      ],
      "source": [
        "y_pred_final[0]\n"
      ]
    },
    {
      "cell_type": "markdown",
      "metadata": {
        "id": "dQ__UZypubY5"
      },
      "source": [
        "## Generating the Classification Report"
      ]
    },
    {
      "cell_type": "code",
      "execution_count": null,
      "metadata": {
        "colab": {
          "base_uri": "https://localhost:8080/"
        },
        "id": "G8WR5thXW1er",
        "outputId": "25a59bfa-4823-48e9-af5d-5dfd0a902716"
      },
      "outputs": [
        {
          "output_type": "stream",
          "name": "stdout",
          "text": [
            "              precision    recall  f1-score   support\n",
            "\n",
            "           0       0.99      0.99      0.99       980\n",
            "           1       0.99      0.99      0.99      1135\n",
            "           2       0.98      0.98      0.98      1032\n",
            "           3       0.97      0.98      0.98      1010\n",
            "           4       0.99      0.98      0.98       982\n",
            "           5       0.98      0.99      0.98       892\n",
            "           6       0.98      0.98      0.98       958\n",
            "           7       0.98      0.98      0.98      1028\n",
            "           8       0.98      0.97      0.97       974\n",
            "           9       0.98      0.98      0.98      1009\n",
            "\n",
            "    accuracy                           0.98     10000\n",
            "   macro avg       0.98      0.98      0.98     10000\n",
            "weighted avg       0.98      0.98      0.98     10000\n",
            "\n"
          ]
        }
      ],
      "source": [
        "from sklearn.metrics import classification_report\n",
        "print(classification_report(y_test,y_pred_final))"
      ]
    },
    {
      "cell_type": "markdown",
      "metadata": {
        "id": "CpRdFoieupqh"
      },
      "source": [
        "## Confusion Matrix"
      ]
    },
    {
      "cell_type": "code",
      "execution_count": null,
      "metadata": {
        "colab": {
          "base_uri": "https://localhost:8080/",
          "height": 619
        },
        "id": "6VdYmPDgZdL8",
        "outputId": "7c3d1982-767e-4ffa-9190-fa5661212a4a"
      },
      "outputs": [
        {
          "output_type": "display_data",
          "data": {
            "text/plain": [
              "<Figure size 1000x700 with 2 Axes>"
            ],
            "image/png": "[encoded data removed]"
          },
          "metadata": {}
        }
      ],
      "source": [
        "from sklearn.metrics import confusion_matrix\n",
        "import seaborn as sns\n",
        "\n",
        "cm=confusion_matrix(y_test,y_pred_final)\n",
        "\n",
        "plt.figure(figsize=(10,7))\n",
        "sns.heatmap(cm,annot=True,fmt='d')\n",
        "plt.xlabel('Predicted')\n",
        "plt.ylabel('Truth')\n",
        "plt.show()"
      ]
    },
    {
      "cell_type": "markdown",
      "metadata": {
        "id": "GLhh3nxauyht"
      },
      "source": [
        "## Misclassified images"
      ]
    },
    {
      "cell_type": "code",
      "execution_count": null,
      "metadata": {
        "colab": {
          "base_uri": "https://localhost:8080/"
        },
        "id": "7FV3HGR7bMn9",
        "outputId": "835293c7-44c8-4f6e-df28-4325cfda0e87"
      },
      "outputs": [
        {
          "output_type": "stream",
          "name": "stdout",
          "text": [
            "[115, 247, 259, 321, 340, 381, 445, 495, 582, 619, 684, 691, 720, 740, 839, 882, 900, 938, 951, 1014, 1039, 1112, 1156, 1178, 1182, 1226, 1242, 1247, 1319, 1328, 1393, 1522, 1530, 1549, 1553, 1609, 1626, 1678, 1681, 1751, 1790, 1800, 1850, 1901, 2004, 2016, 2024, 2053, 2070, 2093, 2098, 2109, 2135, 2293, 2369, 2387, 2406, 2408, 2433, 2607, 2648, 2654, 2877, 2896, 2939, 2953, 3030, 3073, 3115, 3117, 3266, 3289, 3422, 3490, 3503, 3520, 3549, 3558, 3559, 3597, 3681, 3718, 3757, 3780, 3796, 3808, 3811, 3853, 3871, 3893, 3906, 3941, 3943, 3985, 4065, 4078, 4116, 4140, 4156, 4163, 4176, 4199, 4224, 4248, 4289, 4294, 4497, 4504, 4536, 4571, 4671, 4731, 4761, 4807, 4823, 4879, 4880, 4950, 4956, 5068, 5078, 5138, 5331, 5457, 5600, 5642, 5676, 5734, 5887, 5936, 5955, 5973, 6011, 6023, 6024, 6045, 6059, 6166, 6168, 6555, 6558, 6571, 6574, 6597, 6641, 6651, 6755, 6783, 6847, 7216, 7481, 7921, 8094, 8311, 8325, 8408, 8522, 8527, 9009, 9015, 9024, 9280, 9587, 9634, 9664, 9679, 9698, 9729, 9735, 9745, 9768, 9770, 9792, 9839, 9858, 9982]\n",
            "176\n"
          ]
        }
      ],
      "source": [
        "index = 0\n",
        "misclassified_images = []\n",
        "for label, predict in zip(y_test, y_pred_final):\n",
        "    if label != predict:\n",
        "        misclassified_images.append(index)\n",
        "    index +=1\n",
        "print(misclassified_images)\n",
        "print(len(misclassified_images))"
      ]
    },
    {
      "cell_type": "markdown",
      "metadata": {
        "id": "5j1U2Js1u4OB"
      },
      "source": [
        "## Predicting the output"
      ]
    },
    {
      "cell_type": "code",
      "execution_count": null,
      "metadata": {
        "colab": {
          "base_uri": "https://localhost:8080/",
          "height": 517
        },
        "collapsed": true,
        "id": "T6fN12oQUIfC",
        "outputId": "a9664e72-2335-4113-b229-e3a811bc8580"
      },
      "outputs": [
        {
          "output_type": "stream",
          "name": "stdout",
          "text": [
            "1/1 [==============================] - 0s 26ms/step\n",
            "Was predicted  0\n",
            "Was labeled  6\n",
            "Predicted Probabilities:  [[9.9683607e-01 2.6741240e-09 1.1664572e-09 2.0575828e-06 2.7428063e-10\n",
            "  6.0309761e-04 2.3734851e-03 1.8499949e-04 2.5462245e-07 8.6069136e-08]]\n"
          ]
        },
        {
          "output_type": "display_data",
          "data": {
            "text/plain": [
              "<Figure size 640x480 with 1 Axes>"
            ],
            "image/png": "[encoded data removed]"
          },
          "metadata": {}
        }
      ],
      "source": [
        "image_index = 445\n",
        "plt.imshow(x_test[image_index].reshape(28, 28),cmap='Greys')\n",
        "pred = model.predict(x_test[image_index].reshape(-1, 784))\n",
        "print(\"Was predicted \",pred.argmax())\n",
        "print(\"Was labeled \",y_test[image_index])\n",
        "print(\"Predicted Probabilities: \",pred)"
      ]
    },
    {
      "cell_type": "markdown",
      "metadata": {
        "id": "paaC3Etwu_EI"
      },
      "source": [
        "## Accuracy Curve"
      ]
    },
    {
      "cell_type": "code",
      "execution_count": null,
      "metadata": {
        "colab": {
          "base_uri": "https://localhost:8080/",
          "height": 472
        },
        "id": "WsYXFGdydw-i",
        "outputId": "856da877-5005-4a9f-d353-c52bbff3ea75"
      },
      "outputs": [
        {
          "output_type": "display_data",
          "data": {
            "text/plain": [
              "<Figure size 640x480 with 1 Axes>"
            ],
            "image/png": "[encoded data removed]"
          },
          "metadata": {}
        }
      ],
      "source": [
        "loss, accuracy  = model.evaluate(x_test, y_test_cat, verbose=False)\n",
        "\n",
        "plt.plot(history.history['accuracy'])\n",
        "plt.plot(history.history['val_accuracy'])\n",
        "plt.title('model accuracy')\n",
        "plt.ylabel('accuracy')\n",
        "plt.xlabel('epoch')\n",
        "plt.legend(['training', 'validation'], loc='best')\n",
        "plt.show()"
      ]
    },
    {
      "cell_type": "markdown",
      "metadata": {
        "id": "-JD472gVvnuf"
      },
      "source": [
        "## Model 2"
      ]
    },
    {
      "cell_type": "markdown",
      "metadata": {
        "id": "TvAuaFdyvQi-"
      },
      "source": [
        "In our first model we have implemented a simple neural network on MNIST data.\n",
        "\n",
        "Now we will try to observe how Batch Normalization and Dropout can be used in our model."
      ]
    },
    {
      "cell_type": "markdown",
      "metadata": {
        "id": "DMqlwY6HfVzU"
      },
      "source": [
        "## Using Batch Normalization and Dropout"
      ]
    },
    {
      "cell_type": "code",
      "execution_count": null,
      "metadata": {
        "id": "O4a6ERT6ePC1"
      },
      "outputs": [],
      "source": [
        "# define model\n",
        "\n",
        "from tensorflow.keras import losses\n",
        "from tensorflow.keras import optimizers\n",
        "from keras import Sequential\n",
        "from tensorflow.keras.layers import Dense\n",
        "from tensorflow.keras.layers import BatchNormalization\n",
        "from tensorflow.keras.layers import Dropout\n",
        "\n",
        "image_size=28*28\n",
        "\n",
        "# create model\n",
        "model_1 = Sequential()\n",
        "\n",
        "model_1.add(Dense(256, activation='relu',kernel_initializer='he_uniform',input_shape=(image_size,))) ###Multiple Dense units with Relu activation\n",
        "model_1.add(Dense(64, activation='relu',kernel_initializer='he_uniform'))\n",
        "model_1.add(Dense(64, activation='relu',kernel_initializer='he_uniform'))## Weight Initialization\n",
        "model_1.add(Dense(32, activation='relu',kernel_initializer='he_uniform'))\n",
        "model_1.add(Dropout(0.5))\n",
        "model_1.add(BatchNormalization())\n",
        "model_1.add(Dense(num_classes, activation='softmax')) ### For multiclass classification Softmax is used"
      ]
    },
    {
      "cell_type": "code",
      "execution_count": null,
      "metadata": {
        "id": "XF6qWlRngU6S",
        "colab": {
          "base_uri": "https://localhost:8080/"
        },
        "outputId": "8bb195ec-524f-4048-a62d-ba50eceab0d3"
      },
      "outputs": [
        {
          "output_type": "stream",
          "name": "stderr",
          "text": [
            "WARNING:absl:`lr` is deprecated in Keras optimizer, please use `learning_rate` or use the legacy optimizer, e.g.,tf.keras.optimizers.legacy.Adam.\n"
          ]
        }
      ],
      "source": [
        "# Compile model\n",
        "adam = optimizers.Adam(lr=1e-3)\n",
        "model_1.compile(loss=losses.categorical_crossentropy, optimizer=adam, metrics=['accuracy']) ### Loss function = Categorical cross entropy"
      ]
    },
    {
      "cell_type": "code",
      "execution_count": null,
      "metadata": {
        "colab": {
          "base_uri": "https://localhost:8080/"
        },
        "id": "VdYCjKwRg_7w",
        "outputId": "742f8497-967e-4fde-a6ce-df617a921a33"
      },
      "outputs": [
        {
          "output_type": "stream",
          "name": "stdout",
          "text": [
            "Model: \"sequential_1\"\n",
            "_________________________________________________________________\n",
            " Layer (type)                Output Shape              Param #   \n",
            "=================================================================\n",
            " dense_5 (Dense)             (None, 256)               200960    \n",
            "                                                                 \n",
            " dense_6 (Dense)             (None, 64)                16448     \n",
            "                                                                 \n",
            " dense_7 (Dense)             (None, 64)                4160      \n",
            "                                                                 \n",
            " dense_8 (Dense)             (None, 32)                2080      \n",
            "                                                                 \n",
            " dropout (Dropout)           (None, 32)                0         \n",
            "                                                                 \n",
            " batch_normalization (BatchN  (None, 32)               128       \n",
            " ormalization)                                                   \n",
            "                                                                 \n",
            " dense_9 (Dense)             (None, 10)                330       \n",
            "                                                                 \n",
            "=================================================================\n",
            "Total params: 224,106\n",
            "Trainable params: 224,042\n",
            "Non-trainable params: 64\n",
            "_________________________________________________________________\n"
          ]
        }
      ],
      "source": [
        "model_1.summary()"
      ]
    },
    {
      "cell_type": "code",
      "execution_count": null,
      "metadata": {
        "id": "3ocU490l3pLb"
      },
      "outputs": [],
      "source": [
        "checkpoint = ModelCheckpoint(\"model_weights_1.h5\",monitor='val_accuracy',\n",
        "                            save_weights_only=True, model='max',verbose=1)\n",
        "reduce_lr = ReduceLROnPlateau(monitor='val_loss',factor=0.1,patience=2,min_lr=0.00001,model='auto')\n",
        "\n",
        "callbacks = [checkpoint,reduce_lr]"
      ]
    },
    {
      "cell_type": "code",
      "execution_count": null,
      "metadata": {
        "colab": {
          "base_uri": "https://localhost:8080/"
        },
        "id": "N3Ttpoa2hFJv",
        "outputId": "8210fc12-71c2-4cf2-ef3a-265b5f12a45b"
      },
      "outputs": [
        {
          "output_type": "stream",
          "name": "stdout",
          "text": [
            "Epoch 1/10\n",
            "\n",
            "Epoch 1: saving model to model_weights_1.h5\n",
            "375/375 - 6s - loss: 0.8104 - accuracy: 0.7775 - val_loss: 0.1829 - val_accuracy: 0.9546 - lr: 0.0010 - 6s/epoch - 16ms/step\n",
            "Epoch 2/10\n",
            "\n",
            "Epoch 2: saving model to model_weights_1.h5\n",
            "375/375 - 4s - loss: 0.3100 - accuracy: 0.9232 - val_loss: 0.1255 - val_accuracy: 0.9654 - lr: 0.0010 - 4s/epoch - 10ms/step\n",
            "Epoch 3/10\n",
            "\n",
            "Epoch 3: saving model to model_weights_1.h5\n",
            "375/375 - 4s - loss: 0.2141 - accuracy: 0.9469 - val_loss: 0.1370 - val_accuracy: 0.9619 - lr: 0.0010 - 4s/epoch - 10ms/step\n",
            "Epoch 4/10\n",
            "\n",
            "Epoch 4: saving model to model_weights_1.h5\n",
            "375/375 - 3s - loss: 0.1686 - accuracy: 0.9568 - val_loss: 0.1031 - val_accuracy: 0.9723 - lr: 0.0010 - 3s/epoch - 9ms/step\n",
            "Epoch 5/10\n",
            "\n",
            "Epoch 5: saving model to model_weights_1.h5\n",
            "375/375 - 5s - loss: 0.1353 - accuracy: 0.9650 - val_loss: 0.1000 - val_accuracy: 0.9738 - lr: 0.0010 - 5s/epoch - 13ms/step\n",
            "Epoch 6/10\n",
            "\n",
            "Epoch 6: saving model to model_weights_1.h5\n",
            "375/375 - 3s - loss: 0.1141 - accuracy: 0.9704 - val_loss: 0.1218 - val_accuracy: 0.9703 - lr: 0.0010 - 3s/epoch - 9ms/step\n",
            "Epoch 7/10\n",
            "\n",
            "Epoch 7: saving model to model_weights_1.h5\n",
            "375/375 - 4s - loss: 0.1006 - accuracy: 0.9730 - val_loss: 0.1050 - val_accuracy: 0.9750 - lr: 0.0010 - 4s/epoch - 10ms/step\n",
            "Epoch 8/10\n",
            "\n",
            "Epoch 8: saving model to model_weights_1.h5\n",
            "375/375 - 4s - loss: 0.0750 - accuracy: 0.9805 - val_loss: 0.0874 - val_accuracy: 0.9793 - lr: 1.0000e-04 - 4s/epoch - 10ms/step\n",
            "Epoch 9/10\n",
            "\n",
            "Epoch 9: saving model to model_weights_1.h5\n",
            "375/375 - 4s - loss: 0.0657 - accuracy: 0.9820 - val_loss: 0.0860 - val_accuracy: 0.9797 - lr: 1.0000e-04 - 4s/epoch - 12ms/step\n",
            "Epoch 10/10\n",
            "\n",
            "Epoch 10: saving model to model_weights_1.h5\n",
            "375/375 - 4s - loss: 0.0619 - accuracy: 0.9839 - val_loss: 0.0868 - val_accuracy: 0.9803 - lr: 1.0000e-04 - 4s/epoch - 10ms/step\n"
          ]
        }
      ],
      "source": [
        "# Fit the model\n",
        "history=model_1.fit(x_train, y_train, validation_split=0.2, epochs=10, batch_size=128, verbose=2, callbacks=callbacks)"
      ]
    },
    {
      "cell_type": "code",
      "execution_count": null,
      "metadata": {
        "id": "lanZzwW-hKcf",
        "colab": {
          "base_uri": "https://localhost:8080/"
        },
        "outputId": "f60268ed-d3a2-4a0c-8671-c2b1b7516858"
      },
      "outputs": [
        {
          "output_type": "stream",
          "name": "stdout",
          "text": [
            "313/313 [==============================] - 1s 3ms/step\n"
          ]
        }
      ],
      "source": [
        "y_pred_1=model_1.predict(x_test)"
      ]
    },
    {
      "cell_type": "code",
      "execution_count": null,
      "metadata": {
        "id": "AEgEtGykhVfR"
      },
      "outputs": [],
      "source": [
        "y_pred_final_1=[]\n",
        "for i in y_pred_1:\n",
        "  y_pred_final_1.append(np.argmax(i))"
      ]
    },
    {
      "cell_type": "code",
      "execution_count": null,
      "metadata": {
        "colab": {
          "base_uri": "https://localhost:8080/"
        },
        "id": "vGZO0z-cheCi",
        "outputId": "ded29f8b-76eb-4064-e26b-2f815e15deec"
      },
      "outputs": [
        {
          "output_type": "stream",
          "name": "stdout",
          "text": [
            "              precision    recall  f1-score   support\n",
            "\n",
            "           0       0.99      0.99      0.99       980\n",
            "           1       0.99      0.99      0.99      1135\n",
            "           2       0.98      0.98      0.98      1032\n",
            "           3       0.98      0.98      0.98      1010\n",
            "           4       0.98      0.98      0.98       982\n",
            "           5       0.98      0.98      0.98       892\n",
            "           6       0.99      0.98      0.98       958\n",
            "           7       0.98      0.98      0.98      1028\n",
            "           8       0.98      0.98      0.98       974\n",
            "           9       0.97      0.98      0.97      1009\n",
            "\n",
            "    accuracy                           0.98     10000\n",
            "   macro avg       0.98      0.98      0.98     10000\n",
            "weighted avg       0.98      0.98      0.98     10000\n",
            "\n"
          ]
        }
      ],
      "source": [
        "from sklearn.metrics import classification_report\n",
        "print(classification_report(y_test,y_pred_final_1))"
      ]
    },
    {
      "cell_type": "code",
      "execution_count": null,
      "metadata": {
        "id": "u9QpcoZzhkP3"
      },
      "outputs": [],
      "source": [
        "from sklearn.metrics import confusion_matrix\n",
        "cm_1=confusion_matrix(y_test,y_pred_final_1)"
      ]
    },
    {
      "cell_type": "code",
      "execution_count": null,
      "metadata": {
        "colab": {
          "base_uri": "https://localhost:8080/",
          "height": 636
        },
        "id": "CcM8g7kMhp8N",
        "outputId": "b84119e5-8457-42c4-c284-e8f3743bd0ba"
      },
      "outputs": [
        {
          "output_type": "execute_result",
          "data": {
            "text/plain": [
              "Text(95.72222222222221, 0.5, 'Truth')"
            ]
          },
          "metadata": {},
          "execution_count": 34
        },
        {
          "output_type": "display_data",
          "data": {
            "text/plain": [
              "<Figure size 1000x700 with 2 Axes>"
            ],
            "image/png": "[encoded data removed]"
          },
          "metadata": {}
        }
      ],
      "source": [
        "plt.figure(figsize=(10,7))\n",
        "sns.heatmap(cm_1,annot=True,fmt='d')\n",
        "plt.xlabel('Predicted')\n",
        "plt.ylabel('Truth')"
      ]
    },
    {
      "cell_type": "code",
      "execution_count": null,
      "metadata": {
        "colab": {
          "base_uri": "https://localhost:8080/"
        },
        "id": "0dZ8vu1MzlFO",
        "outputId": "afe24bab-6fd8-4380-fc00-cc3bdeea8516"
      },
      "outputs": [
        {
          "output_type": "stream",
          "name": "stdout",
          "text": [
            "[8, 115, 124, 149, 151, 247, 321, 340, 445, 449, 582, 583, 619, 684, 691, 720, 740, 844, 882, 924, 938, 947, 956, 1014, 1039, 1044, 1107, 1112, 1156, 1182, 1194, 1226, 1242, 1247, 1260, 1299, 1319, 1328, 1393, 1395, 1425, 1522, 1530, 1549, 1553, 1609, 1621, 1670, 1681, 1754, 1790, 1878, 1901, 2016, 2018, 2024, 2035, 2053, 2098, 2109, 2130, 2135, 2224, 2293, 2369, 2371, 2387, 2433, 2454, 2597, 2648, 2654, 2771, 2863, 2877, 2921, 2939, 2953, 3060, 3073, 3117, 3225, 3251, 3284, 3422, 3503, 3520, 3534, 3549, 3558, 3559, 3567, 3751, 3767, 3776, 3808, 3811, 3818, 3853, 3869, 3871, 3893, 3906, 3943, 3985, 4065, 4078, 4176, 4199, 4201, 4224, 4248, 4265, 4289, 4497, 4536, 4547, 4731, 4740, 4807, 4814, 4823, 4860, 4880, 5138, 5331, 5457, 5634, 5642, 5676, 5734, 5842, 5887, 5888, 5926, 5936, 5955, 5973, 6011, 6023, 6059, 6173, 6505, 6555, 6571, 6597, 6603, 6641, 6651, 6755, 6783, 6847, 7434, 7492, 8059, 8094, 8311, 8325, 8408, 8527, 9009, 9015, 9024, 9071, 9587, 9634, 9664, 9679, 9729, 9749, 9768, 9770, 9779, 9808, 9839, 9944, 9982]\n",
            "177\n"
          ]
        }
      ],
      "source": [
        "index = 0\n",
        "misclassified_images = []\n",
        "for label, predict in zip(y_test, y_pred_final_1):\n",
        "    if label != predict:\n",
        "        misclassified_images.append(index)\n",
        "    index +=1\n",
        "print(misclassified_images)\n",
        "print(len(misclassified_images))"
      ]
    },
    {
      "cell_type": "code",
      "execution_count": null,
      "metadata": {
        "colab": {
          "base_uri": "https://localhost:8080/"
        },
        "id": "RQXa4gEqh4yW",
        "outputId": "451133c1-e60d-4b1c-c956-1221ca48cbbb"
      },
      "outputs": [
        {
          "output_type": "stream",
          "name": "stdout",
          "text": [
            "1/1 [==============================] - 0s 36ms/step\n",
            "Was predicted  9\n",
            "Was labeled  4\n",
            "Predicted Probabilities:  [[4.1840904e-06 1.7423395e-06 4.2801935e-06 9.4217748e-06 2.6055424e-02\n",
            "  2.3547667e-05 2.3284161e-05 6.1733317e-06 1.8274450e-05 9.7385365e-01]]\n"
          ]
        },
        {
          "output_type": "display_data",
          "data": {
            "text/plain": [
              "<Figure size 640x480 with 1 Axes>"
            ],
            "image/png": "[encoded data removed]"
          },
          "metadata": {}
        }
      ],
      "source": [
        "image_index = 115\n",
        "plt.imshow(x_test[image_index].reshape(28, 28),cmap='Greys')\n",
        "pred = model_1.predict(x_test[image_index].reshape(-1, 784))\n",
        "print(\"Was predicted \",pred.argmax())\n",
        "print(\"Was labeled \",y_test[image_index])\n",
        "print(\"Predicted Probabilities: \",pred)"
      ]
    },
    {
      "cell_type": "code",
      "execution_count": null,
      "metadata": {
        "colab": {
          "base_uri": "https://localhost:8080/",
          "height": 472
        },
        "id": "aVgkHx4AzK9X",
        "outputId": "91504079-0c92-46e3-8274-1fef93a1d833"
      },
      "outputs": [
        {
          "output_type": "display_data",
          "data": {
            "text/plain": [
              "<Figure size 640x480 with 1 Axes>"
            ],
            "image/png": "[encoded data removed]"
          },
          "metadata": {}
        }
      ],
      "source": [
        "loss, accuracy  = model_1.evaluate(x_test, y_test_cat, verbose=False)\n",
        "\n",
        "plt.plot(history.history['accuracy'])\n",
        "plt.plot(history.history['val_accuracy'])\n",
        "plt.title('model accuracy')\n",
        "plt.ylabel('accuracy')\n",
        "plt.xlabel('epoch')\n",
        "plt.legend(['training', 'validation'], loc='best')\n",
        "plt.show()"
      ]
    },
    {
      "cell_type": "markdown",
      "metadata": {
        "id": "7rojee-LwAjq"
      },
      "source": [
        "# Summary\n",
        "\n",
        "1. We can observe from our both models that model with batch normalization and dropout is performing similar in terms of misclassifications.\n",
        "2. However, the accuracy curve for train and validation shows that our model with dropout and batch normalization is much less an overfit.\n",
        "3. Thus we achieve higher accuracy score of 97% to 98%."
      ]
    }
  ],
  "metadata": {
    "accelerator": "TPU",
    "colab": {
      "collapsed_sections": [
        "tcMJzRU-tS9B",
        "7yi_xTOEtYw0",
        "V8RfTsqEth4T",
        "u80k7vtPtpKc",
        "la0FEOcCttt9",
        "dQ__UZypubY5",
        "CpRdFoieupqh",
        "GLhh3nxauyht",
        "5j1U2Js1u4OB",
        "paaC3Etwu_EI"
      ],
      "provenance": [],
      "include_colab_link": true
    },
    "kernelspec": {
      "display_name": "Python 3",
      "name": "python3"
    },
    "language_info": {
      "name": "python"
    }
  },
  "nbformat": 4,
  "nbformat_minor": 0
}