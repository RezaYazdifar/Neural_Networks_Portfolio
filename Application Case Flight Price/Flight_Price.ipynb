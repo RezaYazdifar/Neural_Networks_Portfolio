{
  "cells": [
    {
      "cell_type": "markdown",
      "metadata": {
        "id": "view-in-github",
        "colab_type": "text"
      },
      "source": [
        "<a href=\"https://colab.research.google.com/github/e-abtahi/Neural_Networks_Portfolio/blob/main/Application_Case_Flight_Price/Flight_Price.ipynb\" target=\"_parent\"><img src=\"https://colab.research.google.com/assets/colab-badge.svg\" alt=\"Open In Colab\"/></a>"
      ]
    },
    {
      "cell_type": "markdown",
      "id": "bee32589",
      "metadata": {
        "id": "bee32589"
      },
      "source": [
        "# Flight Price Prediction Case Study\n",
        "\n",
        "## Context and Problem\n",
        " - The objective of this project is to predict the price of a flight with a set of relevant flight details provided\n",
        " - The flight details have information related to flight timings, source and destination details, route details, stops in between, etc.\n",
        " - The dataset consists of about one year of information about various flights and their respective prices.\n",
        "\n",
        "## Data Information\n",
        "\n",
        "The data at hand has eleven features about the spending on advertising and the target variable is the net sales. Attributes are:\n",
        "\n",
        "- Airline - Company that provides air transport services for traveling passengers. (Independent Variable)\n",
        "- Source  - From where the flight is takes off.(Independent Variable)\n",
        "- Destination - To where the flight is going.(Independent Variable)\n",
        "- Route   - What is the route of each flight.(Independent Variable)\n",
        "- Dep Time - Departure Time of the flight.(Independent Variable)\n",
        "- Arrival Time - Arrival Time of the flight.(Independent Variable)\n",
        "- Duration - Total duration of the flight.(Independent Variable)\n",
        "- Total Stops - Number of stops between source and destination.(Independent Variable)\n",
        "- Additional info - Additional information about the flight is given.(Independent Variable)\n",
        "- Price - Price of each flight.(Dependent Variable)"
      ]
    },
    {
      "cell_type": "markdown",
      "source": [
        "**Mounting the Drive**"
      ],
      "metadata": {
        "id": "qxBII-vQ7lBN"
      },
      "id": "qxBII-vQ7lBN"
    },
    {
      "cell_type": "code",
      "execution_count": 1,
      "id": "bWIUp4WZBZ0r",
      "metadata": {
        "colab": {
          "base_uri": "https://localhost:8080/"
        },
        "id": "bWIUp4WZBZ0r",
        "outputId": "d9f42bb6-eb56-42ec-a035-18c1f6239ec3"
      },
      "outputs": [
        {
          "output_type": "stream",
          "name": "stdout",
          "text": [
            "Mounted at /content/drive\n"
          ]
        }
      ],
      "source": [
        "from google.colab import drive\n",
        "drive.mount('/content/drive')"
      ]
    },
    {
      "cell_type": "markdown",
      "id": "8612eb2e",
      "metadata": {
        "id": "8612eb2e"
      },
      "source": [
        "**Loading the required libraries**"
      ]
    },
    {
      "cell_type": "code",
      "execution_count": 2,
      "id": "f1c8c027",
      "metadata": {
        "id": "f1c8c027"
      },
      "outputs": [],
      "source": [
        "# Libraries to help with reading and manipulating data\n",
        "import numpy as np\n",
        "import pandas as pd\n",
        "# libaries to help with data visualization\n",
        "import matplotlib.pyplot as pyplot\n",
        "import matplotlib.pyplot as plt\n",
        "import seaborn as sns\n",
        "# Library to split data\n",
        "from sklearn.model_selection import train_test_split\n",
        "# library to import to standardize the data\n",
        "from sklearn.preprocessing import StandardScaler\n",
        "#To import different metrics\n",
        "from sklearn.metrics import explained_variance_score, mean_squared_error, r2_score, mean_absolute_error\n",
        "#Importing classback API\n",
        "from keras import callbacks\n",
        "# Importing tensorflow library\n",
        "import tensorflow as tf\n",
        "# importing different functions to build models\n",
        "from tensorflow.keras.layers import Dense, Dropout,InputLayer\n",
        "from tensorflow.keras.models import Sequential\n",
        "# Importing Batch Normalization\n",
        "from keras.layers import BatchNormalization\n",
        "# Importing backend\n",
        "from tensorflow.keras import backend\n",
        "# Importing shffule\n",
        "from random import shuffle\n",
        "from keras.callbacks import ModelCheckpoint\n",
        "# Importing optimizers\n",
        "from tensorflow.keras.optimizers import Adam\n",
        "from tensorflow.keras.optimizers import RMSprop\n",
        "# Library to avoid the warnings\n",
        "import warnings\n",
        "warnings.filterwarnings(\"ignore\")"
      ]
    },
    {
      "cell_type": "markdown",
      "id": "255ff0c3",
      "metadata": {
        "id": "255ff0c3"
      },
      "source": [
        "#### **Reading the Dataset**"
      ]
    },
    {
      "cell_type": "code",
      "execution_count": 3,
      "id": "f4843f95",
      "metadata": {
        "id": "f4843f95"
      },
      "outputs": [],
      "source": [
        "#Since data is in form of excel file we have to use pandas pd.read_excel to load the data.\n",
        "data = pd.read_excel('/content/drive/MyDrive/Data.xlsx')"
      ]
    },
    {
      "cell_type": "markdown",
      "id": "02bf07e4",
      "metadata": {
        "id": "02bf07e4"
      },
      "source": [
        "#### Print the first five rows of the data"
      ]
    },
    {
      "cell_type": "code",
      "execution_count": 4,
      "id": "fe693428",
      "metadata": {
        "colab": {
          "base_uri": "https://localhost:8080/",
          "height": 206
        },
        "id": "fe693428",
        "outputId": "70f66984-a36a-45ff-9622-43a2e9ed62ed"
      },
      "outputs": [
        {
          "output_type": "execute_result",
          "data": {
            "text/plain": [
              "       Airline Date_of_Journey    Source Destination                  Route  \\\n",
              "0       IndiGo      24/03/2019  Banglore   New Delhi              BLR → DEL   \n",
              "1    Air India       1/05/2019   Kolkata    Banglore  CCU → IXR → BBI → BLR   \n",
              "2  Jet Airways       9/06/2019     Delhi      Cochin  DEL → LKO → BOM → COK   \n",
              "3       IndiGo      12/05/2019   Kolkata    Banglore        CCU → NAG → BLR   \n",
              "4       IndiGo      01/03/2019  Banglore   New Delhi        BLR → NAG → DEL   \n",
              "\n",
              "  Dep_Time  Arrival_Time Duration Total_Stops Additional_Info  Price  \n",
              "0    22:20  01:10 22 Mar   2h 50m    non-stop         No info   3897  \n",
              "1    05:50         13:15   7h 25m     2 stops         No info   7662  \n",
              "2    09:25  04:25 10 Jun      19h     2 stops         No info  13882  \n",
              "3    18:05         23:30   5h 25m      1 stop         No info   6218  \n",
              "4    16:50         21:35   4h 45m      1 stop         No info  13302  "
            ],
            "text/html": [
              "\n",
              "  <div id=\"df-7ad41d28-a179-4582-a548-c70c3a3473da\" class=\"colab-df-container\">\n",
              "    <div>\n",
              "<style scoped>\n",
              "    .dataframe tbody tr th:only-of-type {\n",
              "        vertical-align: middle;\n",
              "    }\n",
              "\n",
              "    .dataframe tbody tr th {\n",
              "        vertical-align: top;\n",
              "    }\n",
              "\n",
              "    .dataframe thead th {\n",
              "        text-align: right;\n",
              "    }\n",
              "</style>\n",
              "<table border=\"1\" class=\"dataframe\">\n",
              "  <thead>\n",
              "    <tr style=\"text-align: right;\">\n",
              "      <th></th>\n",
              "      <th>Airline</th>\n",
              "      <th>Date_of_Journey</th>\n",
              "      <th>Source</th>\n",
              "      <th>Destination</th>\n",
              "      <th>Route</th>\n",
              "      <th>Dep_Time</th>\n",
              "      <th>Arrival_Time</th>\n",
              "      <th>Duration</th>\n",
              "      <th>Total_Stops</th>\n",
              "      <th>Additional_Info</th>\n",
              "      <th>Price</th>\n",
              "    </tr>\n",
              "  </thead>\n",
              "  <tbody>\n",
              "    <tr>\n",
              "      <th>0</th>\n",
              "      <td>IndiGo</td>\n",
              "      <td>24/03/2019</td>\n",
              "      <td>Banglore</td>\n",
              "      <td>New Delhi</td>\n",
              "      <td>BLR → DEL</td>\n",
              "      <td>22:20</td>\n",
              "      <td>01:10 22 Mar</td>\n",
              "      <td>2h 50m</td>\n",
              "      <td>non-stop</td>\n",
              "      <td>No info</td>\n",
              "      <td>3897</td>\n",
              "    </tr>\n",
              "    <tr>\n",
              "      <th>1</th>\n",
              "      <td>Air India</td>\n",
              "      <td>1/05/2019</td>\n",
              "      <td>Kolkata</td>\n",
              "      <td>Banglore</td>\n",
              "      <td>CCU → IXR → BBI → BLR</td>\n",
              "      <td>05:50</td>\n",
              "      <td>13:15</td>\n",
              "      <td>7h 25m</td>\n",
              "      <td>2 stops</td>\n",
              "      <td>No info</td>\n",
              "      <td>7662</td>\n",
              "    </tr>\n",
              "    <tr>\n",
              "      <th>2</th>\n",
              "      <td>Jet Airways</td>\n",
              "      <td>9/06/2019</td>\n",
              "      <td>Delhi</td>\n",
              "      <td>Cochin</td>\n",
              "      <td>DEL → LKO → BOM → COK</td>\n",
              "      <td>09:25</td>\n",
              "      <td>04:25 10 Jun</td>\n",
              "      <td>19h</td>\n",
              "      <td>2 stops</td>\n",
              "      <td>No info</td>\n",
              "      <td>13882</td>\n",
              "    </tr>\n",
              "    <tr>\n",
              "      <th>3</th>\n",
              "      <td>IndiGo</td>\n",
              "      <td>12/05/2019</td>\n",
              "      <td>Kolkata</td>\n",
              "      <td>Banglore</td>\n",
              "      <td>CCU → NAG → BLR</td>\n",
              "      <td>18:05</td>\n",
              "      <td>23:30</td>\n",
              "      <td>5h 25m</td>\n",
              "      <td>1 stop</td>\n",
              "      <td>No info</td>\n",
              "      <td>6218</td>\n",
              "    </tr>\n",
              "    <tr>\n",
              "      <th>4</th>\n",
              "      <td>IndiGo</td>\n",
              "      <td>01/03/2019</td>\n",
              "      <td>Banglore</td>\n",
              "      <td>New Delhi</td>\n",
              "      <td>BLR → NAG → DEL</td>\n",
              "      <td>16:50</td>\n",
              "      <td>21:35</td>\n",
              "      <td>4h 45m</td>\n",
              "      <td>1 stop</td>\n",
              "      <td>No info</td>\n",
              "      <td>13302</td>\n",
              "    </tr>\n",
              "  </tbody>\n",
              "</table>\n",
              "</div>\n",
              "    <div class=\"colab-df-buttons\">\n",
              "\n",
              "  <div class=\"colab-df-container\">\n",
              "    <button class=\"colab-df-convert\" onclick=\"convertToInteractive('df-7ad41d28-a179-4582-a548-c70c3a3473da')\"\n",
              "            title=\"Convert this dataframe to an interactive table.\"\n",
              "            style=\"display:none;\">\n",
              "\n",
              "  <svg xmlns=\"http://www.w3.org/2000/svg\" height=\"24px\" viewBox=\"0 -960 960 960\">\n",
              "    <path d=\"M120-120v-720h720v720H120Zm60-500h600v-160H180v160Zm220 220h160v-160H400v160Zm0 220h160v-160H400v160ZM180-400h160v-160H180v160Zm440 0h160v-160H620v160ZM180-180h160v-160H180v160Zm440 0h160v-160H620v160Z\"/>\n",
              "  </svg>\n",
              "    </button>\n",
              "\n",
              "  <style>\n",
              "    .colab-df-container {\n",
              "      display:flex;\n",
              "      gap: 12px;\n",
              "    }\n",
              "\n",
              "    .colab-df-convert {\n",
              "      background-color: #E8F0FE;\n",
              "      border: none;\n",
              "      border-radius: 50%;\n",
              "      cursor: pointer;\n",
              "      display: none;\n",
              "      fill: #1967D2;\n",
              "      height: 32px;\n",
              "      padding: 0 0 0 0;\n",
              "      width: 32px;\n",
              "    }\n",
              "\n",
              "    .colab-df-convert:hover {\n",
              "      background-color: #E2EBFA;\n",
              "      box-shadow: 0px 1px 2px rgba(60, 64, 67, 0.3), 0px 1px 3px 1px rgba(60, 64, 67, 0.15);\n",
              "      fill: #174EA6;\n",
              "    }\n",
              "\n",
              "    .colab-df-buttons div {\n",
              "      margin-bottom: 4px;\n",
              "    }\n",
              "\n",
              "    [theme=dark] .colab-df-convert {\n",
              "      background-color: #3B4455;\n",
              "      fill: #D2E3FC;\n",
              "    }\n",
              "\n",
              "    [theme=dark] .colab-df-convert:hover {\n",
              "      background-color: #434B5C;\n",
              "      box-shadow: 0px 1px 3px 1px rgba(0, 0, 0, 0.15);\n",
              "      filter: drop-shadow(0px 1px 2px rgba(0, 0, 0, 0.3));\n",
              "      fill: #FFFFFF;\n",
              "    }\n",
              "  </style>\n",
              "\n",
              "    <script>\n",
              "      const buttonEl =\n",
              "        document.querySelector('#df-7ad41d28-a179-4582-a548-c70c3a3473da button.colab-df-convert');\n",
              "      buttonEl.style.display =\n",
              "        google.colab.kernel.accessAllowed ? 'block' : 'none';\n",
              "\n",
              "      async function convertToInteractive(key) {\n",
              "        const element = document.querySelector('#df-7ad41d28-a179-4582-a548-c70c3a3473da');\n",
              "        const dataTable =\n",
              "          await google.colab.kernel.invokeFunction('convertToInteractive',\n",
              "                                                    [key], {});\n",
              "        if (!dataTable) return;\n",
              "\n",
              "        const docLinkHtml = 'Like what you see? Visit the ' +\n",
              "          '<a target=\"_blank\" href=https://colab.research.google.com/notebooks/data_table.ipynb>data table notebook</a>'\n",
              "          + ' to learn more about interactive tables.';\n",
              "        element.innerHTML = '';\n",
              "        dataTable['output_type'] = 'display_data';\n",
              "        await google.colab.output.renderOutput(dataTable, element);\n",
              "        const docLink = document.createElement('div');\n",
              "        docLink.innerHTML = docLinkHtml;\n",
              "        element.appendChild(docLink);\n",
              "      }\n",
              "    </script>\n",
              "  </div>\n",
              "\n",
              "\n",
              "<div id=\"df-783c062b-0dbc-4df9-8fd3-bac3df7d07cc\">\n",
              "  <button class=\"colab-df-quickchart\" onclick=\"quickchart('df-783c062b-0dbc-4df9-8fd3-bac3df7d07cc')\"\n",
              "            title=\"Suggest charts\"\n",
              "            style=\"display:none;\">\n",
              "\n",
              "<svg xmlns=\"http://www.w3.org/2000/svg\" height=\"24px\"viewBox=\"0 0 24 24\"\n",
              "     width=\"24px\">\n",
              "    <g>\n",
              "        <path d=\"M19 3H5c-1.1 0-2 .9-2 2v14c0 1.1.9 2 2 2h14c1.1 0 2-.9 2-2V5c0-1.1-.9-2-2-2zM9 17H7v-7h2v7zm4 0h-2V7h2v10zm4 0h-2v-4h2v4z\"/>\n",
              "    </g>\n",
              "</svg>\n",
              "  </button>\n",
              "\n",
              "<style>\n",
              "  .colab-df-quickchart {\n",
              "      --bg-color: #E8F0FE;\n",
              "      --fill-color: #1967D2;\n",
              "      --hover-bg-color: #E2EBFA;\n",
              "      --hover-fill-color: #174EA6;\n",
              "      --disabled-fill-color: #AAA;\n",
              "      --disabled-bg-color: #DDD;\n",
              "  }\n",
              "\n",
              "  [theme=dark] .colab-df-quickchart {\n",
              "      --bg-color: #3B4455;\n",
              "      --fill-color: #D2E3FC;\n",
              "      --hover-bg-color: #434B5C;\n",
              "      --hover-fill-color: #FFFFFF;\n",
              "      --disabled-bg-color: #3B4455;\n",
              "      --disabled-fill-color: #666;\n",
              "  }\n",
              "\n",
              "  .colab-df-quickchart {\n",
              "    background-color: var(--bg-color);\n",
              "    border: none;\n",
              "    border-radius: 50%;\n",
              "    cursor: pointer;\n",
              "    display: none;\n",
              "    fill: var(--fill-color);\n",
              "    height: 32px;\n",
              "    padding: 0;\n",
              "    width: 32px;\n",
              "  }\n",
              "\n",
              "  .colab-df-quickchart:hover {\n",
              "    background-color: var(--hover-bg-color);\n",
              "    box-shadow: 0 1px 2px rgba(60, 64, 67, 0.3), 0 1px 3px 1px rgba(60, 64, 67, 0.15);\n",
              "    fill: var(--button-hover-fill-color);\n",
              "  }\n",
              "\n",
              "  .colab-df-quickchart-complete:disabled,\n",
              "  .colab-df-quickchart-complete:disabled:hover {\n",
              "    background-color: var(--disabled-bg-color);\n",
              "    fill: var(--disabled-fill-color);\n",
              "    box-shadow: none;\n",
              "  }\n",
              "\n",
              "  .colab-df-spinner {\n",
              "    border: 2px solid var(--fill-color);\n",
              "    border-color: transparent;\n",
              "    border-bottom-color: var(--fill-color);\n",
              "    animation:\n",
              "      spin 1s steps(1) infinite;\n",
              "  }\n",
              "\n",
              "  @keyframes spin {\n",
              "    0% {\n",
              "      border-color: transparent;\n",
              "      border-bottom-color: var(--fill-color);\n",
              "      border-left-color: var(--fill-color);\n",
              "    }\n",
              "    20% {\n",
              "      border-color: transparent;\n",
              "      border-left-color: var(--fill-color);\n",
              "      border-top-color: var(--fill-color);\n",
              "    }\n",
              "    30% {\n",
              "      border-color: transparent;\n",
              "      border-left-color: var(--fill-color);\n",
              "      border-top-color: var(--fill-color);\n",
              "      border-right-color: var(--fill-color);\n",
              "    }\n",
              "    40% {\n",
              "      border-color: transparent;\n",
              "      border-right-color: var(--fill-color);\n",
              "      border-top-color: var(--fill-color);\n",
              "    }\n",
              "    60% {\n",
              "      border-color: transparent;\n",
              "      border-right-color: var(--fill-color);\n",
              "    }\n",
              "    80% {\n",
              "      border-color: transparent;\n",
              "      border-right-color: var(--fill-color);\n",
              "      border-bottom-color: var(--fill-color);\n",
              "    }\n",
              "    90% {\n",
              "      border-color: transparent;\n",
              "      border-bottom-color: var(--fill-color);\n",
              "    }\n",
              "  }\n",
              "</style>\n",
              "\n",
              "  <script>\n",
              "    async function quickchart(key) {\n",
              "      const quickchartButtonEl =\n",
              "        document.querySelector('#' + key + ' button');\n",
              "      quickchartButtonEl.disabled = true;  // To prevent multiple clicks.\n",
              "      quickchartButtonEl.classList.add('colab-df-spinner');\n",
              "      try {\n",
              "        const charts = await google.colab.kernel.invokeFunction(\n",
              "            'suggestCharts', [key], {});\n",
              "      } catch (error) {\n",
              "        console.error('Error during call to suggestCharts:', error);\n",
              "      }\n",
              "      quickchartButtonEl.classList.remove('colab-df-spinner');\n",
              "      quickchartButtonEl.classList.add('colab-df-quickchart-complete');\n",
              "    }\n",
              "    (() => {\n",
              "      let quickchartButtonEl =\n",
              "        document.querySelector('#df-783c062b-0dbc-4df9-8fd3-bac3df7d07cc button');\n",
              "      quickchartButtonEl.style.display =\n",
              "        google.colab.kernel.accessAllowed ? 'block' : 'none';\n",
              "    })();\n",
              "  </script>\n",
              "</div>\n",
              "    </div>\n",
              "  </div>\n"
            ]
          },
          "metadata": {},
          "execution_count": 4
        }
      ],
      "source": [
        "data.head()"
      ]
    },
    {
      "cell_type": "code",
      "execution_count": 5,
      "id": "8e9ae0b7",
      "metadata": {
        "colab": {
          "base_uri": "https://localhost:8080/"
        },
        "id": "8e9ae0b7",
        "outputId": "cea91b51-820c-4e48-b1c7-a619aa3e4f19"
      },
      "outputs": [
        {
          "output_type": "stream",
          "name": "stdout",
          "text": [
            "<class 'pandas.core.frame.DataFrame'>\n",
            "RangeIndex: 10682 entries, 0 to 10681\n",
            "Data columns (total 11 columns):\n",
            " #   Column           Non-Null Count  Dtype \n",
            "---  ------           --------------  ----- \n",
            " 0   Airline          10682 non-null  object\n",
            " 1   Date_of_Journey  10682 non-null  object\n",
            " 2   Source           10682 non-null  object\n",
            " 3   Destination      10682 non-null  object\n",
            " 4   Route            10681 non-null  object\n",
            " 5   Dep_Time         10682 non-null  object\n",
            " 6   Arrival_Time     10682 non-null  object\n",
            " 7   Duration         10682 non-null  object\n",
            " 8   Total_Stops      10681 non-null  object\n",
            " 9   Additional_Info  10682 non-null  object\n",
            " 10  Price            10682 non-null  int64 \n",
            "dtypes: int64(1), object(10)\n",
            "memory usage: 918.1+ KB\n"
          ]
        }
      ],
      "source": [
        "#Information about the data\n",
        "data.info()"
      ]
    },
    {
      "cell_type": "code",
      "execution_count": 6,
      "id": "d0bcad9a",
      "metadata": {
        "colab": {
          "base_uri": "https://localhost:8080/"
        },
        "id": "d0bcad9a",
        "outputId": "1066028d-0d7c-4c80-9ffc-c43c0393260c"
      },
      "outputs": [
        {
          "output_type": "execute_result",
          "data": {
            "text/plain": [
              "(10682, 11)"
            ]
          },
          "metadata": {},
          "execution_count": 6
        }
      ],
      "source": [
        "#Checking the shape of the data\n",
        "data.shape"
      ]
    },
    {
      "cell_type": "code",
      "execution_count": 7,
      "id": "f8f58a15",
      "metadata": {
        "colab": {
          "base_uri": "https://localhost:8080/"
        },
        "id": "f8f58a15",
        "outputId": "a8509699-11ff-40f0-8a40-b6714a2db22a"
      },
      "outputs": [
        {
          "output_type": "execute_result",
          "data": {
            "text/plain": [
              "Airline            0\n",
              "Date_of_Journey    0\n",
              "Source             0\n",
              "Destination        0\n",
              "Route              1\n",
              "Dep_Time           0\n",
              "Arrival_Time       0\n",
              "Duration           0\n",
              "Total_Stops        1\n",
              "Additional_Info    0\n",
              "Price              0\n",
              "dtype: int64"
            ]
          },
          "metadata": {},
          "execution_count": 7
        }
      ],
      "source": [
        "#finding the null values\n",
        "data.isnull().sum()"
      ]
    },
    {
      "cell_type": "code",
      "execution_count": 8,
      "id": "b0b813cd",
      "metadata": {
        "colab": {
          "base_uri": "https://localhost:8080/",
          "height": 81
        },
        "id": "b0b813cd",
        "outputId": "7042acfb-0b52-4812-aa6b-0d8eef583a92"
      },
      "outputs": [
        {
          "output_type": "execute_result",
          "data": {
            "text/plain": [
              "        Airline Date_of_Journey Source Destination Route Dep_Time  \\\n",
              "9038  Air India       6/05/2019  Delhi      Cochin   NaN    09:45   \n",
              "\n",
              "      Arrival_Time Duration Total_Stops Additional_Info  Price  \n",
              "9038  09:25 07 May  23h 40m         NaN         No info   7480  "
            ],
            "text/html": [
              "\n",
              "  <div id=\"df-942e7eda-ef3f-40e0-be3f-ae502a7d448c\" class=\"colab-df-container\">\n",
              "    <div>\n",
              "<style scoped>\n",
              "    .dataframe tbody tr th:only-of-type {\n",
              "        vertical-align: middle;\n",
              "    }\n",
              "\n",
              "    .dataframe tbody tr th {\n",
              "        vertical-align: top;\n",
              "    }\n",
              "\n",
              "    .dataframe thead th {\n",
              "        text-align: right;\n",
              "    }\n",
              "</style>\n",
              "<table border=\"1\" class=\"dataframe\">\n",
              "  <thead>\n",
              "    <tr style=\"text-align: right;\">\n",
              "      <th></th>\n",
              "      <th>Airline</th>\n",
              "      <th>Date_of_Journey</th>\n",
              "      <th>Source</th>\n",
              "      <th>Destination</th>\n",
              "      <th>Route</th>\n",
              "      <th>Dep_Time</th>\n",
              "      <th>Arrival_Time</th>\n",
              "      <th>Duration</th>\n",
              "      <th>Total_Stops</th>\n",
              "      <th>Additional_Info</th>\n",
              "      <th>Price</th>\n",
              "    </tr>\n",
              "  </thead>\n",
              "  <tbody>\n",
              "    <tr>\n",
              "      <th>9038</th>\n",
              "      <td>Air India</td>\n",
              "      <td>6/05/2019</td>\n",
              "      <td>Delhi</td>\n",
              "      <td>Cochin</td>\n",
              "      <td>NaN</td>\n",
              "      <td>09:45</td>\n",
              "      <td>09:25 07 May</td>\n",
              "      <td>23h 40m</td>\n",
              "      <td>NaN</td>\n",
              "      <td>No info</td>\n",
              "      <td>7480</td>\n",
              "    </tr>\n",
              "  </tbody>\n",
              "</table>\n",
              "</div>\n",
              "    <div class=\"colab-df-buttons\">\n",
              "\n",
              "  <div class=\"colab-df-container\">\n",
              "    <button class=\"colab-df-convert\" onclick=\"convertToInteractive('df-942e7eda-ef3f-40e0-be3f-ae502a7d448c')\"\n",
              "            title=\"Convert this dataframe to an interactive table.\"\n",
              "            style=\"display:none;\">\n",
              "\n",
              "  <svg xmlns=\"http://www.w3.org/2000/svg\" height=\"24px\" viewBox=\"0 -960 960 960\">\n",
              "    <path d=\"M120-120v-720h720v720H120Zm60-500h600v-160H180v160Zm220 220h160v-160H400v160Zm0 220h160v-160H400v160ZM180-400h160v-160H180v160Zm440 0h160v-160H620v160ZM180-180h160v-160H180v160Zm440 0h160v-160H620v160Z\"/>\n",
              "  </svg>\n",
              "    </button>\n",
              "\n",
              "  <style>\n",
              "    .colab-df-container {\n",
              "      display:flex;\n",
              "      gap: 12px;\n",
              "    }\n",
              "\n",
              "    .colab-df-convert {\n",
              "      background-color: #E8F0FE;\n",
              "      border: none;\n",
              "      border-radius: 50%;\n",
              "      cursor: pointer;\n",
              "      display: none;\n",
              "      fill: #1967D2;\n",
              "      height: 32px;\n",
              "      padding: 0 0 0 0;\n",
              "      width: 32px;\n",
              "    }\n",
              "\n",
              "    .colab-df-convert:hover {\n",
              "      background-color: #E2EBFA;\n",
              "      box-shadow: 0px 1px 2px rgba(60, 64, 67, 0.3), 0px 1px 3px 1px rgba(60, 64, 67, 0.15);\n",
              "      fill: #174EA6;\n",
              "    }\n",
              "\n",
              "    .colab-df-buttons div {\n",
              "      margin-bottom: 4px;\n",
              "    }\n",
              "\n",
              "    [theme=dark] .colab-df-convert {\n",
              "      background-color: #3B4455;\n",
              "      fill: #D2E3FC;\n",
              "    }\n",
              "\n",
              "    [theme=dark] .colab-df-convert:hover {\n",
              "      background-color: #434B5C;\n",
              "      box-shadow: 0px 1px 3px 1px rgba(0, 0, 0, 0.15);\n",
              "      filter: drop-shadow(0px 1px 2px rgba(0, 0, 0, 0.3));\n",
              "      fill: #FFFFFF;\n",
              "    }\n",
              "  </style>\n",
              "\n",
              "    <script>\n",
              "      const buttonEl =\n",
              "        document.querySelector('#df-942e7eda-ef3f-40e0-be3f-ae502a7d448c button.colab-df-convert');\n",
              "      buttonEl.style.display =\n",
              "        google.colab.kernel.accessAllowed ? 'block' : 'none';\n",
              "\n",
              "      async function convertToInteractive(key) {\n",
              "        const element = document.querySelector('#df-942e7eda-ef3f-40e0-be3f-ae502a7d448c');\n",
              "        const dataTable =\n",
              "          await google.colab.kernel.invokeFunction('convertToInteractive',\n",
              "                                                    [key], {});\n",
              "        if (!dataTable) return;\n",
              "\n",
              "        const docLinkHtml = 'Like what you see? Visit the ' +\n",
              "          '<a target=\"_blank\" href=https://colab.research.google.com/notebooks/data_table.ipynb>data table notebook</a>'\n",
              "          + ' to learn more about interactive tables.';\n",
              "        element.innerHTML = '';\n",
              "        dataTable['output_type'] = 'display_data';\n",
              "        await google.colab.output.renderOutput(dataTable, element);\n",
              "        const docLink = document.createElement('div');\n",
              "        docLink.innerHTML = docLinkHtml;\n",
              "        element.appendChild(docLink);\n",
              "      }\n",
              "    </script>\n",
              "  </div>\n",
              "\n",
              "    </div>\n",
              "  </div>\n"
            ]
          },
          "metadata": {},
          "execution_count": 8
        }
      ],
      "source": [
        "# Checking where the null value present\n",
        "data[data['Route'].isna()]"
      ]
    },
    {
      "cell_type": "markdown",
      "id": "fdaa95bf",
      "metadata": {
        "id": "fdaa95bf"
      },
      "source": [
        "* Those 2 values belong to a single row so we can drop that row"
      ]
    },
    {
      "cell_type": "code",
      "execution_count": 9,
      "id": "08e436c2",
      "metadata": {
        "id": "08e436c2"
      },
      "outputs": [],
      "source": [
        "#drop the null values\n",
        "data.dropna(inplace=True)"
      ]
    },
    {
      "cell_type": "code",
      "execution_count": 10,
      "id": "3b804825",
      "metadata": {
        "colab": {
          "base_uri": "https://localhost:8080/"
        },
        "id": "3b804825",
        "outputId": "66892301-dc7d-48e5-d380-d7405b73302f"
      },
      "outputs": [
        {
          "output_type": "execute_result",
          "data": {
            "text/plain": [
              "Airline            0\n",
              "Date_of_Journey    0\n",
              "Source             0\n",
              "Destination        0\n",
              "Route              0\n",
              "Dep_Time           0\n",
              "Arrival_Time       0\n",
              "Duration           0\n",
              "Total_Stops        0\n",
              "Additional_Info    0\n",
              "Price              0\n",
              "dtype: int64"
            ]
          },
          "metadata": {},
          "execution_count": 10
        }
      ],
      "source": [
        "data.isnull().sum()"
      ]
    },
    {
      "cell_type": "code",
      "execution_count": 11,
      "id": "1f7ee352",
      "metadata": {
        "colab": {
          "base_uri": "https://localhost:8080/"
        },
        "id": "1f7ee352",
        "outputId": "bf8e76f3-ef88-42ae-9cfa-6ba203c94db9"
      },
      "outputs": [
        {
          "output_type": "execute_result",
          "data": {
            "text/plain": [
              "Airline            object\n",
              "Date_of_Journey    object\n",
              "Source             object\n",
              "Destination        object\n",
              "Route              object\n",
              "Dep_Time           object\n",
              "Arrival_Time       object\n",
              "Duration           object\n",
              "Total_Stops        object\n",
              "Additional_Info    object\n",
              "Price               int64\n",
              "dtype: object"
            ]
          },
          "metadata": {},
          "execution_count": 11
        }
      ],
      "source": [
        "#Checking the dtypes of the variables in the data\n",
        "data.dtypes"
      ]
    },
    {
      "cell_type": "markdown",
      "id": "c3369c31",
      "metadata": {
        "id": "c3369c31"
      },
      "source": [
        "* The dtypes of 'Date_of_Journey','Dep_Time',and 'Arrival_Time' is in object, so firstly converting it into datetime dtype"
      ]
    },
    {
      "cell_type": "code",
      "execution_count": 12,
      "id": "f5afaba4",
      "metadata": {
        "id": "f5afaba4"
      },
      "outputs": [],
      "source": [
        "# Creating a function to convert those columns into datetime dtype\n",
        "def To_Datetime(data,column):\n",
        "    data[column] = pd.to_datetime(data[column])\n",
        "    return data[column]"
      ]
    },
    {
      "cell_type": "code",
      "execution_count": 13,
      "id": "86b3650a",
      "metadata": {
        "colab": {
          "base_uri": "https://localhost:8080/"
        },
        "id": "86b3650a",
        "outputId": "aba8ba60-c124-4967-b5a9-d5882605f1fb"
      },
      "outputs": [
        {
          "output_type": "execute_result",
          "data": {
            "text/plain": [
              "0       2023-03-22 01:10:00\n",
              "1       2023-12-24 13:15:00\n",
              "2       2023-06-10 04:25:00\n",
              "3       2023-12-24 23:30:00\n",
              "4       2023-12-24 21:35:00\n",
              "                ...        \n",
              "10677   2023-12-24 22:25:00\n",
              "10678   2023-12-24 23:20:00\n",
              "10679   2023-12-24 11:20:00\n",
              "10680   2023-12-24 14:10:00\n",
              "10681   2023-12-24 19:15:00\n",
              "Name: Arrival_Time, Length: 10681, dtype: datetime64[ns]"
            ]
          },
          "metadata": {},
          "execution_count": 13
        }
      ],
      "source": [
        "# convert the columns we want into datetime\n",
        "To_Datetime(data,'Date_of_Journey')\n",
        "To_Datetime(data,'Dep_Time')\n",
        "To_Datetime(data,'Arrival_Time')"
      ]
    },
    {
      "cell_type": "markdown",
      "id": "56bc77f2",
      "metadata": {
        "id": "56bc77f2"
      },
      "source": [
        "* We can extract day and month from Date_of_journey and store it in two other columns."
      ]
    },
    {
      "cell_type": "code",
      "execution_count": 14,
      "id": "ca10d927",
      "metadata": {
        "id": "ca10d927"
      },
      "outputs": [],
      "source": [
        "# creating new columns\n",
        "data['Day_of_Journey'] = data['Date_of_Journey'].dt.day\n",
        "data['Month_of_Journey'] = data['Date_of_Journey'].dt.month"
      ]
    },
    {
      "cell_type": "markdown",
      "id": "950f2a7d",
      "metadata": {
        "id": "950f2a7d"
      },
      "source": [
        "* Now using Dep_Time and Arrival_Time we can extract hour and minute from both the variables"
      ]
    },
    {
      "cell_type": "raw",
      "id": "0571d2ea",
      "metadata": {
        "id": "0571d2ea"
      },
      "source": [
        ".dt.hour method will extract only day of that Hour\n",
        "\n",
        ".dt.minute method will extract only month of that Minute"
      ]
    },
    {
      "cell_type": "code",
      "execution_count": 15,
      "id": "c4ae93c7",
      "metadata": {
        "id": "c4ae93c7"
      },
      "outputs": [],
      "source": [
        "# Extracting hour and minute values from Dep_time variable\n",
        "data['Dep_hour'] = data['Dep_Time'].dt.hour\n",
        "data['Dep_minute'] = data['Dep_Time'].dt.minute\n",
        "\n",
        "# Extracting hour value from Dep_time variable\n",
        "data['Arrival_hour'] = data['Arrival_Time'].dt.hour\n",
        "data['Arrival_minute'] = data['Arrival_Time'].dt.minute"
      ]
    },
    {
      "cell_type": "markdown",
      "id": "36137fe3",
      "metadata": {
        "id": "36137fe3"
      },
      "source": [
        "* After extacting required data from Date_of_Journey, Dep_Time, and Arrival_Time we can drop these variables"
      ]
    },
    {
      "cell_type": "code",
      "execution_count": 16,
      "id": "46dae511",
      "metadata": {
        "id": "46dae511"
      },
      "outputs": [],
      "source": [
        "data.drop(['Date_of_Journey','Dep_Time','Arrival_Time'],axis=1,inplace=True)"
      ]
    },
    {
      "cell_type": "markdown",
      "id": "433479f2",
      "metadata": {
        "id": "433479f2"
      },
      "source": [
        "* Lets Apply pre-processing on duration column,Separate Duration hours and minute from duration"
      ]
    },
    {
      "cell_type": "code",
      "execution_count": 17,
      "id": "35c58789",
      "metadata": {
        "id": "35c58789"
      },
      "outputs": [],
      "source": [
        "duration=list(data['Duration'])\n",
        "for i in range(len(duration)):\n",
        "    if len(duration[i].split(' '))==2:\n",
        "        pass\n",
        "    else:\n",
        "        if 'h' in duration[i]: # Check if duration contains only hour\n",
        "             duration[i]=duration[i] + ' 0m' # Adds 0 minute\n",
        "        else:\n",
        "             duration[i]='0h '+ duration[i]\n",
        "\n",
        "duration_hours = []\n",
        "duration_mins = []\n",
        "for i in range(len(duration)):\n",
        "    duration_hours.append(int(duration[i].split(sep = \"h\")[0]))    # Extract hours from duration\n",
        "    duration_mins.append(int(duration[i].split(sep = \"m\")[0].split()[-1]))   # Extracts only minutes from duration"
      ]
    },
    {
      "cell_type": "code",
      "execution_count": 18,
      "id": "a6b98aca",
      "metadata": {
        "id": "a6b98aca"
      },
      "outputs": [],
      "source": [
        "# Adding duration_hours and duration_mins list to train_data dataframe\n",
        "\n",
        "data[\"Duration_hours\"] = duration_hours\n",
        "data[\"Duration_mins\"] = duration_mins"
      ]
    },
    {
      "cell_type": "code",
      "execution_count": 19,
      "id": "1f90ae17",
      "metadata": {
        "id": "1f90ae17"
      },
      "outputs": [],
      "source": [
        "#Dropping Duration variable as we have extracted both hours and mins from it\n",
        "data.drop([\"Duration\"], axis = 1, inplace = True)"
      ]
    },
    {
      "cell_type": "code",
      "execution_count": 20,
      "id": "b741e77d",
      "metadata": {
        "colab": {
          "base_uri": "https://localhost:8080/",
          "height": 206
        },
        "id": "b741e77d",
        "outputId": "e4be0e07-38ea-43ec-bc00-19735761b0b2"
      },
      "outputs": [
        {
          "output_type": "execute_result",
          "data": {
            "text/plain": [
              "       Airline    Source Destination                  Route Total_Stops  \\\n",
              "0       IndiGo  Banglore   New Delhi              BLR → DEL    non-stop   \n",
              "1    Air India   Kolkata    Banglore  CCU → IXR → BBI → BLR     2 stops   \n",
              "2  Jet Airways     Delhi      Cochin  DEL → LKO → BOM → COK     2 stops   \n",
              "3       IndiGo   Kolkata    Banglore        CCU → NAG → BLR      1 stop   \n",
              "4       IndiGo  Banglore   New Delhi        BLR → NAG → DEL      1 stop   \n",
              "\n",
              "  Additional_Info  Price  Day_of_Journey  Month_of_Journey  Dep_hour  \\\n",
              "0         No info   3897              24                 3        22   \n",
              "1         No info   7662               5                 1         5   \n",
              "2         No info  13882               6                 9         9   \n",
              "3         No info   6218               5                12        18   \n",
              "4         No info  13302               3                 1        16   \n",
              "\n",
              "   Dep_minute  Arrival_hour  Arrival_minute  Duration_hours  Duration_mins  \n",
              "0          20             1              10               2             50  \n",
              "1          50            13              15               7             25  \n",
              "2          25             4              25              19              0  \n",
              "3           5            23              30               5             25  \n",
              "4          50            21              35               4             45  "
            ],
            "text/html": [
              "\n",
              "  <div id=\"df-c1dd02f9-81a9-4e4e-a79b-72dc73064348\" class=\"colab-df-container\">\n",
              "    <div>\n",
              "<style scoped>\n",
              "    .dataframe tbody tr th:only-of-type {\n",
              "        vertical-align: middle;\n",
              "    }\n",
              "\n",
              "    .dataframe tbody tr th {\n",
              "        vertical-align: top;\n",
              "    }\n",
              "\n",
              "    .dataframe thead th {\n",
              "        text-align: right;\n",
              "    }\n",
              "</style>\n",
              "<table border=\"1\" class=\"dataframe\">\n",
              "  <thead>\n",
              "    <tr style=\"text-align: right;\">\n",
              "      <th></th>\n",
              "      <th>Airline</th>\n",
              "      <th>Source</th>\n",
              "      <th>Destination</th>\n",
              "      <th>Route</th>\n",
              "      <th>Total_Stops</th>\n",
              "      <th>Additional_Info</th>\n",
              "      <th>Price</th>\n",
              "      <th>Day_of_Journey</th>\n",
              "      <th>Month_of_Journey</th>\n",
              "      <th>Dep_hour</th>\n",
              "      <th>Dep_minute</th>\n",
              "      <th>Arrival_hour</th>\n",
              "      <th>Arrival_minute</th>\n",
              "      <th>Duration_hours</th>\n",
              "      <th>Duration_mins</th>\n",
              "    </tr>\n",
              "  </thead>\n",
              "  <tbody>\n",
              "    <tr>\n",
              "      <th>0</th>\n",
              "      <td>IndiGo</td>\n",
              "      <td>Banglore</td>\n",
              "      <td>New Delhi</td>\n",
              "      <td>BLR → DEL</td>\n",
              "      <td>non-stop</td>\n",
              "      <td>No info</td>\n",
              "      <td>3897</td>\n",
              "      <td>24</td>\n",
              "      <td>3</td>\n",
              "      <td>22</td>\n",
              "      <td>20</td>\n",
              "      <td>1</td>\n",
              "      <td>10</td>\n",
              "      <td>2</td>\n",
              "      <td>50</td>\n",
              "    </tr>\n",
              "    <tr>\n",
              "      <th>1</th>\n",
              "      <td>Air India</td>\n",
              "      <td>Kolkata</td>\n",
              "      <td>Banglore</td>\n",
              "      <td>CCU → IXR → BBI → BLR</td>\n",
              "      <td>2 stops</td>\n",
              "      <td>No info</td>\n",
              "      <td>7662</td>\n",
              "      <td>5</td>\n",
              "      <td>1</td>\n",
              "      <td>5</td>\n",
              "      <td>50</td>\n",
              "      <td>13</td>\n",
              "      <td>15</td>\n",
              "      <td>7</td>\n",
              "      <td>25</td>\n",
              "    </tr>\n",
              "    <tr>\n",
              "      <th>2</th>\n",
              "      <td>Jet Airways</td>\n",
              "      <td>Delhi</td>\n",
              "      <td>Cochin</td>\n",
              "      <td>DEL → LKO → BOM → COK</td>\n",
              "      <td>2 stops</td>\n",
              "      <td>No info</td>\n",
              "      <td>13882</td>\n",
              "      <td>6</td>\n",
              "      <td>9</td>\n",
              "      <td>9</td>\n",
              "      <td>25</td>\n",
              "      <td>4</td>\n",
              "      <td>25</td>\n",
              "      <td>19</td>\n",
              "      <td>0</td>\n",
              "    </tr>\n",
              "    <tr>\n",
              "      <th>3</th>\n",
              "      <td>IndiGo</td>\n",
              "      <td>Kolkata</td>\n",
              "      <td>Banglore</td>\n",
              "      <td>CCU → NAG → BLR</td>\n",
              "      <td>1 stop</td>\n",
              "      <td>No info</td>\n",
              "      <td>6218</td>\n",
              "      <td>5</td>\n",
              "      <td>12</td>\n",
              "      <td>18</td>\n",
              "      <td>5</td>\n",
              "      <td>23</td>\n",
              "      <td>30</td>\n",
              "      <td>5</td>\n",
              "      <td>25</td>\n",
              "    </tr>\n",
              "    <tr>\n",
              "      <th>4</th>\n",
              "      <td>IndiGo</td>\n",
              "      <td>Banglore</td>\n",
              "      <td>New Delhi</td>\n",
              "      <td>BLR → NAG → DEL</td>\n",
              "      <td>1 stop</td>\n",
              "      <td>No info</td>\n",
              "      <td>13302</td>\n",
              "      <td>3</td>\n",
              "      <td>1</td>\n",
              "      <td>16</td>\n",
              "      <td>50</td>\n",
              "      <td>21</td>\n",
              "      <td>35</td>\n",
              "      <td>4</td>\n",
              "      <td>45</td>\n",
              "    </tr>\n",
              "  </tbody>\n",
              "</table>\n",
              "</div>\n",
              "    <div class=\"colab-df-buttons\">\n",
              "\n",
              "  <div class=\"colab-df-container\">\n",
              "    <button class=\"colab-df-convert\" onclick=\"convertToInteractive('df-c1dd02f9-81a9-4e4e-a79b-72dc73064348')\"\n",
              "            title=\"Convert this dataframe to an interactive table.\"\n",
              "            style=\"display:none;\">\n",
              "\n",
              "  <svg xmlns=\"http://www.w3.org/2000/svg\" height=\"24px\" viewBox=\"0 -960 960 960\">\n",
              "    <path d=\"M120-120v-720h720v720H120Zm60-500h600v-160H180v160Zm220 220h160v-160H400v160Zm0 220h160v-160H400v160ZM180-400h160v-160H180v160Zm440 0h160v-160H620v160ZM180-180h160v-160H180v160Zm440 0h160v-160H620v160Z\"/>\n",
              "  </svg>\n",
              "    </button>\n",
              "\n",
              "  <style>\n",
              "    .colab-df-container {\n",
              "      display:flex;\n",
              "      gap: 12px;\n",
              "    }\n",
              "\n",
              "    .colab-df-convert {\n",
              "      background-color: #E8F0FE;\n",
              "      border: none;\n",
              "      border-radius: 50%;\n",
              "      cursor: pointer;\n",
              "      display: none;\n",
              "      fill: #1967D2;\n",
              "      height: 32px;\n",
              "      padding: 0 0 0 0;\n",
              "      width: 32px;\n",
              "    }\n",
              "\n",
              "    .colab-df-convert:hover {\n",
              "      background-color: #E2EBFA;\n",
              "      box-shadow: 0px 1px 2px rgba(60, 64, 67, 0.3), 0px 1px 3px 1px rgba(60, 64, 67, 0.15);\n",
              "      fill: #174EA6;\n",
              "    }\n",
              "\n",
              "    .colab-df-buttons div {\n",
              "      margin-bottom: 4px;\n",
              "    }\n",
              "\n",
              "    [theme=dark] .colab-df-convert {\n",
              "      background-color: #3B4455;\n",
              "      fill: #D2E3FC;\n",
              "    }\n",
              "\n",
              "    [theme=dark] .colab-df-convert:hover {\n",
              "      background-color: #434B5C;\n",
              "      box-shadow: 0px 1px 3px 1px rgba(0, 0, 0, 0.15);\n",
              "      filter: drop-shadow(0px 1px 2px rgba(0, 0, 0, 0.3));\n",
              "      fill: #FFFFFF;\n",
              "    }\n",
              "  </style>\n",
              "\n",
              "    <script>\n",
              "      const buttonEl =\n",
              "        document.querySelector('#df-c1dd02f9-81a9-4e4e-a79b-72dc73064348 button.colab-df-convert');\n",
              "      buttonEl.style.display =\n",
              "        google.colab.kernel.accessAllowed ? 'block' : 'none';\n",
              "\n",
              "      async function convertToInteractive(key) {\n",
              "        const element = document.querySelector('#df-c1dd02f9-81a9-4e4e-a79b-72dc73064348');\n",
              "        const dataTable =\n",
              "          await google.colab.kernel.invokeFunction('convertToInteractive',\n",
              "                                                    [key], {});\n",
              "        if (!dataTable) return;\n",
              "\n",
              "        const docLinkHtml = 'Like what you see? Visit the ' +\n",
              "          '<a target=\"_blank\" href=https://colab.research.google.com/notebooks/data_table.ipynb>data table notebook</a>'\n",
              "          + ' to learn more about interactive tables.';\n",
              "        element.innerHTML = '';\n",
              "        dataTable['output_type'] = 'display_data';\n",
              "        await google.colab.output.renderOutput(dataTable, element);\n",
              "        const docLink = document.createElement('div');\n",
              "        docLink.innerHTML = docLinkHtml;\n",
              "        element.appendChild(docLink);\n",
              "      }\n",
              "    </script>\n",
              "  </div>\n",
              "\n",
              "\n",
              "<div id=\"df-39a9b28c-e39f-4bd5-a105-2e33e98175a6\">\n",
              "  <button class=\"colab-df-quickchart\" onclick=\"quickchart('df-39a9b28c-e39f-4bd5-a105-2e33e98175a6')\"\n",
              "            title=\"Suggest charts\"\n",
              "            style=\"display:none;\">\n",
              "\n",
              "<svg xmlns=\"http://www.w3.org/2000/svg\" height=\"24px\"viewBox=\"0 0 24 24\"\n",
              "     width=\"24px\">\n",
              "    <g>\n",
              "        <path d=\"M19 3H5c-1.1 0-2 .9-2 2v14c0 1.1.9 2 2 2h14c1.1 0 2-.9 2-2V5c0-1.1-.9-2-2-2zM9 17H7v-7h2v7zm4 0h-2V7h2v10zm4 0h-2v-4h2v4z\"/>\n",
              "    </g>\n",
              "</svg>\n",
              "  </button>\n",
              "\n",
              "<style>\n",
              "  .colab-df-quickchart {\n",
              "      --bg-color: #E8F0FE;\n",
              "      --fill-color: #1967D2;\n",
              "      --hover-bg-color: #E2EBFA;\n",
              "      --hover-fill-color: #174EA6;\n",
              "      --disabled-fill-color: #AAA;\n",
              "      --disabled-bg-color: #DDD;\n",
              "  }\n",
              "\n",
              "  [theme=dark] .colab-df-quickchart {\n",
              "      --bg-color: #3B4455;\n",
              "      --fill-color: #D2E3FC;\n",
              "      --hover-bg-color: #434B5C;\n",
              "      --hover-fill-color: #FFFFFF;\n",
              "      --disabled-bg-color: #3B4455;\n",
              "      --disabled-fill-color: #666;\n",
              "  }\n",
              "\n",
              "  .colab-df-quickchart {\n",
              "    background-color: var(--bg-color);\n",
              "    border: none;\n",
              "    border-radius: 50%;\n",
              "    cursor: pointer;\n",
              "    display: none;\n",
              "    fill: var(--fill-color);\n",
              "    height: 32px;\n",
              "    padding: 0;\n",
              "    width: 32px;\n",
              "  }\n",
              "\n",
              "  .colab-df-quickchart:hover {\n",
              "    background-color: var(--hover-bg-color);\n",
              "    box-shadow: 0 1px 2px rgba(60, 64, 67, 0.3), 0 1px 3px 1px rgba(60, 64, 67, 0.15);\n",
              "    fill: var(--button-hover-fill-color);\n",
              "  }\n",
              "\n",
              "  .colab-df-quickchart-complete:disabled,\n",
              "  .colab-df-quickchart-complete:disabled:hover {\n",
              "    background-color: var(--disabled-bg-color);\n",
              "    fill: var(--disabled-fill-color);\n",
              "    box-shadow: none;\n",
              "  }\n",
              "\n",
              "  .colab-df-spinner {\n",
              "    border: 2px solid var(--fill-color);\n",
              "    border-color: transparent;\n",
              "    border-bottom-color: var(--fill-color);\n",
              "    animation:\n",
              "      spin 1s steps(1) infinite;\n",
              "  }\n",
              "\n",
              "  @keyframes spin {\n",
              "    0% {\n",
              "      border-color: transparent;\n",
              "      border-bottom-color: var(--fill-color);\n",
              "      border-left-color: var(--fill-color);\n",
              "    }\n",
              "    20% {\n",
              "      border-color: transparent;\n",
              "      border-left-color: var(--fill-color);\n",
              "      border-top-color: var(--fill-color);\n",
              "    }\n",
              "    30% {\n",
              "      border-color: transparent;\n",
              "      border-left-color: var(--fill-color);\n",
              "      border-top-color: var(--fill-color);\n",
              "      border-right-color: var(--fill-color);\n",
              "    }\n",
              "    40% {\n",
              "      border-color: transparent;\n",
              "      border-right-color: var(--fill-color);\n",
              "      border-top-color: var(--fill-color);\n",
              "    }\n",
              "    60% {\n",
              "      border-color: transparent;\n",
              "      border-right-color: var(--fill-color);\n",
              "    }\n",
              "    80% {\n",
              "      border-color: transparent;\n",
              "      border-right-color: var(--fill-color);\n",
              "      border-bottom-color: var(--fill-color);\n",
              "    }\n",
              "    90% {\n",
              "      border-color: transparent;\n",
              "      border-bottom-color: var(--fill-color);\n",
              "    }\n",
              "  }\n",
              "</style>\n",
              "\n",
              "  <script>\n",
              "    async function quickchart(key) {\n",
              "      const quickchartButtonEl =\n",
              "        document.querySelector('#' + key + ' button');\n",
              "      quickchartButtonEl.disabled = true;  // To prevent multiple clicks.\n",
              "      quickchartButtonEl.classList.add('colab-df-spinner');\n",
              "      try {\n",
              "        const charts = await google.colab.kernel.invokeFunction(\n",
              "            'suggestCharts', [key], {});\n",
              "      } catch (error) {\n",
              "        console.error('Error during call to suggestCharts:', error);\n",
              "      }\n",
              "      quickchartButtonEl.classList.remove('colab-df-spinner');\n",
              "      quickchartButtonEl.classList.add('colab-df-quickchart-complete');\n",
              "    }\n",
              "    (() => {\n",
              "      let quickchartButtonEl =\n",
              "        document.querySelector('#df-39a9b28c-e39f-4bd5-a105-2e33e98175a6 button');\n",
              "      quickchartButtonEl.style.display =\n",
              "        google.colab.kernel.accessAllowed ? 'block' : 'none';\n",
              "    })();\n",
              "  </script>\n",
              "</div>\n",
              "    </div>\n",
              "  </div>\n"
            ]
          },
          "metadata": {},
          "execution_count": 20
        }
      ],
      "source": [
        "data.head()"
      ]
    },
    {
      "cell_type": "code",
      "execution_count": 21,
      "id": "6b13910f",
      "metadata": {
        "colab": {
          "base_uri": "https://localhost:8080/"
        },
        "id": "6b13910f",
        "outputId": "e818854e-3624-47af-b981-bba9188207b4"
      },
      "outputs": [
        {
          "output_type": "execute_result",
          "data": {
            "text/plain": [
              "Airline             object\n",
              "Source              object\n",
              "Destination         object\n",
              "Route               object\n",
              "Total_Stops         object\n",
              "Additional_Info     object\n",
              "Price                int64\n",
              "Day_of_Journey       int64\n",
              "Month_of_Journey     int64\n",
              "Dep_hour             int64\n",
              "Dep_minute           int64\n",
              "Arrival_hour         int64\n",
              "Arrival_minute       int64\n",
              "Duration_hours       int64\n",
              "Duration_mins        int64\n",
              "dtype: object"
            ]
          },
          "metadata": {},
          "execution_count": 21
        }
      ],
      "source": [
        "data.dtypes"
      ]
    },
    {
      "cell_type": "markdown",
      "id": "d666a43f",
      "metadata": {
        "id": "d666a43f"
      },
      "source": [
        "### Exploratory Data Analysis"
      ]
    },
    {
      "cell_type": "markdown",
      "id": "f7j_-2-GNL_Q",
      "metadata": {
        "id": "f7j_-2-GNL_Q"
      },
      "source": [
        "#### Univariate Analysis"
      ]
    },
    {
      "cell_type": "code",
      "execution_count": 22,
      "id": "WzR5TWMqPifn",
      "metadata": {
        "id": "WzR5TWMqPifn"
      },
      "outputs": [],
      "source": [
        "# function to create labeled barplots\n",
        "\n",
        "\n",
        "def labeled_barplot(data, feature, perc=False, n=None):\n",
        "    \"\"\"\n",
        "    Barplot with percentage at the top\n",
        "\n",
        "    data: dataframe\n",
        "    feature: dataframe column\n",
        "    perc: whether to display percentages instead of count (default is False)\n",
        "    n: displays the top n category levels (default is None, i.e., display all levels)\n",
        "    \"\"\"\n",
        "\n",
        "    total = len(data[feature])  # length of the column\n",
        "    count = data[feature].nunique()\n",
        "    if n is None:\n",
        "        plt.figure(figsize=(count + 1, 5))\n",
        "    else:\n",
        "        plt.figure(figsize=(n + 1, 5))\n",
        "\n",
        "    plt.xticks(rotation=90, fontsize=15)\n",
        "    ax = sns.countplot(\n",
        "        data=data,\n",
        "        x=feature,\n",
        "        palette=\"Paired\",\n",
        "        order=data[feature].value_counts().index[:n].sort_values(),\n",
        "    )\n",
        "\n",
        "    for p in ax.patches:\n",
        "        if perc == True:\n",
        "            label = \"{:.1f}%\".format(\n",
        "                100 * p.get_height() / total\n",
        "            )  # percentage of each class of the category\n",
        "        else:\n",
        "            label = p.get_height()  # count of each level of the category\n",
        "\n",
        "        x = p.get_x() + p.get_width() / 2  # width of the plot\n",
        "        y = p.get_height()  # height of the plot\n",
        "\n",
        "        ax.annotate(\n",
        "            label,\n",
        "            (x, y),\n",
        "            ha=\"center\",\n",
        "            va=\"center\",\n",
        "            size=12,\n",
        "            xytext=(0, 5),\n",
        "            textcoords=\"offset points\",\n",
        "        )  # annotate the percentage\n",
        "\n",
        "    plt.show()  # show the plot"
      ]
    },
    {
      "cell_type": "markdown",
      "id": "yg2wea5IP1gN",
      "metadata": {
        "id": "yg2wea5IP1gN"
      },
      "source": [
        "### `Airline`"
      ]
    },
    {
      "cell_type": "code",
      "execution_count": 23,
      "id": "g4bEXLHWPkGg",
      "metadata": {
        "colab": {
          "base_uri": "https://localhost:8080/",
          "height": 823
        },
        "id": "g4bEXLHWPkGg",
        "outputId": "58bab182-c86d-4ce6-b358-0ddf32898ca9"
      },
      "outputs": [
        {
          "output_type": "display_data",
          "data": {
            "text/plain": [
              "<Figure size 1200x500 with 1 Axes>"
            ],
            "image/png": "[encoded data removed]"
          },
          "metadata": {}
        }
      ],
      "source": [
        "labeled_barplot(data, \"Airline\", perc=True)"
      ]
    },
    {
      "cell_type": "markdown",
      "id": "209854f9",
      "metadata": {
        "id": "209854f9"
      },
      "source": [
        "* From the above bar plot we can see most of them have opted Jet Airways as their Airline for transportation"
      ]
    },
    {
      "cell_type": "markdown",
      "id": "7CXyzR5kQc-N",
      "metadata": {
        "id": "7CXyzR5kQc-N"
      },
      "source": [
        "### `Total Stops`"
      ]
    },
    {
      "cell_type": "code",
      "execution_count": 24,
      "id": "J7s7hUc0QDMs",
      "metadata": {
        "colab": {
          "base_uri": "https://localhost:8080/",
          "height": 542
        },
        "id": "J7s7hUc0QDMs",
        "outputId": "8893c9a3-1076-4b39-9f22-e918d428c1d2"
      },
      "outputs": [
        {
          "output_type": "display_data",
          "data": {
            "text/plain": [
              "<Figure size 600x500 with 1 Axes>"
            ],
            "image/png": "[encoded data removed]"
          },
          "metadata": {}
        }
      ],
      "source": [
        "labeled_barplot(data, \"Total_Stops\", perc=True)"
      ]
    },
    {
      "cell_type": "markdown",
      "id": "48883b8a",
      "metadata": {
        "id": "48883b8a"
      },
      "source": [
        "* Most of the airlines runs with maximum of single stop during the journey  "
      ]
    },
    {
      "cell_type": "markdown",
      "id": "09YwuDoXQuYZ",
      "metadata": {
        "id": "09YwuDoXQuYZ"
      },
      "source": [
        "### `Source`"
      ]
    },
    {
      "cell_type": "code",
      "execution_count": 25,
      "id": "u5NCnUayQm4v",
      "metadata": {
        "colab": {
          "base_uri": "https://localhost:8080/",
          "height": 544
        },
        "id": "u5NCnUayQm4v",
        "outputId": "cbb76460-e5fb-45aa-9d1b-33c8783d6a04"
      },
      "outputs": [
        {
          "output_type": "display_data",
          "data": {
            "text/plain": [
              "<Figure size 600x500 with 1 Axes>"
            ],
            "image/png": "[encoded data removed]"
          },
          "metadata": {}
        }
      ],
      "source": [
        "labeled_barplot(data, \"Source\", perc=True)"
      ]
    },
    {
      "cell_type": "markdown",
      "id": "ce09cd90",
      "metadata": {
        "id": "ce09cd90"
      },
      "source": [
        "* Most of flights are departing from the capital city of India(Delhi)"
      ]
    },
    {
      "cell_type": "markdown",
      "id": "I9JbDIVPRBjo",
      "metadata": {
        "id": "I9JbDIVPRBjo"
      },
      "source": [
        "### `Destination`"
      ]
    },
    {
      "cell_type": "code",
      "execution_count": 26,
      "id": "y7ATHLN-Q01G",
      "metadata": {
        "colab": {
          "base_uri": "https://localhost:8080/",
          "height": 566
        },
        "id": "y7ATHLN-Q01G",
        "outputId": "8c07dac5-76d2-4eac-a5b6-8677a952afa3"
      },
      "outputs": [
        {
          "output_type": "display_data",
          "data": {
            "text/plain": [
              "<Figure size 700x500 with 1 Axes>"
            ],
            "image/png": "[encoded data removed]"
          },
          "metadata": {}
        }
      ],
      "source": [
        "labeled_barplot(data, \"Destination\", perc=True)"
      ]
    },
    {
      "cell_type": "code",
      "execution_count": 27,
      "id": "d22db2b0",
      "metadata": {
        "id": "d22db2b0"
      },
      "outputs": [],
      "source": [
        "#New Delhi and Delhi can be the same so we will merge them\n",
        "data['Destination'].replace('New Delhi','Delhi',inplace=True)"
      ]
    },
    {
      "cell_type": "code",
      "execution_count": 28,
      "id": "cW6IU_x2Q7Z9",
      "metadata": {
        "colab": {
          "base_uri": "https://localhost:8080/",
          "height": 566
        },
        "id": "cW6IU_x2Q7Z9",
        "outputId": "b6887b43-763b-4c68-877d-fb08a9974989"
      },
      "outputs": [
        {
          "output_type": "display_data",
          "data": {
            "text/plain": [
              "<Figure size 600x500 with 1 Axes>"
            ],
            "image/png": "[encoded data removed]"
          },
          "metadata": {}
        }
      ],
      "source": [
        "labeled_barplot(data, \"Destination\", perc=True)"
      ]
    },
    {
      "cell_type": "markdown",
      "id": "edcd2a59",
      "metadata": {
        "id": "edcd2a59"
      },
      "source": [
        "* From the above plot we can observe most of the filghts are going to Cochin"
      ]
    },
    {
      "cell_type": "markdown",
      "id": "ilK_4PToRQXT",
      "metadata": {
        "id": "ilK_4PToRQXT"
      },
      "source": [
        "### `Additional_Info`"
      ]
    },
    {
      "cell_type": "code",
      "execution_count": 29,
      "id": "5h9pWbnzRHdL",
      "metadata": {
        "colab": {
          "base_uri": "https://localhost:8080/",
          "height": 767
        },
        "id": "5h9pWbnzRHdL",
        "outputId": "a8ef1a97-7bd0-48eb-89ec-8d55f88ed0d5"
      },
      "outputs": [
        {
          "output_type": "display_data",
          "data": {
            "text/plain": [
              "<Figure size 1100x500 with 1 Axes>"
            ],
            "image/png": "[encoded data removed]"
          },
          "metadata": {}
        }
      ],
      "source": [
        "labeled_barplot(data, \"Additional_Info\", perc=True)"
      ]
    },
    {
      "cell_type": "markdown",
      "id": "200be88b",
      "metadata": {
        "id": "200be88b"
      },
      "source": [
        "* As most of the Additional_Info (80%) variable contains No_info so we can drop this from the data"
      ]
    },
    {
      "cell_type": "code",
      "execution_count": 30,
      "id": "cf49da55",
      "metadata": {
        "colab": {
          "base_uri": "https://localhost:8080/"
        },
        "id": "cf49da55",
        "outputId": "2393fe58-c1ea-450f-ed14-611a103ce9f1"
      },
      "outputs": [
        {
          "output_type": "execute_result",
          "data": {
            "text/plain": [
              "DEL → BOM → COK          2376\n",
              "BLR → DEL                1552\n",
              "CCU → BOM → BLR           979\n",
              "CCU → BLR                 724\n",
              "BOM → HYD                 621\n",
              "                         ... \n",
              "CCU → RPR → HYD → BLR       1\n",
              "CCU → VTZ → BLR             1\n",
              "CCU → IXZ → MAA → BLR       1\n",
              "BOM → COK → MAA → HYD       1\n",
              "BOM → BBI → HYD             1\n",
              "Name: Route, Length: 127, dtype: int64"
            ]
          },
          "metadata": {},
          "execution_count": 30
        }
      ],
      "source": [
        "data['Route'].value_counts()"
      ]
    },
    {
      "cell_type": "markdown",
      "id": "a8e0e445",
      "metadata": {
        "id": "a8e0e445"
      },
      "source": [
        "* Route and Total_Stops are related to each other so we can drop Route variable.\n",
        "* Since there is not much information from the Additional_info variable, we will drop the Additional_info variable."
      ]
    },
    {
      "cell_type": "code",
      "execution_count": 31,
      "id": "b28a89d9",
      "metadata": {
        "id": "b28a89d9"
      },
      "outputs": [],
      "source": [
        "data.drop([\"Route\", \"Additional_Info\"], axis = 1, inplace = True)"
      ]
    },
    {
      "cell_type": "code",
      "execution_count": 32,
      "id": "0e9e9487",
      "metadata": {
        "colab": {
          "base_uri": "https://localhost:8080/",
          "height": 206
        },
        "id": "0e9e9487",
        "outputId": "5e01ceb2-e347-4376-aab4-666e31a90878"
      },
      "outputs": [
        {
          "output_type": "execute_result",
          "data": {
            "text/plain": [
              "       Airline    Source Destination Total_Stops  Price  Day_of_Journey  \\\n",
              "0       IndiGo  Banglore       Delhi    non-stop   3897              24   \n",
              "1    Air India   Kolkata    Banglore     2 stops   7662               5   \n",
              "2  Jet Airways     Delhi      Cochin     2 stops  13882               6   \n",
              "3       IndiGo   Kolkata    Banglore      1 stop   6218               5   \n",
              "4       IndiGo  Banglore       Delhi      1 stop  13302               3   \n",
              "\n",
              "   Month_of_Journey  Dep_hour  Dep_minute  Arrival_hour  Arrival_minute  \\\n",
              "0                 3        22          20             1              10   \n",
              "1                 1         5          50            13              15   \n",
              "2                 9         9          25             4              25   \n",
              "3                12        18           5            23              30   \n",
              "4                 1        16          50            21              35   \n",
              "\n",
              "   Duration_hours  Duration_mins  \n",
              "0               2             50  \n",
              "1               7             25  \n",
              "2              19              0  \n",
              "3               5             25  \n",
              "4               4             45  "
            ],
            "text/html": [
              "\n",
              "  <div id=\"df-7667a41e-0667-4aed-b07b-3c8a5b5bf89d\" class=\"colab-df-container\">\n",
              "    <div>\n",
              "<style scoped>\n",
              "    .dataframe tbody tr th:only-of-type {\n",
              "        vertical-align: middle;\n",
              "    }\n",
              "\n",
              "    .dataframe tbody tr th {\n",
              "        vertical-align: top;\n",
              "    }\n",
              "\n",
              "    .dataframe thead th {\n",
              "        text-align: right;\n",
              "    }\n",
              "</style>\n",
              "<table border=\"1\" class=\"dataframe\">\n",
              "  <thead>\n",
              "    <tr style=\"text-align: right;\">\n",
              "      <th></th>\n",
              "      <th>Airline</th>\n",
              "      <th>Source</th>\n",
              "      <th>Destination</th>\n",
              "      <th>Total_Stops</th>\n",
              "      <th>Price</th>\n",
              "      <th>Day_of_Journey</th>\n",
              "      <th>Month_of_Journey</th>\n",
              "      <th>Dep_hour</th>\n",
              "      <th>Dep_minute</th>\n",
              "      <th>Arrival_hour</th>\n",
              "      <th>Arrival_minute</th>\n",
              "      <th>Duration_hours</th>\n",
              "      <th>Duration_mins</th>\n",
              "    </tr>\n",
              "  </thead>\n",
              "  <tbody>\n",
              "    <tr>\n",
              "      <th>0</th>\n",
              "      <td>IndiGo</td>\n",
              "      <td>Banglore</td>\n",
              "      <td>Delhi</td>\n",
              "      <td>non-stop</td>\n",
              "      <td>3897</td>\n",
              "      <td>24</td>\n",
              "      <td>3</td>\n",
              "      <td>22</td>\n",
              "      <td>20</td>\n",
              "      <td>1</td>\n",
              "      <td>10</td>\n",
              "      <td>2</td>\n",
              "      <td>50</td>\n",
              "    </tr>\n",
              "    <tr>\n",
              "      <th>1</th>\n",
              "      <td>Air India</td>\n",
              "      <td>Kolkata</td>\n",
              "      <td>Banglore</td>\n",
              "      <td>2 stops</td>\n",
              "      <td>7662</td>\n",
              "      <td>5</td>\n",
              "      <td>1</td>\n",
              "      <td>5</td>\n",
              "      <td>50</td>\n",
              "      <td>13</td>\n",
              "      <td>15</td>\n",
              "      <td>7</td>\n",
              "      <td>25</td>\n",
              "    </tr>\n",
              "    <tr>\n",
              "      <th>2</th>\n",
              "      <td>Jet Airways</td>\n",
              "      <td>Delhi</td>\n",
              "      <td>Cochin</td>\n",
              "      <td>2 stops</td>\n",
              "      <td>13882</td>\n",
              "      <td>6</td>\n",
              "      <td>9</td>\n",
              "      <td>9</td>\n",
              "      <td>25</td>\n",
              "      <td>4</td>\n",
              "      <td>25</td>\n",
              "      <td>19</td>\n",
              "      <td>0</td>\n",
              "    </tr>\n",
              "    <tr>\n",
              "      <th>3</th>\n",
              "      <td>IndiGo</td>\n",
              "      <td>Kolkata</td>\n",
              "      <td>Banglore</td>\n",
              "      <td>1 stop</td>\n",
              "      <td>6218</td>\n",
              "      <td>5</td>\n",
              "      <td>12</td>\n",
              "      <td>18</td>\n",
              "      <td>5</td>\n",
              "      <td>23</td>\n",
              "      <td>30</td>\n",
              "      <td>5</td>\n",
              "      <td>25</td>\n",
              "    </tr>\n",
              "    <tr>\n",
              "      <th>4</th>\n",
              "      <td>IndiGo</td>\n",
              "      <td>Banglore</td>\n",
              "      <td>Delhi</td>\n",
              "      <td>1 stop</td>\n",
              "      <td>13302</td>\n",
              "      <td>3</td>\n",
              "      <td>1</td>\n",
              "      <td>16</td>\n",
              "      <td>50</td>\n",
              "      <td>21</td>\n",
              "      <td>35</td>\n",
              "      <td>4</td>\n",
              "      <td>45</td>\n",
              "    </tr>\n",
              "  </tbody>\n",
              "</table>\n",
              "</div>\n",
              "    <div class=\"colab-df-buttons\">\n",
              "\n",
              "  <div class=\"colab-df-container\">\n",
              "    <button class=\"colab-df-convert\" onclick=\"convertToInteractive('df-7667a41e-0667-4aed-b07b-3c8a5b5bf89d')\"\n",
              "            title=\"Convert this dataframe to an interactive table.\"\n",
              "            style=\"display:none;\">\n",
              "\n",
              "  <svg xmlns=\"http://www.w3.org/2000/svg\" height=\"24px\" viewBox=\"0 -960 960 960\">\n",
              "    <path d=\"M120-120v-720h720v720H120Zm60-500h600v-160H180v160Zm220 220h160v-160H400v160Zm0 220h160v-160H400v160ZM180-400h160v-160H180v160Zm440 0h160v-160H620v160ZM180-180h160v-160H180v160Zm440 0h160v-160H620v160Z\"/>\n",
              "  </svg>\n",
              "    </button>\n",
              "\n",
              "  <style>\n",
              "    .colab-df-container {\n",
              "      display:flex;\n",
              "      gap: 12px;\n",
              "    }\n",
              "\n",
              "    .colab-df-convert {\n",
              "      background-color: #E8F0FE;\n",
              "      border: none;\n",
              "      border-radius: 50%;\n",
              "      cursor: pointer;\n",
              "      display: none;\n",
              "      fill: #1967D2;\n",
              "      height: 32px;\n",
              "      padding: 0 0 0 0;\n",
              "      width: 32px;\n",
              "    }\n",
              "\n",
              "    .colab-df-convert:hover {\n",
              "      background-color: #E2EBFA;\n",
              "      box-shadow: 0px 1px 2px rgba(60, 64, 67, 0.3), 0px 1px 3px 1px rgba(60, 64, 67, 0.15);\n",
              "      fill: #174EA6;\n",
              "    }\n",
              "\n",
              "    .colab-df-buttons div {\n",
              "      margin-bottom: 4px;\n",
              "    }\n",
              "\n",
              "    [theme=dark] .colab-df-convert {\n",
              "      background-color: #3B4455;\n",
              "      fill: #D2E3FC;\n",
              "    }\n",
              "\n",
              "    [theme=dark] .colab-df-convert:hover {\n",
              "      background-color: #434B5C;\n",
              "      box-shadow: 0px 1px 3px 1px rgba(0, 0, 0, 0.15);\n",
              "      filter: drop-shadow(0px 1px 2px rgba(0, 0, 0, 0.3));\n",
              "      fill: #FFFFFF;\n",
              "    }\n",
              "  </style>\n",
              "\n",
              "    <script>\n",
              "      const buttonEl =\n",
              "        document.querySelector('#df-7667a41e-0667-4aed-b07b-3c8a5b5bf89d button.colab-df-convert');\n",
              "      buttonEl.style.display =\n",
              "        google.colab.kernel.accessAllowed ? 'block' : 'none';\n",
              "\n",
              "      async function convertToInteractive(key) {\n",
              "        const element = document.querySelector('#df-7667a41e-0667-4aed-b07b-3c8a5b5bf89d');\n",
              "        const dataTable =\n",
              "          await google.colab.kernel.invokeFunction('convertToInteractive',\n",
              "                                                    [key], {});\n",
              "        if (!dataTable) return;\n",
              "\n",
              "        const docLinkHtml = 'Like what you see? Visit the ' +\n",
              "          '<a target=\"_blank\" href=https://colab.research.google.com/notebooks/data_table.ipynb>data table notebook</a>'\n",
              "          + ' to learn more about interactive tables.';\n",
              "        element.innerHTML = '';\n",
              "        dataTable['output_type'] = 'display_data';\n",
              "        await google.colab.output.renderOutput(dataTable, element);\n",
              "        const docLink = document.createElement('div');\n",
              "        docLink.innerHTML = docLinkHtml;\n",
              "        element.appendChild(docLink);\n",
              "      }\n",
              "    </script>\n",
              "  </div>\n",
              "\n",
              "\n",
              "<div id=\"df-0f1209e5-2e3c-4560-8bc0-15ac7281a23a\">\n",
              "  <button class=\"colab-df-quickchart\" onclick=\"quickchart('df-0f1209e5-2e3c-4560-8bc0-15ac7281a23a')\"\n",
              "            title=\"Suggest charts\"\n",
              "            style=\"display:none;\">\n",
              "\n",
              "<svg xmlns=\"http://www.w3.org/2000/svg\" height=\"24px\"viewBox=\"0 0 24 24\"\n",
              "     width=\"24px\">\n",
              "    <g>\n",
              "        <path d=\"M19 3H5c-1.1 0-2 .9-2 2v14c0 1.1.9 2 2 2h14c1.1 0 2-.9 2-2V5c0-1.1-.9-2-2-2zM9 17H7v-7h2v7zm4 0h-2V7h2v10zm4 0h-2v-4h2v4z\"/>\n",
              "    </g>\n",
              "</svg>\n",
              "  </button>\n",
              "\n",
              "<style>\n",
              "  .colab-df-quickchart {\n",
              "      --bg-color: #E8F0FE;\n",
              "      --fill-color: #1967D2;\n",
              "      --hover-bg-color: #E2EBFA;\n",
              "      --hover-fill-color: #174EA6;\n",
              "      --disabled-fill-color: #AAA;\n",
              "      --disabled-bg-color: #DDD;\n",
              "  }\n",
              "\n",
              "  [theme=dark] .colab-df-quickchart {\n",
              "      --bg-color: #3B4455;\n",
              "      --fill-color: #D2E3FC;\n",
              "      --hover-bg-color: #434B5C;\n",
              "      --hover-fill-color: #FFFFFF;\n",
              "      --disabled-bg-color: #3B4455;\n",
              "      --disabled-fill-color: #666;\n",
              "  }\n",
              "\n",
              "  .colab-df-quickchart {\n",
              "    background-color: var(--bg-color);\n",
              "    border: none;\n",
              "    border-radius: 50%;\n",
              "    cursor: pointer;\n",
              "    display: none;\n",
              "    fill: var(--fill-color);\n",
              "    height: 32px;\n",
              "    padding: 0;\n",
              "    width: 32px;\n",
              "  }\n",
              "\n",
              "  .colab-df-quickchart:hover {\n",
              "    background-color: var(--hover-bg-color);\n",
              "    box-shadow: 0 1px 2px rgba(60, 64, 67, 0.3), 0 1px 3px 1px rgba(60, 64, 67, 0.15);\n",
              "    fill: var(--button-hover-fill-color);\n",
              "  }\n",
              "\n",
              "  .colab-df-quickchart-complete:disabled,\n",
              "  .colab-df-quickchart-complete:disabled:hover {\n",
              "    background-color: var(--disabled-bg-color);\n",
              "    fill: var(--disabled-fill-color);\n",
              "    box-shadow: none;\n",
              "  }\n",
              "\n",
              "  .colab-df-spinner {\n",
              "    border: 2px solid var(--fill-color);\n",
              "    border-color: transparent;\n",
              "    border-bottom-color: var(--fill-color);\n",
              "    animation:\n",
              "      spin 1s steps(1) infinite;\n",
              "  }\n",
              "\n",
              "  @keyframes spin {\n",
              "    0% {\n",
              "      border-color: transparent;\n",
              "      border-bottom-color: var(--fill-color);\n",
              "      border-left-color: var(--fill-color);\n",
              "    }\n",
              "    20% {\n",
              "      border-color: transparent;\n",
              "      border-left-color: var(--fill-color);\n",
              "      border-top-color: var(--fill-color);\n",
              "    }\n",
              "    30% {\n",
              "      border-color: transparent;\n",
              "      border-left-color: var(--fill-color);\n",
              "      border-top-color: var(--fill-color);\n",
              "      border-right-color: var(--fill-color);\n",
              "    }\n",
              "    40% {\n",
              "      border-color: transparent;\n",
              "      border-right-color: var(--fill-color);\n",
              "      border-top-color: var(--fill-color);\n",
              "    }\n",
              "    60% {\n",
              "      border-color: transparent;\n",
              "      border-right-color: var(--fill-color);\n",
              "    }\n",
              "    80% {\n",
              "      border-color: transparent;\n",
              "      border-right-color: var(--fill-color);\n",
              "      border-bottom-color: var(--fill-color);\n",
              "    }\n",
              "    90% {\n",
              "      border-color: transparent;\n",
              "      border-bottom-color: var(--fill-color);\n",
              "    }\n",
              "  }\n",
              "</style>\n",
              "\n",
              "  <script>\n",
              "    async function quickchart(key) {\n",
              "      const quickchartButtonEl =\n",
              "        document.querySelector('#' + key + ' button');\n",
              "      quickchartButtonEl.disabled = true;  // To prevent multiple clicks.\n",
              "      quickchartButtonEl.classList.add('colab-df-spinner');\n",
              "      try {\n",
              "        const charts = await google.colab.kernel.invokeFunction(\n",
              "            'suggestCharts', [key], {});\n",
              "      } catch (error) {\n",
              "        console.error('Error during call to suggestCharts:', error);\n",
              "      }\n",
              "      quickchartButtonEl.classList.remove('colab-df-spinner');\n",
              "      quickchartButtonEl.classList.add('colab-df-quickchart-complete');\n",
              "    }\n",
              "    (() => {\n",
              "      let quickchartButtonEl =\n",
              "        document.querySelector('#df-0f1209e5-2e3c-4560-8bc0-15ac7281a23a button');\n",
              "      quickchartButtonEl.style.display =\n",
              "        google.colab.kernel.accessAllowed ? 'block' : 'none';\n",
              "    })();\n",
              "  </script>\n",
              "</div>\n",
              "    </div>\n",
              "  </div>\n"
            ]
          },
          "metadata": {},
          "execution_count": 32
        }
      ],
      "source": [
        "data.head()"
      ]
    },
    {
      "cell_type": "code",
      "execution_count": 33,
      "id": "f17da8f2",
      "metadata": {
        "id": "f17da8f2"
      },
      "outputs": [],
      "source": [
        "# As this is case of Ordinal Categorical type we perform LabelEncoder\n",
        "# Here Values are assigned with corresponding keys\n",
        "\n",
        "data.replace({\"non-stop\": 0, \"1 stop\": 1, \"2 stops\": 2, \"3 stops\": 3, \"4 stops\": 4}, inplace = True)"
      ]
    },
    {
      "cell_type": "markdown",
      "id": "YC9WbMHfRsEM",
      "metadata": {
        "id": "YC9WbMHfRsEM"
      },
      "source": [
        "### Bivariate analysis"
      ]
    },
    {
      "cell_type": "code",
      "execution_count": 34,
      "id": "QD2S3V_eR5dL",
      "metadata": {
        "colab": {
          "base_uri": "https://localhost:8080/",
          "height": 714
        },
        "id": "QD2S3V_eR5dL",
        "outputId": "1272c6f2-68dc-4c1c-9ea8-e175e3a660f6"
      },
      "outputs": [
        {
          "output_type": "display_data",
          "data": {
            "text/plain": [
              "<Figure size 1500x700 with 2 Axes>"
            ],
            "image/png": "[encoded data removed]"
          },
          "metadata": {}
        }
      ],
      "source": [
        "plt.figure(figsize=(15, 7))\n",
        "sns.heatmap(\n",
        "    data.corr(), annot=True, vmin=-1, vmax=1, fmt=\".2f\", cmap=\"Spectral\"\n",
        ")\n",
        "plt.show()"
      ]
    },
    {
      "cell_type": "markdown",
      "id": "HZb0LvkpSds-",
      "metadata": {
        "id": "HZb0LvkpSds-"
      },
      "source": [
        "* Duration hours and Total stops are highly correlated to target column.\n",
        "* Total stops and Duration hours are highly positive correlated to target column."
      ]
    },
    {
      "cell_type": "markdown",
      "id": "ZFvG9lDBSxqj",
      "metadata": {
        "id": "ZFvG9lDBSxqj"
      },
      "source": [
        "### `Airline` vs `Price`"
      ]
    },
    {
      "cell_type": "code",
      "execution_count": 35,
      "id": "xTWo7EgWTv78",
      "metadata": {
        "colab": {
          "base_uri": "https://localhost:8080/",
          "height": 696
        },
        "id": "xTWo7EgWTv78",
        "outputId": "07d39646-80c2-4267-b392-6b2914d31741"
      },
      "outputs": [
        {
          "output_type": "display_data",
          "data": {
            "text/plain": [
              "<Figure size 1500x800 with 1 Axes>"
            ],
            "image/png": "[encoded data removed]"
          },
          "metadata": {}
        }
      ],
      "source": [
        "plt.figure(figsize=(15,8))\n",
        "a=sns.boxplot(x='Price',y='Airline',data=data.sort_values('Price',ascending=False),orient=\"h\")"
      ]
    },
    {
      "cell_type": "markdown",
      "id": "WKallSZCjUg7",
      "metadata": {
        "id": "WKallSZCjUg7"
      },
      "source": [
        "- Jet Airways Business is charging high price when comparing with other Airlines\n",
        "- Apart from the Jet Airways Business Airline almost all are having similar median."
      ]
    },
    {
      "cell_type": "code",
      "execution_count": 36,
      "id": "qRN2PAs0jYzt",
      "metadata": {
        "colab": {
          "base_uri": "https://localhost:8080/",
          "height": 238
        },
        "id": "qRN2PAs0jYzt",
        "outputId": "0cc22d5c-540b-4eb8-d637-ca9d6ad30e0c"
      },
      "outputs": [
        {
          "output_type": "execute_result",
          "data": {
            "text/plain": [
              "                    Airline    Source Destination  Total_Stops  Price  \\\n",
              "657    Jet Airways Business  Banglore       Delhi            1  52229   \n",
              "2923   Jet Airways Business  Banglore       Delhi            1  79512   \n",
              "5371   Jet Airways Business  Banglore       Delhi            1  62427   \n",
              "7350   Jet Airways Business     Delhi      Cochin            2  46490   \n",
              "9714   Jet Airways Business     Delhi      Cochin            2  52285   \n",
              "10363  Jet Airways Business  Banglore       Delhi            1  57209   \n",
              "\n",
              "       Day_of_Journey  Month_of_Journey  Dep_hour  Dep_minute  Arrival_hour  \\\n",
              "657                 3                 1         5          45            10   \n",
              "2923                3                 1         5          45            11   \n",
              "5371                3                 1         5          45            12   \n",
              "7350                3                 3        20           5             4   \n",
              "9714                3                 6        20           5             4   \n",
              "10363               3                 1         9          45            14   \n",
              "\n",
              "       Arrival_minute  Duration_hours  Duration_mins  \n",
              "657                45               5              0  \n",
              "2923               25               5             40  \n",
              "5371               25               6             40  \n",
              "7350               25               8             20  \n",
              "9714               25               8             20  \n",
              "10363              25               4             40  "
            ],
            "text/html": [
              "\n",
              "  <div id=\"df-058e10c4-7749-42a6-90f9-3d5ca2dee2c9\" class=\"colab-df-container\">\n",
              "    <div>\n",
              "<style scoped>\n",
              "    .dataframe tbody tr th:only-of-type {\n",
              "        vertical-align: middle;\n",
              "    }\n",
              "\n",
              "    .dataframe tbody tr th {\n",
              "        vertical-align: top;\n",
              "    }\n",
              "\n",
              "    .dataframe thead th {\n",
              "        text-align: right;\n",
              "    }\n",
              "</style>\n",
              "<table border=\"1\" class=\"dataframe\">\n",
              "  <thead>\n",
              "    <tr style=\"text-align: right;\">\n",
              "      <th></th>\n",
              "      <th>Airline</th>\n",
              "      <th>Source</th>\n",
              "      <th>Destination</th>\n",
              "      <th>Total_Stops</th>\n",
              "      <th>Price</th>\n",
              "      <th>Day_of_Journey</th>\n",
              "      <th>Month_of_Journey</th>\n",
              "      <th>Dep_hour</th>\n",
              "      <th>Dep_minute</th>\n",
              "      <th>Arrival_hour</th>\n",
              "      <th>Arrival_minute</th>\n",
              "      <th>Duration_hours</th>\n",
              "      <th>Duration_mins</th>\n",
              "    </tr>\n",
              "  </thead>\n",
              "  <tbody>\n",
              "    <tr>\n",
              "      <th>657</th>\n",
              "      <td>Jet Airways Business</td>\n",
              "      <td>Banglore</td>\n",
              "      <td>Delhi</td>\n",
              "      <td>1</td>\n",
              "      <td>52229</td>\n",
              "      <td>3</td>\n",
              "      <td>1</td>\n",
              "      <td>5</td>\n",
              "      <td>45</td>\n",
              "      <td>10</td>\n",
              "      <td>45</td>\n",
              "      <td>5</td>\n",
              "      <td>0</td>\n",
              "    </tr>\n",
              "    <tr>\n",
              "      <th>2923</th>\n",
              "      <td>Jet Airways Business</td>\n",
              "      <td>Banglore</td>\n",
              "      <td>Delhi</td>\n",
              "      <td>1</td>\n",
              "      <td>79512</td>\n",
              "      <td>3</td>\n",
              "      <td>1</td>\n",
              "      <td>5</td>\n",
              "      <td>45</td>\n",
              "      <td>11</td>\n",
              "      <td>25</td>\n",
              "      <td>5</td>\n",
              "      <td>40</td>\n",
              "    </tr>\n",
              "    <tr>\n",
              "      <th>5371</th>\n",
              "      <td>Jet Airways Business</td>\n",
              "      <td>Banglore</td>\n",
              "      <td>Delhi</td>\n",
              "      <td>1</td>\n",
              "      <td>62427</td>\n",
              "      <td>3</td>\n",
              "      <td>1</td>\n",
              "      <td>5</td>\n",
              "      <td>45</td>\n",
              "      <td>12</td>\n",
              "      <td>25</td>\n",
              "      <td>6</td>\n",
              "      <td>40</td>\n",
              "    </tr>\n",
              "    <tr>\n",
              "      <th>7350</th>\n",
              "      <td>Jet Airways Business</td>\n",
              "      <td>Delhi</td>\n",
              "      <td>Cochin</td>\n",
              "      <td>2</td>\n",
              "      <td>46490</td>\n",
              "      <td>3</td>\n",
              "      <td>3</td>\n",
              "      <td>20</td>\n",
              "      <td>5</td>\n",
              "      <td>4</td>\n",
              "      <td>25</td>\n",
              "      <td>8</td>\n",
              "      <td>20</td>\n",
              "    </tr>\n",
              "    <tr>\n",
              "      <th>9714</th>\n",
              "      <td>Jet Airways Business</td>\n",
              "      <td>Delhi</td>\n",
              "      <td>Cochin</td>\n",
              "      <td>2</td>\n",
              "      <td>52285</td>\n",
              "      <td>3</td>\n",
              "      <td>6</td>\n",
              "      <td>20</td>\n",
              "      <td>5</td>\n",
              "      <td>4</td>\n",
              "      <td>25</td>\n",
              "      <td>8</td>\n",
              "      <td>20</td>\n",
              "    </tr>\n",
              "    <tr>\n",
              "      <th>10363</th>\n",
              "      <td>Jet Airways Business</td>\n",
              "      <td>Banglore</td>\n",
              "      <td>Delhi</td>\n",
              "      <td>1</td>\n",
              "      <td>57209</td>\n",
              "      <td>3</td>\n",
              "      <td>1</td>\n",
              "      <td>9</td>\n",
              "      <td>45</td>\n",
              "      <td>14</td>\n",
              "      <td>25</td>\n",
              "      <td>4</td>\n",
              "      <td>40</td>\n",
              "    </tr>\n",
              "  </tbody>\n",
              "</table>\n",
              "</div>\n",
              "    <div class=\"colab-df-buttons\">\n",
              "\n",
              "  <div class=\"colab-df-container\">\n",
              "    <button class=\"colab-df-convert\" onclick=\"convertToInteractive('df-058e10c4-7749-42a6-90f9-3d5ca2dee2c9')\"\n",
              "            title=\"Convert this dataframe to an interactive table.\"\n",
              "            style=\"display:none;\">\n",
              "\n",
              "  <svg xmlns=\"http://www.w3.org/2000/svg\" height=\"24px\" viewBox=\"0 -960 960 960\">\n",
              "    <path d=\"M120-120v-720h720v720H120Zm60-500h600v-160H180v160Zm220 220h160v-160H400v160Zm0 220h160v-160H400v160ZM180-400h160v-160H180v160Zm440 0h160v-160H620v160ZM180-180h160v-160H180v160Zm440 0h160v-160H620v160Z\"/>\n",
              "  </svg>\n",
              "    </button>\n",
              "\n",
              "  <style>\n",
              "    .colab-df-container {\n",
              "      display:flex;\n",
              "      gap: 12px;\n",
              "    }\n",
              "\n",
              "    .colab-df-convert {\n",
              "      background-color: #E8F0FE;\n",
              "      border: none;\n",
              "      border-radius: 50%;\n",
              "      cursor: pointer;\n",
              "      display: none;\n",
              "      fill: #1967D2;\n",
              "      height: 32px;\n",
              "      padding: 0 0 0 0;\n",
              "      width: 32px;\n",
              "    }\n",
              "\n",
              "    .colab-df-convert:hover {\n",
              "      background-color: #E2EBFA;\n",
              "      box-shadow: 0px 1px 2px rgba(60, 64, 67, 0.3), 0px 1px 3px 1px rgba(60, 64, 67, 0.15);\n",
              "      fill: #174EA6;\n",
              "    }\n",
              "\n",
              "    .colab-df-buttons div {\n",
              "      margin-bottom: 4px;\n",
              "    }\n",
              "\n",
              "    [theme=dark] .colab-df-convert {\n",
              "      background-color: #3B4455;\n",
              "      fill: #D2E3FC;\n",
              "    }\n",
              "\n",
              "    [theme=dark] .colab-df-convert:hover {\n",
              "      background-color: #434B5C;\n",
              "      box-shadow: 0px 1px 3px 1px rgba(0, 0, 0, 0.15);\n",
              "      filter: drop-shadow(0px 1px 2px rgba(0, 0, 0, 0.3));\n",
              "      fill: #FFFFFF;\n",
              "    }\n",
              "  </style>\n",
              "\n",
              "    <script>\n",
              "      const buttonEl =\n",
              "        document.querySelector('#df-058e10c4-7749-42a6-90f9-3d5ca2dee2c9 button.colab-df-convert');\n",
              "      buttonEl.style.display =\n",
              "        google.colab.kernel.accessAllowed ? 'block' : 'none';\n",
              "\n",
              "      async function convertToInteractive(key) {\n",
              "        const element = document.querySelector('#df-058e10c4-7749-42a6-90f9-3d5ca2dee2c9');\n",
              "        const dataTable =\n",
              "          await google.colab.kernel.invokeFunction('convertToInteractive',\n",
              "                                                    [key], {});\n",
              "        if (!dataTable) return;\n",
              "\n",
              "        const docLinkHtml = 'Like what you see? Visit the ' +\n",
              "          '<a target=\"_blank\" href=https://colab.research.google.com/notebooks/data_table.ipynb>data table notebook</a>'\n",
              "          + ' to learn more about interactive tables.';\n",
              "        element.innerHTML = '';\n",
              "        dataTable['output_type'] = 'display_data';\n",
              "        await google.colab.output.renderOutput(dataTable, element);\n",
              "        const docLink = document.createElement('div');\n",
              "        docLink.innerHTML = docLinkHtml;\n",
              "        element.appendChild(docLink);\n",
              "      }\n",
              "    </script>\n",
              "  </div>\n",
              "\n",
              "\n",
              "<div id=\"df-0cab258f-1229-4b4f-82dc-b9865fcf35ad\">\n",
              "  <button class=\"colab-df-quickchart\" onclick=\"quickchart('df-0cab258f-1229-4b4f-82dc-b9865fcf35ad')\"\n",
              "            title=\"Suggest charts\"\n",
              "            style=\"display:none;\">\n",
              "\n",
              "<svg xmlns=\"http://www.w3.org/2000/svg\" height=\"24px\"viewBox=\"0 0 24 24\"\n",
              "     width=\"24px\">\n",
              "    <g>\n",
              "        <path d=\"M19 3H5c-1.1 0-2 .9-2 2v14c0 1.1.9 2 2 2h14c1.1 0 2-.9 2-2V5c0-1.1-.9-2-2-2zM9 17H7v-7h2v7zm4 0h-2V7h2v10zm4 0h-2v-4h2v4z\"/>\n",
              "    </g>\n",
              "</svg>\n",
              "  </button>\n",
              "\n",
              "<style>\n",
              "  .colab-df-quickchart {\n",
              "      --bg-color: #E8F0FE;\n",
              "      --fill-color: #1967D2;\n",
              "      --hover-bg-color: #E2EBFA;\n",
              "      --hover-fill-color: #174EA6;\n",
              "      --disabled-fill-color: #AAA;\n",
              "      --disabled-bg-color: #DDD;\n",
              "  }\n",
              "\n",
              "  [theme=dark] .colab-df-quickchart {\n",
              "      --bg-color: #3B4455;\n",
              "      --fill-color: #D2E3FC;\n",
              "      --hover-bg-color: #434B5C;\n",
              "      --hover-fill-color: #FFFFFF;\n",
              "      --disabled-bg-color: #3B4455;\n",
              "      --disabled-fill-color: #666;\n",
              "  }\n",
              "\n",
              "  .colab-df-quickchart {\n",
              "    background-color: var(--bg-color);\n",
              "    border: none;\n",
              "    border-radius: 50%;\n",
              "    cursor: pointer;\n",
              "    display: none;\n",
              "    fill: var(--fill-color);\n",
              "    height: 32px;\n",
              "    padding: 0;\n",
              "    width: 32px;\n",
              "  }\n",
              "\n",
              "  .colab-df-quickchart:hover {\n",
              "    background-color: var(--hover-bg-color);\n",
              "    box-shadow: 0 1px 2px rgba(60, 64, 67, 0.3), 0 1px 3px 1px rgba(60, 64, 67, 0.15);\n",
              "    fill: var(--button-hover-fill-color);\n",
              "  }\n",
              "\n",
              "  .colab-df-quickchart-complete:disabled,\n",
              "  .colab-df-quickchart-complete:disabled:hover {\n",
              "    background-color: var(--disabled-bg-color);\n",
              "    fill: var(--disabled-fill-color);\n",
              "    box-shadow: none;\n",
              "  }\n",
              "\n",
              "  .colab-df-spinner {\n",
              "    border: 2px solid var(--fill-color);\n",
              "    border-color: transparent;\n",
              "    border-bottom-color: var(--fill-color);\n",
              "    animation:\n",
              "      spin 1s steps(1) infinite;\n",
              "  }\n",
              "\n",
              "  @keyframes spin {\n",
              "    0% {\n",
              "      border-color: transparent;\n",
              "      border-bottom-color: var(--fill-color);\n",
              "      border-left-color: var(--fill-color);\n",
              "    }\n",
              "    20% {\n",
              "      border-color: transparent;\n",
              "      border-left-color: var(--fill-color);\n",
              "      border-top-color: var(--fill-color);\n",
              "    }\n",
              "    30% {\n",
              "      border-color: transparent;\n",
              "      border-left-color: var(--fill-color);\n",
              "      border-top-color: var(--fill-color);\n",
              "      border-right-color: var(--fill-color);\n",
              "    }\n",
              "    40% {\n",
              "      border-color: transparent;\n",
              "      border-right-color: var(--fill-color);\n",
              "      border-top-color: var(--fill-color);\n",
              "    }\n",
              "    60% {\n",
              "      border-color: transparent;\n",
              "      border-right-color: var(--fill-color);\n",
              "    }\n",
              "    80% {\n",
              "      border-color: transparent;\n",
              "      border-right-color: var(--fill-color);\n",
              "      border-bottom-color: var(--fill-color);\n",
              "    }\n",
              "    90% {\n",
              "      border-color: transparent;\n",
              "      border-bottom-color: var(--fill-color);\n",
              "    }\n",
              "  }\n",
              "</style>\n",
              "\n",
              "  <script>\n",
              "    async function quickchart(key) {\n",
              "      const quickchartButtonEl =\n",
              "        document.querySelector('#' + key + ' button');\n",
              "      quickchartButtonEl.disabled = true;  // To prevent multiple clicks.\n",
              "      quickchartButtonEl.classList.add('colab-df-spinner');\n",
              "      try {\n",
              "        const charts = await google.colab.kernel.invokeFunction(\n",
              "            'suggestCharts', [key], {});\n",
              "      } catch (error) {\n",
              "        console.error('Error during call to suggestCharts:', error);\n",
              "      }\n",
              "      quickchartButtonEl.classList.remove('colab-df-spinner');\n",
              "      quickchartButtonEl.classList.add('colab-df-quickchart-complete');\n",
              "    }\n",
              "    (() => {\n",
              "      let quickchartButtonEl =\n",
              "        document.querySelector('#df-0cab258f-1229-4b4f-82dc-b9865fcf35ad button');\n",
              "      quickchartButtonEl.style.display =\n",
              "        google.colab.kernel.accessAllowed ? 'block' : 'none';\n",
              "    })();\n",
              "  </script>\n",
              "</div>\n",
              "    </div>\n",
              "  </div>\n"
            ]
          },
          "metadata": {},
          "execution_count": 36
        }
      ],
      "source": [
        "Highest_airline_price= data[data['Airline']=='Jet Airways Business']\n",
        "Highest_airline_price"
      ]
    },
    {
      "cell_type": "markdown",
      "id": "m9och7ndjepJ",
      "metadata": {
        "id": "m9och7ndjepJ"
      },
      "source": [
        "* We can see the price of the Jet Airways Business Airline having an average price of 50 thousand Rupees"
      ]
    },
    {
      "cell_type": "markdown",
      "id": "cM2UVvNljwTA",
      "metadata": {
        "id": "cM2UVvNljwTA"
      },
      "source": [
        "### `Total Stops` vs `Price`"
      ]
    },
    {
      "cell_type": "code",
      "execution_count": 37,
      "id": "wGHd1rbujalx",
      "metadata": {
        "colab": {
          "base_uri": "https://localhost:8080/",
          "height": 713
        },
        "id": "wGHd1rbujalx",
        "outputId": "7b80df55-610a-447e-d050-99916daf2f3d"
      },
      "outputs": [
        {
          "output_type": "execute_result",
          "data": {
            "text/plain": [
              "<Axes: xlabel='Total_Stops', ylabel='Price'>"
            ]
          },
          "metadata": {},
          "execution_count": 37
        },
        {
          "output_type": "display_data",
          "data": {
            "text/plain": [
              "<Figure size 1500x800 with 1 Axes>"
            ],
            "image/png": "[encoded data removed]"
          },
          "metadata": {}
        }
      ],
      "source": [
        "plt.figure(figsize=(15,8))\n",
        "sns.boxplot(x='Total_Stops',y='Price',data=data.sort_values('Price',ascending=False))"
      ]
    },
    {
      "cell_type": "markdown",
      "id": "yU-olicnj8v7",
      "metadata": {
        "id": "yU-olicnj8v7"
      },
      "source": [
        "* Prices of Airline having different stops are almost equal and mainly the price depends on which Airline we are choosing to travell"
      ]
    },
    {
      "cell_type": "code",
      "execution_count": 38,
      "id": "2057112c",
      "metadata": {
        "id": "2057112c"
      },
      "outputs": [],
      "source": [
        "## Storing required categorical variables in cat_dat to apply dummification\n",
        "cat_data = [\"Airline\",'Source','Destination']"
      ]
    },
    {
      "cell_type": "code",
      "execution_count": 39,
      "id": "4dd07ec5",
      "metadata": {
        "colab": {
          "base_uri": "https://localhost:8080/"
        },
        "id": "4dd07ec5",
        "outputId": "07313308-83b9-4b2a-8303-8ead4eb0ec36"
      },
      "outputs": [
        {
          "output_type": "stream",
          "name": "stdout",
          "text": [
            "(10681, 12)\n",
            "(10681, 1)\n",
            "<class 'pandas.core.frame.DataFrame'>\n"
          ]
        }
      ],
      "source": [
        "##Splitting Independent and dependent variable in X and Y respectively\n",
        "X = data.drop(['Price'],axis=1)\n",
        "Y = data[['Price']]\n",
        "\n",
        "print(X.shape)\n",
        "print(Y.shape)\n",
        "print(type(X))"
      ]
    },
    {
      "cell_type": "code",
      "execution_count": 40,
      "id": "db9b8282",
      "metadata": {
        "id": "db9b8282"
      },
      "outputs": [],
      "source": [
        "# Splitting the dataset into the Training and Testing set.\n",
        "X_big, X_test, y_big, y_test = train_test_split(X,Y, test_size = 0.1, random_state = 5,shuffle = True)"
      ]
    },
    {
      "cell_type": "code",
      "source": [
        "# Splitting the dataset into the Training and validation set.\n",
        "X_train, X_val, y_train, y_val = train_test_split(X_big,y_big, test_size = 0.3, random_state = 5,shuffle = True)"
      ],
      "metadata": {
        "id": "rIRODdO6BeXV"
      },
      "id": "rIRODdO6BeXV",
      "execution_count": 41,
      "outputs": []
    },
    {
      "cell_type": "code",
      "source": [
        "X_train.head()"
      ],
      "metadata": {
        "colab": {
          "base_uri": "https://localhost:8080/",
          "height": 206
        },
        "id": "nde_yZK5_Xf5",
        "outputId": "90c94258-96dd-48b9-af83-5c60aa2d1078"
      },
      "id": "nde_yZK5_Xf5",
      "execution_count": 42,
      "outputs": [
        {
          "output_type": "execute_result",
          "data": {
            "text/plain": [
              "                Airline    Source Destination  Total_Stops  Day_of_Journey  \\\n",
              "6603          Air India   Kolkata    Banglore            1               5   \n",
              "3591          Air India   Kolkata    Banglore            1               4   \n",
              "2831             IndiGo  Banglore       Delhi            0               3   \n",
              "1396             IndiGo     Delhi      Cochin            1               4   \n",
              "2045  Multiple carriers     Delhi      Cochin            1               6   \n",
              "\n",
              "      Month_of_Journey  Dep_hour  Dep_minute  Arrival_hour  Arrival_minute  \\\n",
              "6603                 9        20          30             8              55   \n",
              "3591                 1         9          50            21               5   \n",
              "2831                 9         5          30             8              20   \n",
              "1396                 6         2           0             7              25   \n",
              "2045                 1        14          55            22              30   \n",
              "\n",
              "      Duration_hours  Duration_mins  \n",
              "6603              12             25  \n",
              "3591              11             15  \n",
              "2831               2             50  \n",
              "1396               5             25  \n",
              "2045               7             35  "
            ],
            "text/html": [
              "\n",
              "  <div id=\"df-57088ff7-40da-4277-b18f-c12e85faba12\" class=\"colab-df-container\">\n",
              "    <div>\n",
              "<style scoped>\n",
              "    .dataframe tbody tr th:only-of-type {\n",
              "        vertical-align: middle;\n",
              "    }\n",
              "\n",
              "    .dataframe tbody tr th {\n",
              "        vertical-align: top;\n",
              "    }\n",
              "\n",
              "    .dataframe thead th {\n",
              "        text-align: right;\n",
              "    }\n",
              "</style>\n",
              "<table border=\"1\" class=\"dataframe\">\n",
              "  <thead>\n",
              "    <tr style=\"text-align: right;\">\n",
              "      <th></th>\n",
              "      <th>Airline</th>\n",
              "      <th>Source</th>\n",
              "      <th>Destination</th>\n",
              "      <th>Total_Stops</th>\n",
              "      <th>Day_of_Journey</th>\n",
              "      <th>Month_of_Journey</th>\n",
              "      <th>Dep_hour</th>\n",
              "      <th>Dep_minute</th>\n",
              "      <th>Arrival_hour</th>\n",
              "      <th>Arrival_minute</th>\n",
              "      <th>Duration_hours</th>\n",
              "      <th>Duration_mins</th>\n",
              "    </tr>\n",
              "  </thead>\n",
              "  <tbody>\n",
              "    <tr>\n",
              "      <th>6603</th>\n",
              "      <td>Air India</td>\n",
              "      <td>Kolkata</td>\n",
              "      <td>Banglore</td>\n",
              "      <td>1</td>\n",
              "      <td>5</td>\n",
              "      <td>9</td>\n",
              "      <td>20</td>\n",
              "      <td>30</td>\n",
              "      <td>8</td>\n",
              "      <td>55</td>\n",
              "      <td>12</td>\n",
              "      <td>25</td>\n",
              "    </tr>\n",
              "    <tr>\n",
              "      <th>3591</th>\n",
              "      <td>Air India</td>\n",
              "      <td>Kolkata</td>\n",
              "      <td>Banglore</td>\n",
              "      <td>1</td>\n",
              "      <td>4</td>\n",
              "      <td>1</td>\n",
              "      <td>9</td>\n",
              "      <td>50</td>\n",
              "      <td>21</td>\n",
              "      <td>5</td>\n",
              "      <td>11</td>\n",
              "      <td>15</td>\n",
              "    </tr>\n",
              "    <tr>\n",
              "      <th>2831</th>\n",
              "      <td>IndiGo</td>\n",
              "      <td>Banglore</td>\n",
              "      <td>Delhi</td>\n",
              "      <td>0</td>\n",
              "      <td>3</td>\n",
              "      <td>9</td>\n",
              "      <td>5</td>\n",
              "      <td>30</td>\n",
              "      <td>8</td>\n",
              "      <td>20</td>\n",
              "      <td>2</td>\n",
              "      <td>50</td>\n",
              "    </tr>\n",
              "    <tr>\n",
              "      <th>1396</th>\n",
              "      <td>IndiGo</td>\n",
              "      <td>Delhi</td>\n",
              "      <td>Cochin</td>\n",
              "      <td>1</td>\n",
              "      <td>4</td>\n",
              "      <td>6</td>\n",
              "      <td>2</td>\n",
              "      <td>0</td>\n",
              "      <td>7</td>\n",
              "      <td>25</td>\n",
              "      <td>5</td>\n",
              "      <td>25</td>\n",
              "    </tr>\n",
              "    <tr>\n",
              "      <th>2045</th>\n",
              "      <td>Multiple carriers</td>\n",
              "      <td>Delhi</td>\n",
              "      <td>Cochin</td>\n",
              "      <td>1</td>\n",
              "      <td>6</td>\n",
              "      <td>1</td>\n",
              "      <td>14</td>\n",
              "      <td>55</td>\n",
              "      <td>22</td>\n",
              "      <td>30</td>\n",
              "      <td>7</td>\n",
              "      <td>35</td>\n",
              "    </tr>\n",
              "  </tbody>\n",
              "</table>\n",
              "</div>\n",
              "    <div class=\"colab-df-buttons\">\n",
              "\n",
              "  <div class=\"colab-df-container\">\n",
              "    <button class=\"colab-df-convert\" onclick=\"convertToInteractive('df-57088ff7-40da-4277-b18f-c12e85faba12')\"\n",
              "            title=\"Convert this dataframe to an interactive table.\"\n",
              "            style=\"display:none;\">\n",
              "\n",
              "  <svg xmlns=\"http://www.w3.org/2000/svg\" height=\"24px\" viewBox=\"0 -960 960 960\">\n",
              "    <path d=\"M120-120v-720h720v720H120Zm60-500h600v-160H180v160Zm220 220h160v-160H400v160Zm0 220h160v-160H400v160ZM180-400h160v-160H180v160Zm440 0h160v-160H620v160ZM180-180h160v-160H180v160Zm440 0h160v-160H620v160Z\"/>\n",
              "  </svg>\n",
              "    </button>\n",
              "\n",
              "  <style>\n",
              "    .colab-df-container {\n",
              "      display:flex;\n",
              "      gap: 12px;\n",
              "    }\n",
              "\n",
              "    .colab-df-convert {\n",
              "      background-color: #E8F0FE;\n",
              "      border: none;\n",
              "      border-radius: 50%;\n",
              "      cursor: pointer;\n",
              "      display: none;\n",
              "      fill: #1967D2;\n",
              "      height: 32px;\n",
              "      padding: 0 0 0 0;\n",
              "      width: 32px;\n",
              "    }\n",
              "\n",
              "    .colab-df-convert:hover {\n",
              "      background-color: #E2EBFA;\n",
              "      box-shadow: 0px 1px 2px rgba(60, 64, 67, 0.3), 0px 1px 3px 1px rgba(60, 64, 67, 0.15);\n",
              "      fill: #174EA6;\n",
              "    }\n",
              "\n",
              "    .colab-df-buttons div {\n",
              "      margin-bottom: 4px;\n",
              "    }\n",
              "\n",
              "    [theme=dark] .colab-df-convert {\n",
              "      background-color: #3B4455;\n",
              "      fill: #D2E3FC;\n",
              "    }\n",
              "\n",
              "    [theme=dark] .colab-df-convert:hover {\n",
              "      background-color: #434B5C;\n",
              "      box-shadow: 0px 1px 3px 1px rgba(0, 0, 0, 0.15);\n",
              "      filter: drop-shadow(0px 1px 2px rgba(0, 0, 0, 0.3));\n",
              "      fill: #FFFFFF;\n",
              "    }\n",
              "  </style>\n",
              "\n",
              "    <script>\n",
              "      const buttonEl =\n",
              "        document.querySelector('#df-57088ff7-40da-4277-b18f-c12e85faba12 button.colab-df-convert');\n",
              "      buttonEl.style.display =\n",
              "        google.colab.kernel.accessAllowed ? 'block' : 'none';\n",
              "\n",
              "      async function convertToInteractive(key) {\n",
              "        const element = document.querySelector('#df-57088ff7-40da-4277-b18f-c12e85faba12');\n",
              "        const dataTable =\n",
              "          await google.colab.kernel.invokeFunction('convertToInteractive',\n",
              "                                                    [key], {});\n",
              "        if (!dataTable) return;\n",
              "\n",
              "        const docLinkHtml = 'Like what you see? Visit the ' +\n",
              "          '<a target=\"_blank\" href=https://colab.research.google.com/notebooks/data_table.ipynb>data table notebook</a>'\n",
              "          + ' to learn more about interactive tables.';\n",
              "        element.innerHTML = '';\n",
              "        dataTable['output_type'] = 'display_data';\n",
              "        await google.colab.output.renderOutput(dataTable, element);\n",
              "        const docLink = document.createElement('div');\n",
              "        docLink.innerHTML = docLinkHtml;\n",
              "        element.appendChild(docLink);\n",
              "      }\n",
              "    </script>\n",
              "  </div>\n",
              "\n",
              "\n",
              "<div id=\"df-788b547d-b599-4fda-85c7-e0be2b94d60b\">\n",
              "  <button class=\"colab-df-quickchart\" onclick=\"quickchart('df-788b547d-b599-4fda-85c7-e0be2b94d60b')\"\n",
              "            title=\"Suggest charts\"\n",
              "            style=\"display:none;\">\n",
              "\n",
              "<svg xmlns=\"http://www.w3.org/2000/svg\" height=\"24px\"viewBox=\"0 0 24 24\"\n",
              "     width=\"24px\">\n",
              "    <g>\n",
              "        <path d=\"M19 3H5c-1.1 0-2 .9-2 2v14c0 1.1.9 2 2 2h14c1.1 0 2-.9 2-2V5c0-1.1-.9-2-2-2zM9 17H7v-7h2v7zm4 0h-2V7h2v10zm4 0h-2v-4h2v4z\"/>\n",
              "    </g>\n",
              "</svg>\n",
              "  </button>\n",
              "\n",
              "<style>\n",
              "  .colab-df-quickchart {\n",
              "      --bg-color: #E8F0FE;\n",
              "      --fill-color: #1967D2;\n",
              "      --hover-bg-color: #E2EBFA;\n",
              "      --hover-fill-color: #174EA6;\n",
              "      --disabled-fill-color: #AAA;\n",
              "      --disabled-bg-color: #DDD;\n",
              "  }\n",
              "\n",
              "  [theme=dark] .colab-df-quickchart {\n",
              "      --bg-color: #3B4455;\n",
              "      --fill-color: #D2E3FC;\n",
              "      --hover-bg-color: #434B5C;\n",
              "      --hover-fill-color: #FFFFFF;\n",
              "      --disabled-bg-color: #3B4455;\n",
              "      --disabled-fill-color: #666;\n",
              "  }\n",
              "\n",
              "  .colab-df-quickchart {\n",
              "    background-color: var(--bg-color);\n",
              "    border: none;\n",
              "    border-radius: 50%;\n",
              "    cursor: pointer;\n",
              "    display: none;\n",
              "    fill: var(--fill-color);\n",
              "    height: 32px;\n",
              "    padding: 0;\n",
              "    width: 32px;\n",
              "  }\n",
              "\n",
              "  .colab-df-quickchart:hover {\n",
              "    background-color: var(--hover-bg-color);\n",
              "    box-shadow: 0 1px 2px rgba(60, 64, 67, 0.3), 0 1px 3px 1px rgba(60, 64, 67, 0.15);\n",
              "    fill: var(--button-hover-fill-color);\n",
              "  }\n",
              "\n",
              "  .colab-df-quickchart-complete:disabled,\n",
              "  .colab-df-quickchart-complete:disabled:hover {\n",
              "    background-color: var(--disabled-bg-color);\n",
              "    fill: var(--disabled-fill-color);\n",
              "    box-shadow: none;\n",
              "  }\n",
              "\n",
              "  .colab-df-spinner {\n",
              "    border: 2px solid var(--fill-color);\n",
              "    border-color: transparent;\n",
              "    border-bottom-color: var(--fill-color);\n",
              "    animation:\n",
              "      spin 1s steps(1) infinite;\n",
              "  }\n",
              "\n",
              "  @keyframes spin {\n",
              "    0% {\n",
              "      border-color: transparent;\n",
              "      border-bottom-color: var(--fill-color);\n",
              "      border-left-color: var(--fill-color);\n",
              "    }\n",
              "    20% {\n",
              "      border-color: transparent;\n",
              "      border-left-color: var(--fill-color);\n",
              "      border-top-color: var(--fill-color);\n",
              "    }\n",
              "    30% {\n",
              "      border-color: transparent;\n",
              "      border-left-color: var(--fill-color);\n",
              "      border-top-color: var(--fill-color);\n",
              "      border-right-color: var(--fill-color);\n",
              "    }\n",
              "    40% {\n",
              "      border-color: transparent;\n",
              "      border-right-color: var(--fill-color);\n",
              "      border-top-color: var(--fill-color);\n",
              "    }\n",
              "    60% {\n",
              "      border-color: transparent;\n",
              "      border-right-color: var(--fill-color);\n",
              "    }\n",
              "    80% {\n",
              "      border-color: transparent;\n",
              "      border-right-color: var(--fill-color);\n",
              "      border-bottom-color: var(--fill-color);\n",
              "    }\n",
              "    90% {\n",
              "      border-color: transparent;\n",
              "      border-bottom-color: var(--fill-color);\n",
              "    }\n",
              "  }\n",
              "</style>\n",
              "\n",
              "  <script>\n",
              "    async function quickchart(key) {\n",
              "      const quickchartButtonEl =\n",
              "        document.querySelector('#' + key + ' button');\n",
              "      quickchartButtonEl.disabled = true;  // To prevent multiple clicks.\n",
              "      quickchartButtonEl.classList.add('colab-df-spinner');\n",
              "      try {\n",
              "        const charts = await google.colab.kernel.invokeFunction(\n",
              "            'suggestCharts', [key], {});\n",
              "      } catch (error) {\n",
              "        console.error('Error during call to suggestCharts:', error);\n",
              "      }\n",
              "      quickchartButtonEl.classList.remove('colab-df-spinner');\n",
              "      quickchartButtonEl.classList.add('colab-df-quickchart-complete');\n",
              "    }\n",
              "    (() => {\n",
              "      let quickchartButtonEl =\n",
              "        document.querySelector('#df-788b547d-b599-4fda-85c7-e0be2b94d60b button');\n",
              "      quickchartButtonEl.style.display =\n",
              "        google.colab.kernel.accessAllowed ? 'block' : 'none';\n",
              "    })();\n",
              "  </script>\n",
              "</div>\n",
              "    </div>\n",
              "  </div>\n"
            ]
          },
          "metadata": {},
          "execution_count": 42
        }
      ]
    },
    {
      "cell_type": "markdown",
      "source": [
        "**Normalizing**"
      ],
      "metadata": {
        "id": "rIKQlSnfMFNk"
      },
      "id": "rIKQlSnfMFNk"
    },
    {
      "cell_type": "markdown",
      "source": [
        "##### **Why scaling is done?**\n",
        "\n",
        "The numerical columns present in this dataset are having different units (Minutes and Hours), so scaling would help them all be in the same range.\n",
        "\n",
        "**For example** -\n",
        "If you have multiple independent variables like age, salary, and height, With their range as (18–100 Years), (25,000–75,000 Euros), and (1–2 Meters) respectively, feature scaling would help them all to be in the same range."
      ],
      "metadata": {
        "id": "0NgfHUsDJMQy"
      },
      "id": "0NgfHUsDJMQy"
    },
    {
      "cell_type": "code",
      "source": [
        "## Scaling the data\n",
        "sc=StandardScaler()\n",
        "temp = sc.fit(X_train[[\"Dep_hour\",\"Dep_minute\",\"Arrival_hour\",\"Arrival_minute\",\"Duration_hours\",\"Duration_mins\"]])\n",
        "X_train[[\"Dep_hour\",\"Dep_minute\",\"Arrival_hour\",\"Arrival_minute\",\"Duration_hours\",\"Duration_mins\"]] = temp.transform(X_train[[\"Dep_hour\",\"Dep_minute\",\"Arrival_hour\",\"Arrival_minute\",\"Duration_hours\",\"Duration_mins\"]])\n",
        "X_test[[\"Dep_hour\",\"Dep_minute\",\"Arrival_hour\",\"Arrival_minute\",\"Duration_hours\",\"Duration_mins\"]] = temp.transform(X_test[[\"Dep_hour\",\"Dep_minute\",\"Arrival_hour\",\"Arrival_minute\",\"Duration_hours\",\"Duration_mins\"]])\n",
        "X_val[[\"Dep_hour\",\"Dep_minute\",\"Arrival_hour\",\"Arrival_minute\",\"Duration_hours\",\"Duration_mins\"]] = temp.transform(X_val[[\"Dep_hour\",\"Dep_minute\",\"Arrival_hour\",\"Arrival_minute\",\"Duration_hours\",\"Duration_mins\"]])"
      ],
      "metadata": {
        "id": "2jsJcM0h-2_S"
      },
      "id": "2jsJcM0h-2_S",
      "execution_count": 43,
      "outputs": []
    },
    {
      "cell_type": "markdown",
      "source": [
        "Since we are solving the regression module, we will scale the target variable. One of the reasons to scale the data is to reduce the time complexity for updating the weights during the backpropagation, which uses the derivatives.\n",
        "\n",
        "For classification problem, there is no need of scaling the target variable."
      ],
      "metadata": {
        "id": "WFTWzd6hLILP"
      },
      "id": "WFTWzd6hLILP"
    },
    {
      "cell_type": "code",
      "source": [
        "# Scaling the Target variable (contionous variable)\n",
        "y_train = sc.fit_transform(y_train)\n",
        "y_val_scale = sc.transform(y_val)"
      ],
      "metadata": {
        "id": "Idh1XAzvFgDH"
      },
      "id": "Idh1XAzvFgDH",
      "execution_count": 44,
      "outputs": []
    },
    {
      "cell_type": "markdown",
      "source": [
        "**Categorical Encoding**"
      ],
      "metadata": {
        "id": "P7oG1iIgMOmC"
      },
      "id": "P7oG1iIgMOmC"
    },
    {
      "cell_type": "code",
      "execution_count": 45,
      "id": "Nsvn2ffGxVaa",
      "metadata": {
        "id": "Nsvn2ffGxVaa"
      },
      "outputs": [],
      "source": [
        "# Using pd.get dummies to encode the categorical columns in the data\n",
        "X_train = pd.get_dummies(X_train,columns=cat_data,drop_first= True)\n",
        "X_test = pd.get_dummies(X_test,columns=cat_data,drop_first= True)\n",
        "X_val = pd.get_dummies(X_val,columns=cat_data,drop_first= True)"
      ]
    },
    {
      "cell_type": "code",
      "execution_count": 46,
      "id": "20f86e1d",
      "metadata": {
        "colab": {
          "base_uri": "https://localhost:8080/"
        },
        "id": "20f86e1d",
        "outputId": "24264957-6c68-47b0-f4f8-56809b5714b8"
      },
      "outputs": [
        {
          "output_type": "stream",
          "name": "stdout",
          "text": [
            "(6728, 27)\n",
            "(2884, 26)\n",
            "(6728, 1)\n",
            "(2884, 1)\n",
            "(1069, 25)\n",
            "(1069, 1)\n"
          ]
        }
      ],
      "source": [
        "# Checking the shape\n",
        "print(X_train.shape)\n",
        "print(X_val.shape)\n",
        "print(y_train.shape)\n",
        "print(y_val.shape)\n",
        "print(X_test.shape)\n",
        "print(y_test.shape)"
      ]
    },
    {
      "cell_type": "markdown",
      "source": [
        "Since we have different number of columns in train, test and validation, we will use align function to create dummy variables with all values of zero's in it.\n",
        "\n",
        "Align method aligns two objects on their axes with the specified join method. This method is helpful when we want to synchronize a dataframe with another dataframe."
      ],
      "metadata": {
        "id": "vVHBblEVQAQf"
      },
      "id": "vVHBblEVQAQf"
    },
    {
      "cell_type": "code",
      "source": [
        "X_train,X_test = X_train.align(X_test,join='outer',axis=1,fill_value=0)\n",
        "X_train,X_val = X_train.align(X_val,join='outer',axis=1,fill_value=0)"
      ],
      "metadata": {
        "id": "QsPY3TNf1RwA"
      },
      "id": "QsPY3TNf1RwA",
      "execution_count": 47,
      "outputs": []
    },
    {
      "cell_type": "code",
      "source": [
        "# Checking the shape\n",
        "print(X_train.shape)\n",
        "print(X_val.shape)\n",
        "print(y_train.shape)\n",
        "print(y_val.shape)\n",
        "print(X_test.shape)\n",
        "print(y_test.shape)"
      ],
      "metadata": {
        "colab": {
          "base_uri": "https://localhost:8080/"
        },
        "id": "FLnnNu5y2BEh",
        "outputId": "8e72083e-9ad6-4bce-8ea1-cd3efd9712de"
      },
      "id": "FLnnNu5y2BEh",
      "execution_count": 48,
      "outputs": [
        {
          "output_type": "stream",
          "name": "stdout",
          "text": [
            "(6728, 27)\n",
            "(2884, 27)\n",
            "(6728, 1)\n",
            "(2884, 1)\n",
            "(1069, 27)\n",
            "(1069, 1)\n"
          ]
        }
      ]
    },
    {
      "cell_type": "markdown",
      "id": "vVIbagr2Hn78",
      "metadata": {
        "id": "vVIbagr2Hn78"
      },
      "source": [
        "### Model performance check\n",
        "\n",
        "* We will be using metric functions defined in sklearn for RMSE, MAE, and $R^2$.\n",
        "\n",
        "* We will define functions to calculate adjusted $R^2$\n",
        "* We will create a function that will print out all the above metrics in one go."
      ]
    },
    {
      "cell_type": "markdown",
      "id": "01974259",
      "metadata": {
        "id": "01974259"
      },
      "source": [
        "# Model Building\n",
        "\n",
        "- We will now start with the model building process.\n",
        "- We will create a model.\n",
        " - Three hidden layer with ReLU as activation function.\n",
        " - Output layer with 1 nodes (For regression problem )"
      ]
    },
    {
      "cell_type": "markdown",
      "source": [
        "#### Model-1"
      ],
      "metadata": {
        "id": "L6N3qRTfQx2d"
      },
      "id": "L6N3qRTfQx2d"
    },
    {
      "cell_type": "code",
      "execution_count": 49,
      "id": "d9ee78e9",
      "metadata": {
        "id": "d9ee78e9"
      },
      "outputs": [],
      "source": [
        "backend.clear_session()\n",
        "#Fixing the seed for random number generators so that we can ensure we receive the same output everytime\n",
        "np.random.seed(42)\n",
        "import random\n",
        "random.seed(42)\n",
        "tf.random.set_seed(42)"
      ]
    },
    {
      "cell_type": "code",
      "execution_count": 50,
      "id": "a24aec24",
      "metadata": {
        "id": "a24aec24"
      },
      "outputs": [],
      "source": [
        "# Initializing the model\n",
        "model = Sequential()\n",
        "# Adding input layer with 64 neurons, relu as activation function and, he_uniform as weight initializer.\n",
        "model.add(Dense(64, activation='relu',kernel_initializer='he_uniform', input_shape=(27,)))\n",
        "# Adding the first hidden layer with 32 neurons, relu as activation function and, he_uniform as weight initializer\n",
        "model.add(Dense(32, activation='relu',kernel_initializer='he_uniform'))\n",
        "# Adding the second hidden layer with 32 neurons, relu as activation function and, he_uniform as weight initializer\n",
        "model.add(Dense(32, activation='relu',kernel_initializer='he_uniform'))\n",
        "# Adding the output layer with one neuron and linear as activation\n",
        "model.add(Dense(1, activation='linear'))"
      ]
    },
    {
      "cell_type": "code",
      "execution_count": 51,
      "id": "e7997003",
      "metadata": {
        "id": "e7997003",
        "colab": {
          "base_uri": "https://localhost:8080/"
        },
        "outputId": "ccbb98b7-5c03-440c-c912-ac2c3f0fb982"
      },
      "outputs": [
        {
          "output_type": "stream",
          "name": "stdout",
          "text": [
            "Model: \"sequential\"\n",
            "_________________________________________________________________\n",
            " Layer (type)                Output Shape              Param #   \n",
            "=================================================================\n",
            " dense (Dense)               (None, 64)                1792      \n",
            "                                                                 \n",
            " dense_1 (Dense)             (None, 32)                2080      \n",
            "                                                                 \n",
            " dense_2 (Dense)             (None, 32)                1056      \n",
            "                                                                 \n",
            " dense_3 (Dense)             (None, 1)                 33        \n",
            "                                                                 \n",
            "=================================================================\n",
            "Total params: 4961 (19.38 KB)\n",
            "Trainable params: 4961 (19.38 KB)\n",
            "Non-trainable params: 0 (0.00 Byte)\n",
            "_________________________________________________________________\n"
          ]
        }
      ],
      "source": [
        "# Model summary\n",
        "model.summary()"
      ]
    },
    {
      "cell_type": "markdown",
      "id": "5eefb4cd",
      "metadata": {
        "id": "5eefb4cd"
      },
      "source": [
        "**Observations**\n",
        "- The summary of the model shows each layer's name, type, output shape, and the number of parameters at that particular layer.\n",
        "- It also shows the total number of trainable and non-trainable parameters in the model. A parameter whose value is learned while training the model is called a trainable parameter otherwise it is called a non-trainable parameter.\n",
        "- In the first layer total parameters are calculated by the number of neurons in the hidden layer multiplied by the number of variables fed to neural networks plus bias. (27*64)+64 = 1792\n",
        "- In the next layer the parameters are calculated by the number of outputs from the previous layer multiplied by the number of neurons in the second layer plus bias. (64*32)+32 =2080\n",
        "- You can calculate for the third layer and final layer."
      ]
    },
    {
      "cell_type": "code",
      "execution_count": 52,
      "id": "4895b8c9",
      "metadata": {
        "id": "4895b8c9",
        "colab": {
          "base_uri": "https://localhost:8080/"
        },
        "outputId": "523aef53-4a5e-4516-db95-66ea92dfee5b"
      },
      "outputs": [
        {
          "output_type": "stream",
          "name": "stdout",
          "text": [
            "Epoch 1/50\n",
            "211/211 [==============================] - 2s 6ms/step - loss: 0.6844 - mae: 0.5819 - val_loss: 0.5018 - val_mae: 0.5291\n",
            "Epoch 2/50\n",
            "211/211 [==============================] - 1s 4ms/step - loss: 0.5188 - mae: 0.4858 - val_loss: 0.4085 - val_mae: 0.4423\n",
            "Epoch 3/50\n",
            "211/211 [==============================] - 1s 3ms/step - loss: 0.4699 - mae: 0.4597 - val_loss: 0.4283 - val_mae: 0.4929\n",
            "Epoch 4/50\n",
            "211/211 [==============================] - 1s 2ms/step - loss: 0.4389 - mae: 0.4470 - val_loss: 0.3655 - val_mae: 0.4300\n",
            "Epoch 5/50\n",
            "211/211 [==============================] - 1s 3ms/step - loss: 0.4121 - mae: 0.4321 - val_loss: 0.3461 - val_mae: 0.4146\n",
            "Epoch 6/50\n",
            "211/211 [==============================] - 1s 3ms/step - loss: 0.3847 - mae: 0.4230 - val_loss: 0.3378 - val_mae: 0.3996\n",
            "Epoch 7/50\n",
            "211/211 [==============================] - 1s 2ms/step - loss: 0.3660 - mae: 0.4132 - val_loss: 0.3216 - val_mae: 0.4064\n",
            "Epoch 8/50\n",
            "211/211 [==============================] - 1s 3ms/step - loss: 0.3472 - mae: 0.4035 - val_loss: 0.3173 - val_mae: 0.3951\n",
            "Epoch 9/50\n",
            "211/211 [==============================] - 1s 3ms/step - loss: 0.3320 - mae: 0.3977 - val_loss: 0.3051 - val_mae: 0.3984\n",
            "Epoch 10/50\n",
            "211/211 [==============================] - 1s 3ms/step - loss: 0.3201 - mae: 0.3938 - val_loss: 0.3238 - val_mae: 0.4163\n",
            "Epoch 11/50\n",
            "211/211 [==============================] - 1s 3ms/step - loss: 0.3073 - mae: 0.3837 - val_loss: 0.3673 - val_mae: 0.4726\n",
            "Epoch 12/50\n",
            "211/211 [==============================] - 1s 2ms/step - loss: 0.2941 - mae: 0.3785 - val_loss: 0.2662 - val_mae: 0.3650\n",
            "Epoch 13/50\n",
            "211/211 [==============================] - 1s 3ms/step - loss: 0.2873 - mae: 0.3747 - val_loss: 0.2695 - val_mae: 0.3699\n",
            "Epoch 14/50\n",
            "211/211 [==============================] - 1s 3ms/step - loss: 0.2807 - mae: 0.3701 - val_loss: 0.2785 - val_mae: 0.3856\n",
            "Epoch 15/50\n",
            "211/211 [==============================] - 1s 2ms/step - loss: 0.2709 - mae: 0.3678 - val_loss: 0.2901 - val_mae: 0.3899\n",
            "Epoch 16/50\n",
            "211/211 [==============================] - 1s 3ms/step - loss: 0.2630 - mae: 0.3636 - val_loss: 0.3015 - val_mae: 0.4086\n",
            "Epoch 17/50\n",
            "211/211 [==============================] - 1s 2ms/step - loss: 0.2570 - mae: 0.3617 - val_loss: 0.2904 - val_mae: 0.3841\n",
            "Epoch 18/50\n",
            "211/211 [==============================] - 1s 2ms/step - loss: 0.2523 - mae: 0.3587 - val_loss: 0.2745 - val_mae: 0.3972\n",
            "Epoch 19/50\n",
            "211/211 [==============================] - 1s 3ms/step - loss: 0.2438 - mae: 0.3568 - val_loss: 0.2974 - val_mae: 0.4134\n",
            "Epoch 20/50\n",
            "211/211 [==============================] - 1s 3ms/step - loss: 0.2405 - mae: 0.3498 - val_loss: 0.4213 - val_mae: 0.5056\n",
            "Epoch 21/50\n",
            "211/211 [==============================] - 1s 4ms/step - loss: 0.2372 - mae: 0.3501 - val_loss: 0.3483 - val_mae: 0.4315\n",
            "Epoch 22/50\n",
            "211/211 [==============================] - 1s 4ms/step - loss: 0.2295 - mae: 0.3424 - val_loss: 0.2617 - val_mae: 0.3643\n",
            "Epoch 23/50\n",
            "211/211 [==============================] - 1s 4ms/step - loss: 0.2267 - mae: 0.3427 - val_loss: 0.2470 - val_mae: 0.3561\n",
            "Epoch 24/50\n",
            "211/211 [==============================] - 1s 4ms/step - loss: 0.2231 - mae: 0.3398 - val_loss: 0.2796 - val_mae: 0.3702\n",
            "Epoch 25/50\n",
            "211/211 [==============================] - 1s 4ms/step - loss: 0.2178 - mae: 0.3366 - val_loss: 0.2855 - val_mae: 0.3938\n",
            "Epoch 26/50\n",
            "211/211 [==============================] - 1s 4ms/step - loss: 0.2155 - mae: 0.3360 - val_loss: 0.2734 - val_mae: 0.3686\n",
            "Epoch 27/50\n",
            "211/211 [==============================] - 1s 3ms/step - loss: 0.2136 - mae: 0.3335 - val_loss: 0.2471 - val_mae: 0.3560\n",
            "Epoch 28/50\n",
            "211/211 [==============================] - 1s 2ms/step - loss: 0.2091 - mae: 0.3301 - val_loss: 0.2715 - val_mae: 0.3663\n",
            "Epoch 29/50\n",
            "211/211 [==============================] - 1s 2ms/step - loss: 0.2080 - mae: 0.3291 - val_loss: 0.2479 - val_mae: 0.3653\n",
            "Epoch 30/50\n",
            "211/211 [==============================] - 1s 2ms/step - loss: 0.2070 - mae: 0.3301 - val_loss: 0.2515 - val_mae: 0.3651\n",
            "Epoch 31/50\n",
            "211/211 [==============================] - 1s 3ms/step - loss: 0.2040 - mae: 0.3283 - val_loss: 0.2738 - val_mae: 0.3691\n",
            "Epoch 32/50\n",
            "211/211 [==============================] - 1s 2ms/step - loss: 0.2011 - mae: 0.3256 - val_loss: 0.2826 - val_mae: 0.3796\n",
            "Epoch 33/50\n",
            "211/211 [==============================] - 1s 2ms/step - loss: 0.1990 - mae: 0.3224 - val_loss: 0.3011 - val_mae: 0.3970\n",
            "Epoch 34/50\n",
            "211/211 [==============================] - 1s 3ms/step - loss: 0.1964 - mae: 0.3222 - val_loss: 0.2823 - val_mae: 0.3947\n",
            "Epoch 35/50\n",
            "211/211 [==============================] - 1s 2ms/step - loss: 0.1937 - mae: 0.3197 - val_loss: 0.2990 - val_mae: 0.4113\n",
            "Epoch 36/50\n",
            "211/211 [==============================] - 1s 3ms/step - loss: 0.1934 - mae: 0.3213 - val_loss: 0.2423 - val_mae: 0.3478\n",
            "Epoch 37/50\n",
            "211/211 [==============================] - 1s 2ms/step - loss: 0.1896 - mae: 0.3174 - val_loss: 0.2664 - val_mae: 0.3749\n",
            "Epoch 38/50\n",
            "211/211 [==============================] - 1s 3ms/step - loss: 0.1893 - mae: 0.3160 - val_loss: 0.2635 - val_mae: 0.3628\n",
            "Epoch 39/50\n",
            "211/211 [==============================] - 1s 2ms/step - loss: 0.1851 - mae: 0.3136 - val_loss: 0.2793 - val_mae: 0.3892\n",
            "Epoch 40/50\n",
            "211/211 [==============================] - 1s 3ms/step - loss: 0.1864 - mae: 0.3137 - val_loss: 0.2426 - val_mae: 0.3473\n",
            "Epoch 41/50\n",
            "211/211 [==============================] - 1s 3ms/step - loss: 0.1867 - mae: 0.3120 - val_loss: 0.2746 - val_mae: 0.3709\n",
            "Epoch 42/50\n",
            "211/211 [==============================] - 1s 3ms/step - loss: 0.1826 - mae: 0.3108 - val_loss: 0.2641 - val_mae: 0.3668\n",
            "Epoch 43/50\n",
            "211/211 [==============================] - 1s 3ms/step - loss: 0.1805 - mae: 0.3108 - val_loss: 0.2489 - val_mae: 0.3614\n",
            "Epoch 44/50\n",
            "211/211 [==============================] - 1s 2ms/step - loss: 0.1816 - mae: 0.3106 - val_loss: 0.2919 - val_mae: 0.3938\n",
            "Epoch 45/50\n",
            "211/211 [==============================] - 1s 3ms/step - loss: 0.1798 - mae: 0.3082 - val_loss: 0.2482 - val_mae: 0.3520\n",
            "Epoch 46/50\n",
            "211/211 [==============================] - 1s 5ms/step - loss: 0.1788 - mae: 0.3077 - val_loss: 0.2705 - val_mae: 0.3655\n",
            "Epoch 47/50\n",
            "211/211 [==============================] - 1s 4ms/step - loss: 0.1781 - mae: 0.3063 - val_loss: 0.2833 - val_mae: 0.3840\n",
            "Epoch 48/50\n",
            "211/211 [==============================] - 1s 4ms/step - loss: 0.1743 - mae: 0.3026 - val_loss: 0.2485 - val_mae: 0.3568\n",
            "Epoch 49/50\n",
            "211/211 [==============================] - 1s 4ms/step - loss: 0.1730 - mae: 0.3025 - val_loss: 0.2397 - val_mae: 0.3495\n",
            "Epoch 50/50\n",
            "211/211 [==============================] - 1s 4ms/step - loss: 0.1706 - mae: 0.3038 - val_loss: 0.2492 - val_mae: 0.3528\n"
          ]
        }
      ],
      "source": [
        "# Initializing the Optimizer\n",
        "optimizer = RMSprop( learning_rate=0.001)\n",
        "# Compiling the model with 'mse' as loss function and metrics\n",
        "model.compile(loss='mse',\n",
        "              optimizer=optimizer,\n",
        "              metrics=['mae'])\n",
        "# Fitting the model on train and validation with 50 epochs\n",
        "history = model.fit(X_train, y_train, validation_data=(X_val, y_val_scale), epochs=50)"
      ]
    },
    {
      "cell_type": "code",
      "execution_count": 53,
      "id": "2e792ab2",
      "metadata": {
        "id": "2e792ab2",
        "colab": {
          "base_uri": "https://localhost:8080/",
          "height": 452
        },
        "outputId": "b88a897d-b31c-4ce8-cfc1-eca2024603ad"
      },
      "outputs": [
        {
          "output_type": "display_data",
          "data": {
            "text/plain": [
              "<Figure size 640x480 with 1 Axes>"
            ],
            "image/png": "[encoded data removed]"
          },
          "metadata": {}
        }
      ],
      "source": [
        "pyplot.title('Loss / Mean Squared Error')\n",
        "pyplot.plot(history.history['loss'], label='train')\n",
        "pyplot.plot(history.history['val_loss'], label='validate')\n",
        "pyplot.legend()\n",
        "pyplot.show()"
      ]
    },
    {
      "cell_type": "markdown",
      "id": "nyFqKnjAwW0E",
      "metadata": {
        "id": "nyFqKnjAwW0E"
      },
      "source": [
        "Here the model seems to be overfitted, as the distance between the train curve and validation curve started increasing.\n",
        "\n"
      ]
    },
    {
      "cell_type": "code",
      "execution_count": 54,
      "id": "cbf63bfb",
      "metadata": {
        "id": "cbf63bfb",
        "colab": {
          "base_uri": "https://localhost:8080/"
        },
        "outputId": "c819372b-f35e-46ae-8dd2-31784ac9090f"
      },
      "outputs": [
        {
          "output_type": "stream",
          "name": "stdout",
          "text": [
            "91/91 [==============================] - 0s 1ms/step\n",
            "[[ 6041.413 ]\n",
            " [13280.266 ]\n",
            " [ 7005.9673]\n",
            " ...\n",
            " [ 4552.457 ]\n",
            " [ 6950.635 ]\n",
            " [ 8768.823 ]]\n"
          ]
        }
      ],
      "source": [
        "#Lets predict on validation data\n",
        "Y_result_scaled= model.predict(X_val)\n",
        "##As we have scaled the target variable, now after predicting we should inverse the scale and convert it to normal form\n",
        "Y_result = sc.inverse_transform(Y_result_scaled)\n",
        "print(Y_result)"
      ]
    },
    {
      "cell_type": "code",
      "execution_count": 55,
      "id": "OFsRj4aYsoD8",
      "metadata": {
        "id": "OFsRj4aYsoD8"
      },
      "outputs": [],
      "source": [
        "def adj_r2_score(predictors, targets, predictions):\n",
        "    r2 = r2_score(targets, predictions)\n",
        "    n = predictors.shape[0]\n",
        "    k = predictors.shape[1]\n",
        "    return 1 - ((1 - r2) * (n - 1) / (n - k - 1))\n",
        "def model_performance_regression(predictors,target,pred):\n",
        "  r2 = r2_score(target, pred)  # to compute R-squared\n",
        "  adjr2 = adj_r2_score(predictors, target, pred)  # to compute adjusted R-squared\n",
        "  rmse = np.sqrt(mean_squared_error(target, pred))  # to compute RMSE\n",
        "  mae = mean_absolute_error(target, pred)  # to compute MAE\n",
        "\n",
        "  df_perf = pd.DataFrame(\n",
        "        {\n",
        "            \"RMSE\": rmse,\n",
        "            \"MAE\": mae,\n",
        "            \"R-squared\": r2,\n",
        "            \"Adj. R-squared\": adjr2,\n",
        "        },\n",
        "        index=[0],\n",
        "    )\n",
        "\n",
        "  return df_perf"
      ]
    },
    {
      "cell_type": "code",
      "source": [
        "# Checking model performance on train set\n",
        "print(\"Validation Performance\\n\")\n",
        "model_train_perf = model_performance_regression(X_val,y_val, Y_result)\n",
        "model_train_perf"
      ],
      "metadata": {
        "colab": {
          "base_uri": "https://localhost:8080/",
          "height": 115
        },
        "id": "rD60wCz6QRYf",
        "outputId": "ff09e9c7-23bc-4651-de81-060f8c5aa1d6"
      },
      "id": "rD60wCz6QRYf",
      "execution_count": 56,
      "outputs": [
        {
          "output_type": "stream",
          "name": "stdout",
          "text": [
            "Validation Performance\n",
            "\n"
          ]
        },
        {
          "output_type": "execute_result",
          "data": {
            "text/plain": [
              "         RMSE          MAE  R-squared  Adj. R-squared\n",
              "0  2294.09281  1621.270467   0.742704        0.740272"
            ],
            "text/html": [
              "\n",
              "  <div id=\"df-10023b6d-e304-4ca9-ba45-495ba288a812\" class=\"colab-df-container\">\n",
              "    <div>\n",
              "<style scoped>\n",
              "    .dataframe tbody tr th:only-of-type {\n",
              "        vertical-align: middle;\n",
              "    }\n",
              "\n",
              "    .dataframe tbody tr th {\n",
              "        vertical-align: top;\n",
              "    }\n",
              "\n",
              "    .dataframe thead th {\n",
              "        text-align: right;\n",
              "    }\n",
              "</style>\n",
              "<table border=\"1\" class=\"dataframe\">\n",
              "  <thead>\n",
              "    <tr style=\"text-align: right;\">\n",
              "      <th></th>\n",
              "      <th>RMSE</th>\n",
              "      <th>MAE</th>\n",
              "      <th>R-squared</th>\n",
              "      <th>Adj. R-squared</th>\n",
              "    </tr>\n",
              "  </thead>\n",
              "  <tbody>\n",
              "    <tr>\n",
              "      <th>0</th>\n",
              "      <td>2294.09281</td>\n",
              "      <td>1621.270467</td>\n",
              "      <td>0.742704</td>\n",
              "      <td>0.740272</td>\n",
              "    </tr>\n",
              "  </tbody>\n",
              "</table>\n",
              "</div>\n",
              "    <div class=\"colab-df-buttons\">\n",
              "\n",
              "  <div class=\"colab-df-container\">\n",
              "    <button class=\"colab-df-convert\" onclick=\"convertToInteractive('df-10023b6d-e304-4ca9-ba45-495ba288a812')\"\n",
              "            title=\"Convert this dataframe to an interactive table.\"\n",
              "            style=\"display:none;\">\n",
              "\n",
              "  <svg xmlns=\"http://www.w3.org/2000/svg\" height=\"24px\" viewBox=\"0 -960 960 960\">\n",
              "    <path d=\"M120-120v-720h720v720H120Zm60-500h600v-160H180v160Zm220 220h160v-160H400v160Zm0 220h160v-160H400v160ZM180-400h160v-160H180v160Zm440 0h160v-160H620v160ZM180-180h160v-160H180v160Zm440 0h160v-160H620v160Z\"/>\n",
              "  </svg>\n",
              "    </button>\n",
              "\n",
              "  <style>\n",
              "    .colab-df-container {\n",
              "      display:flex;\n",
              "      gap: 12px;\n",
              "    }\n",
              "\n",
              "    .colab-df-convert {\n",
              "      background-color: #E8F0FE;\n",
              "      border: none;\n",
              "      border-radius: 50%;\n",
              "      cursor: pointer;\n",
              "      display: none;\n",
              "      fill: #1967D2;\n",
              "      height: 32px;\n",
              "      padding: 0 0 0 0;\n",
              "      width: 32px;\n",
              "    }\n",
              "\n",
              "    .colab-df-convert:hover {\n",
              "      background-color: #E2EBFA;\n",
              "      box-shadow: 0px 1px 2px rgba(60, 64, 67, 0.3), 0px 1px 3px 1px rgba(60, 64, 67, 0.15);\n",
              "      fill: #174EA6;\n",
              "    }\n",
              "\n",
              "    .colab-df-buttons div {\n",
              "      margin-bottom: 4px;\n",
              "    }\n",
              "\n",
              "    [theme=dark] .colab-df-convert {\n",
              "      background-color: #3B4455;\n",
              "      fill: #D2E3FC;\n",
              "    }\n",
              "\n",
              "    [theme=dark] .colab-df-convert:hover {\n",
              "      background-color: #434B5C;\n",
              "      box-shadow: 0px 1px 3px 1px rgba(0, 0, 0, 0.15);\n",
              "      filter: drop-shadow(0px 1px 2px rgba(0, 0, 0, 0.3));\n",
              "      fill: #FFFFFF;\n",
              "    }\n",
              "  </style>\n",
              "\n",
              "    <script>\n",
              "      const buttonEl =\n",
              "        document.querySelector('#df-10023b6d-e304-4ca9-ba45-495ba288a812 button.colab-df-convert');\n",
              "      buttonEl.style.display =\n",
              "        google.colab.kernel.accessAllowed ? 'block' : 'none';\n",
              "\n",
              "      async function convertToInteractive(key) {\n",
              "        const element = document.querySelector('#df-10023b6d-e304-4ca9-ba45-495ba288a812');\n",
              "        const dataTable =\n",
              "          await google.colab.kernel.invokeFunction('convertToInteractive',\n",
              "                                                    [key], {});\n",
              "        if (!dataTable) return;\n",
              "\n",
              "        const docLinkHtml = 'Like what you see? Visit the ' +\n",
              "          '<a target=\"_blank\" href=https://colab.research.google.com/notebooks/data_table.ipynb>data table notebook</a>'\n",
              "          + ' to learn more about interactive tables.';\n",
              "        element.innerHTML = '';\n",
              "        dataTable['output_type'] = 'display_data';\n",
              "        await google.colab.output.renderOutput(dataTable, element);\n",
              "        const docLink = document.createElement('div');\n",
              "        docLink.innerHTML = docLinkHtml;\n",
              "        element.appendChild(docLink);\n",
              "      }\n",
              "    </script>\n",
              "  </div>\n",
              "\n",
              "    </div>\n",
              "  </div>\n"
            ]
          },
          "metadata": {},
          "execution_count": 56
        }
      ]
    },
    {
      "cell_type": "markdown",
      "id": "wx5hTSxezDsh",
      "metadata": {
        "id": "wx5hTSxezDsh"
      },
      "source": [
        "* Now, let's try using Early stopping and see if we can overcome the overfitting problem, we can also change the optimizer and use Adam.  "
      ]
    },
    {
      "cell_type": "markdown",
      "id": "d5f3249f",
      "metadata": {
        "id": "d5f3249f"
      },
      "source": [
        "#### Model-2"
      ]
    },
    {
      "cell_type": "markdown",
      "id": "XsyVmc87nk6u",
      "metadata": {
        "id": "XsyVmc87nk6u"
      },
      "source": [
        "**Early stopping:**\n",
        "\n",
        "During training, the model is evaluated on a holdout validation dataset after each epoch. If the performance of the model on the validation dataset starts to degrade or no improvement (e.g. loss begins to increase or accuracy begins to decrease), then the training process is stopped after the certian interations.The model at the time that training is stopped is then used and is known to have good generalization performance.\n",
        "\n",
        "This procedure is called “early stopping” and is perhaps one of the oldest and most widely used forms of neural network regularization."
      ]
    },
    {
      "cell_type": "code",
      "execution_count": 57,
      "id": "dzbMj-slnixu",
      "metadata": {
        "id": "dzbMj-slnixu"
      },
      "outputs": [],
      "source": [
        "backend.clear_session()\n",
        "#Fixing the seed for random number generators so that we can ensure we receive the same output everytime\n",
        "np.random.seed(42)\n",
        "import random\n",
        "random.seed(42)\n",
        "tf.random.set_seed(42)"
      ]
    },
    {
      "cell_type": "code",
      "execution_count": 58,
      "id": "bzVWP9u3nitT",
      "metadata": {
        "id": "bzVWP9u3nitT"
      },
      "outputs": [],
      "source": [
        "# Initializing the model\n",
        "model_2 = Sequential()\n",
        "# Adding input layer with 64 neurons, relu as activation function and, he_uniform as weight initializer.\n",
        "model_2.add(Dense(64, activation='relu',kernel_initializer='he_uniform', input_shape=(27,)))\n",
        "# Adding the first hidden layer with 32 neurons, relu as activation function and, he_uniform as weight initializer\n",
        "model_2.add(Dense(32, activation='relu',kernel_initializer='he_uniform'))\n",
        "# Adding the second hidden layer with 32 neurons, relu as activation function and, he_uniform as weight initializer\n",
        "model_2.add(Dense(32, activation='relu',kernel_initializer='he_uniform'))\n",
        "# Adding the output layer with one neuron and linear as activation\n",
        "model_2.add(Dense(1, activation='linear'))"
      ]
    },
    {
      "cell_type": "code",
      "execution_count": 59,
      "id": "wtwmWQaCnipe",
      "metadata": {
        "id": "wtwmWQaCnipe",
        "colab": {
          "base_uri": "https://localhost:8080/"
        },
        "outputId": "607a0a57-3ea0-4243-f28d-eb86dba26259"
      },
      "outputs": [
        {
          "output_type": "stream",
          "name": "stdout",
          "text": [
            "Model: \"sequential\"\n",
            "_________________________________________________________________\n",
            " Layer (type)                Output Shape              Param #   \n",
            "=================================================================\n",
            " dense (Dense)               (None, 64)                1792      \n",
            "                                                                 \n",
            " dense_1 (Dense)             (None, 32)                2080      \n",
            "                                                                 \n",
            " dense_2 (Dense)             (None, 32)                1056      \n",
            "                                                                 \n",
            " dense_3 (Dense)             (None, 1)                 33        \n",
            "                                                                 \n",
            "=================================================================\n",
            "Total params: 4961 (19.38 KB)\n",
            "Trainable params: 4961 (19.38 KB)\n",
            "Non-trainable params: 0 (0.00 Byte)\n",
            "_________________________________________________________________\n"
          ]
        }
      ],
      "source": [
        "# Model summary\n",
        "model_2.summary()"
      ]
    },
    {
      "cell_type": "code",
      "execution_count": 60,
      "id": "2LbdJFMfnimy",
      "metadata": {
        "id": "2LbdJFMfnimy",
        "colab": {
          "base_uri": "https://localhost:8080/"
        },
        "outputId": "361bc9ea-0c39-4390-c75a-ee5f3d0eb47d"
      },
      "outputs": [
        {
          "output_type": "stream",
          "name": "stdout",
          "text": [
            "Epoch 1/50\n",
            "211/211 [==============================] - 2s 5ms/step - loss: 0.6818 - mae: 0.5712 - val_loss: 0.4731 - val_mae: 0.5019\n",
            "Epoch 2/50\n",
            "211/211 [==============================] - 1s 4ms/step - loss: 0.4757 - mae: 0.4595 - val_loss: 0.4389 - val_mae: 0.4939\n",
            "Epoch 3/50\n",
            "211/211 [==============================] - 1s 5ms/step - loss: 0.4153 - mae: 0.4291 - val_loss: 0.4093 - val_mae: 0.4490\n",
            "Epoch 4/50\n",
            "211/211 [==============================] - 1s 4ms/step - loss: 0.3905 - mae: 0.4261 - val_loss: 0.3581 - val_mae: 0.4456\n",
            "Epoch 5/50\n",
            "211/211 [==============================] - 1s 4ms/step - loss: 0.3426 - mae: 0.4011 - val_loss: 0.3133 - val_mae: 0.4043\n",
            "Epoch 6/50\n",
            "211/211 [==============================] - 1s 4ms/step - loss: 0.3194 - mae: 0.3948 - val_loss: 0.2926 - val_mae: 0.3901\n",
            "Epoch 7/50\n",
            "211/211 [==============================] - 1s 3ms/step - loss: 0.2944 - mae: 0.3823 - val_loss: 0.2844 - val_mae: 0.3837\n",
            "Epoch 8/50\n",
            "211/211 [==============================] - 1s 3ms/step - loss: 0.2815 - mae: 0.3800 - val_loss: 0.2855 - val_mae: 0.3940\n",
            "Epoch 9/50\n",
            "211/211 [==============================] - 1s 3ms/step - loss: 0.2689 - mae: 0.3734 - val_loss: 0.2771 - val_mae: 0.3890\n",
            "Epoch 10/50\n",
            "211/211 [==============================] - 1s 3ms/step - loss: 0.2619 - mae: 0.3719 - val_loss: 0.2840 - val_mae: 0.3920\n",
            "Epoch 11/50\n",
            "211/211 [==============================] - 1s 3ms/step - loss: 0.2556 - mae: 0.3702 - val_loss: 0.2725 - val_mae: 0.3721\n",
            "Epoch 12/50\n",
            "211/211 [==============================] - 1s 3ms/step - loss: 0.2452 - mae: 0.3621 - val_loss: 0.2702 - val_mae: 0.3869\n",
            "Epoch 13/50\n",
            "211/211 [==============================] - 1s 3ms/step - loss: 0.2373 - mae: 0.3535 - val_loss: 0.2643 - val_mae: 0.3692\n",
            "Epoch 14/50\n",
            "211/211 [==============================] - 1s 3ms/step - loss: 0.2354 - mae: 0.3526 - val_loss: 0.2545 - val_mae: 0.3606\n",
            "Epoch 15/50\n",
            "211/211 [==============================] - 1s 2ms/step - loss: 0.2257 - mae: 0.3486 - val_loss: 0.2620 - val_mae: 0.3745\n",
            "Epoch 16/50\n",
            "211/211 [==============================] - 1s 3ms/step - loss: 0.2287 - mae: 0.3502 - val_loss: 0.2593 - val_mae: 0.3730\n",
            "Epoch 17/50\n",
            "211/211 [==============================] - 1s 3ms/step - loss: 0.2289 - mae: 0.3504 - val_loss: 0.2681 - val_mae: 0.3725\n",
            "Epoch 18/50\n",
            "211/211 [==============================] - 1s 3ms/step - loss: 0.2221 - mae: 0.3444 - val_loss: 0.2699 - val_mae: 0.3924\n",
            "Epoch 19/50\n",
            "211/211 [==============================] - 1s 3ms/step - loss: 0.2195 - mae: 0.3407 - val_loss: 0.2532 - val_mae: 0.3599\n",
            "Epoch 20/50\n",
            "211/211 [==============================] - 1s 2ms/step - loss: 0.2249 - mae: 0.3476 - val_loss: 0.2644 - val_mae: 0.3854\n",
            "Epoch 21/50\n",
            "211/211 [==============================] - 1s 3ms/step - loss: 0.2149 - mae: 0.3383 - val_loss: 0.3630 - val_mae: 0.4473\n",
            "Epoch 22/50\n",
            "211/211 [==============================] - 1s 3ms/step - loss: 0.2171 - mae: 0.3407 - val_loss: 0.2690 - val_mae: 0.3876\n",
            "Epoch 23/50\n",
            "211/211 [==============================] - 1s 3ms/step - loss: 0.2093 - mae: 0.3341 - val_loss: 0.2637 - val_mae: 0.3615\n",
            "Epoch 24/50\n",
            "211/211 [==============================] - 1s 3ms/step - loss: 0.2065 - mae: 0.3310 - val_loss: 0.2754 - val_mae: 0.3827\n"
          ]
        }
      ],
      "source": [
        "# Initializing the Optimizer\n",
        "optimizer = Adam( learning_rate=0.001)\n",
        "# Compiling the model with 'mse' as loss function and metrics\n",
        "model_2.compile(loss='mse',\n",
        "              optimizer=optimizer,\n",
        "              metrics=['mae'])\n",
        "# Defining Early stopping\n",
        "es_cb = callbacks.EarlyStopping(monitor='val_loss', min_delta=0.001, patience=5)\n",
        "# Fitting the model on train and validation with 50 epochs\n",
        "history_2 = model_2.fit(X_train, y_train, validation_data=(X_val, y_val_scale), epochs=50,callbacks=es_cb)"
      ]
    },
    {
      "cell_type": "code",
      "execution_count": 61,
      "id": "6T7vPtGcniju",
      "metadata": {
        "id": "6T7vPtGcniju",
        "colab": {
          "base_uri": "https://localhost:8080/",
          "height": 452
        },
        "outputId": "bec167e0-780d-48be-c997-0fd99376c0d1"
      },
      "outputs": [
        {
          "output_type": "display_data",
          "data": {
            "text/plain": [
              "<Figure size 640x480 with 1 Axes>"
            ],
            "image/png": "[encoded data removed]"
          },
          "metadata": {}
        }
      ],
      "source": [
        "pyplot.title('Loss / Mean Squared Error')\n",
        "pyplot.plot(history_2.history['loss'], label='train')\n",
        "pyplot.plot(history_2.history['val_loss'], label='validate')\n",
        "pyplot.legend()\n",
        "pyplot.show()"
      ]
    },
    {
      "cell_type": "markdown",
      "id": "mMGJJPK40KK0",
      "metadata": {
        "id": "mMGJJPK40KK0"
      },
      "source": [
        "* The train and validation curves are smooth after using Adam, although they appear to be slightly overfitted."
      ]
    },
    {
      "cell_type": "code",
      "execution_count": 62,
      "id": "fMjT0UZDnigk",
      "metadata": {
        "id": "fMjT0UZDnigk",
        "colab": {
          "base_uri": "https://localhost:8080/"
        },
        "outputId": "2634b963-d803-4663-e359-3fc0b81e3b1a"
      },
      "outputs": [
        {
          "output_type": "stream",
          "name": "stdout",
          "text": [
            "91/91 [==============================] - 0s 1ms/step\n",
            "[[ 7291.0312]\n",
            " [14379.794 ]\n",
            " [ 7245.5996]\n",
            " ...\n",
            " [ 4836.409 ]\n",
            " [ 6660.4937]\n",
            " [10716.401 ]]\n"
          ]
        }
      ],
      "source": [
        "#Lets predict on validation data\n",
        "Y_result_scaled_2= model_2.predict(X_val)\n",
        "##As we have scaled the target variable, now after predicting we should inverse the scale and should convert to normal form\n",
        "Y_result2 = sc.inverse_transform(Y_result_scaled_2)\n",
        "print(Y_result2)"
      ]
    },
    {
      "cell_type": "code",
      "execution_count": 63,
      "id": "0a32OYY2gXDM",
      "metadata": {
        "id": "0a32OYY2gXDM",
        "colab": {
          "base_uri": "https://localhost:8080/",
          "height": 115
        },
        "outputId": "a7ca1d63-5388-4865-870e-09bcf5b75d7c"
      },
      "outputs": [
        {
          "output_type": "stream",
          "name": "stdout",
          "text": [
            "Validation Performance\n",
            "\n"
          ]
        },
        {
          "output_type": "execute_result",
          "data": {
            "text/plain": [
              "          RMSE          MAE  R-squared  Adj. R-squared\n",
              "0  2411.607222  1758.546735   0.715669        0.712981"
            ],
            "text/html": [
              "\n",
              "  <div id=\"df-915071f3-e2b2-4855-bb9e-2e4bfa9d13b0\" class=\"colab-df-container\">\n",
              "    <div>\n",
              "<style scoped>\n",
              "    .dataframe tbody tr th:only-of-type {\n",
              "        vertical-align: middle;\n",
              "    }\n",
              "\n",
              "    .dataframe tbody tr th {\n",
              "        vertical-align: top;\n",
              "    }\n",
              "\n",
              "    .dataframe thead th {\n",
              "        text-align: right;\n",
              "    }\n",
              "</style>\n",
              "<table border=\"1\" class=\"dataframe\">\n",
              "  <thead>\n",
              "    <tr style=\"text-align: right;\">\n",
              "      <th></th>\n",
              "      <th>RMSE</th>\n",
              "      <th>MAE</th>\n",
              "      <th>R-squared</th>\n",
              "      <th>Adj. R-squared</th>\n",
              "    </tr>\n",
              "  </thead>\n",
              "  <tbody>\n",
              "    <tr>\n",
              "      <th>0</th>\n",
              "      <td>2411.607222</td>\n",
              "      <td>1758.546735</td>\n",
              "      <td>0.715669</td>\n",
              "      <td>0.712981</td>\n",
              "    </tr>\n",
              "  </tbody>\n",
              "</table>\n",
              "</div>\n",
              "    <div class=\"colab-df-buttons\">\n",
              "\n",
              "  <div class=\"colab-df-container\">\n",
              "    <button class=\"colab-df-convert\" onclick=\"convertToInteractive('df-915071f3-e2b2-4855-bb9e-2e4bfa9d13b0')\"\n",
              "            title=\"Convert this dataframe to an interactive table.\"\n",
              "            style=\"display:none;\">\n",
              "\n",
              "  <svg xmlns=\"http://www.w3.org/2000/svg\" height=\"24px\" viewBox=\"0 -960 960 960\">\n",
              "    <path d=\"M120-120v-720h720v720H120Zm60-500h600v-160H180v160Zm220 220h160v-160H400v160Zm0 220h160v-160H400v160ZM180-400h160v-160H180v160Zm440 0h160v-160H620v160ZM180-180h160v-160H180v160Zm440 0h160v-160H620v160Z\"/>\n",
              "  </svg>\n",
              "    </button>\n",
              "\n",
              "  <style>\n",
              "    .colab-df-container {\n",
              "      display:flex;\n",
              "      gap: 12px;\n",
              "    }\n",
              "\n",
              "    .colab-df-convert {\n",
              "      background-color: #E8F0FE;\n",
              "      border: none;\n",
              "      border-radius: 50%;\n",
              "      cursor: pointer;\n",
              "      display: none;\n",
              "      fill: #1967D2;\n",
              "      height: 32px;\n",
              "      padding: 0 0 0 0;\n",
              "      width: 32px;\n",
              "    }\n",
              "\n",
              "    .colab-df-convert:hover {\n",
              "      background-color: #E2EBFA;\n",
              "      box-shadow: 0px 1px 2px rgba(60, 64, 67, 0.3), 0px 1px 3px 1px rgba(60, 64, 67, 0.15);\n",
              "      fill: #174EA6;\n",
              "    }\n",
              "\n",
              "    .colab-df-buttons div {\n",
              "      margin-bottom: 4px;\n",
              "    }\n",
              "\n",
              "    [theme=dark] .colab-df-convert {\n",
              "      background-color: #3B4455;\n",
              "      fill: #D2E3FC;\n",
              "    }\n",
              "\n",
              "    [theme=dark] .colab-df-convert:hover {\n",
              "      background-color: #434B5C;\n",
              "      box-shadow: 0px 1px 3px 1px rgba(0, 0, 0, 0.15);\n",
              "      filter: drop-shadow(0px 1px 2px rgba(0, 0, 0, 0.3));\n",
              "      fill: #FFFFFF;\n",
              "    }\n",
              "  </style>\n",
              "\n",
              "    <script>\n",
              "      const buttonEl =\n",
              "        document.querySelector('#df-915071f3-e2b2-4855-bb9e-2e4bfa9d13b0 button.colab-df-convert');\n",
              "      buttonEl.style.display =\n",
              "        google.colab.kernel.accessAllowed ? 'block' : 'none';\n",
              "\n",
              "      async function convertToInteractive(key) {\n",
              "        const element = document.querySelector('#df-915071f3-e2b2-4855-bb9e-2e4bfa9d13b0');\n",
              "        const dataTable =\n",
              "          await google.colab.kernel.invokeFunction('convertToInteractive',\n",
              "                                                    [key], {});\n",
              "        if (!dataTable) return;\n",
              "\n",
              "        const docLinkHtml = 'Like what you see? Visit the ' +\n",
              "          '<a target=\"_blank\" href=https://colab.research.google.com/notebooks/data_table.ipynb>data table notebook</a>'\n",
              "          + ' to learn more about interactive tables.';\n",
              "        element.innerHTML = '';\n",
              "        dataTable['output_type'] = 'display_data';\n",
              "        await google.colab.output.renderOutput(dataTable, element);\n",
              "        const docLink = document.createElement('div');\n",
              "        docLink.innerHTML = docLinkHtml;\n",
              "        element.appendChild(docLink);\n",
              "      }\n",
              "    </script>\n",
              "  </div>\n",
              "\n",
              "    </div>\n",
              "  </div>\n"
            ]
          },
          "metadata": {},
          "execution_count": 63
        }
      ],
      "source": [
        "# Checking model performance on train set\n",
        "print(\"Validation Performance\\n\")\n",
        "model_train_perf = model_performance_regression(X_val,y_val, Y_result2)\n",
        "model_train_perf"
      ]
    },
    {
      "cell_type": "markdown",
      "source": [
        "Changing the optimizer didn't work, and even the Adj R-square has decreased when compared to previous model."
      ],
      "metadata": {
        "id": "Q8NTIWu_Zy-l"
      },
      "id": "Q8NTIWu_Zy-l"
    },
    {
      "cell_type": "markdown",
      "id": "3WNogSq40lx8",
      "metadata": {
        "id": "3WNogSq40lx8"
      },
      "source": [
        "* Let's use two Regularization techniques to reduce the overfitting problem.\n",
        "\n",
        " - Dropout\n",
        " - BatchNormalization"
      ]
    },
    {
      "cell_type": "markdown",
      "id": "Zq6YPr01MdMt",
      "metadata": {
        "id": "Zq6YPr01MdMt"
      },
      "source": [
        "#### Model-3"
      ]
    },
    {
      "cell_type": "markdown",
      "id": "Ymo2x26ln1Jv",
      "metadata": {
        "id": "Ymo2x26ln1Jv"
      },
      "source": [
        "**Dropout**\n",
        "\n",
        "Dropout is a regularization technique for neural network models proposed by Srivastava, et al. in their 2014 paper Dropout: A Simple Way to Prevent Neural Networks from Overfitting. Dropout is a technique where randomly selected neurons are ignored during training. They are “dropped-out” randomly."
      ]
    },
    {
      "cell_type": "code",
      "execution_count": 64,
      "id": "WEuBlUgODqTQ",
      "metadata": {
        "id": "WEuBlUgODqTQ"
      },
      "outputs": [],
      "source": [
        "backend.clear_session()\n",
        "#Fixing the seed for random number generators so that we can ensure we receive the same output everytime\n",
        "np.random.seed(42)\n",
        "import random\n",
        "random.seed(42)\n",
        "tf.random.set_seed(42)"
      ]
    },
    {
      "cell_type": "code",
      "execution_count": 65,
      "id": "zrpaWoRc94kC",
      "metadata": {
        "id": "zrpaWoRc94kC"
      },
      "outputs": [],
      "source": [
        "# Initializing the model\n",
        "model_3 = Sequential()\n",
        "# Adding input layer with 64 neurons, relu as activation function and, he_uniform as weight initializer.\n",
        "model_3.add(Dense(64, activation='relu',kernel_initializer='he_uniform', input_shape=(27,)))\n",
        "# Adding Dropout with 20%\n",
        "model_3.add(Dropout(0.2))\n",
        "# Adding the first hidden layer with 32 neurons, relu as activation function and, he_uniform as weight initializer\n",
        "model_3.add(Dense(32, activation='relu',kernel_initializer='he_uniform'))\n",
        "# Adding Dropout with 10%\n",
        "model_3.add(Dropout(0.2))\n",
        "# Adding the second hidden layer with 32 neurons, relu as activation function and, he_uniform as weight initializer\n",
        "model_3.add(Dense(16, activation='relu',kernel_initializer='he_uniform'))\n",
        "# Adding the output layer with one neuron and linear as activation\n",
        "model_3.add(Dense(1, activation='linear'))"
      ]
    },
    {
      "cell_type": "code",
      "execution_count": 66,
      "id": "354619f5",
      "metadata": {
        "id": "354619f5",
        "colab": {
          "base_uri": "https://localhost:8080/"
        },
        "outputId": "8ff707ab-9f96-48ed-f171-2f4402e93b69"
      },
      "outputs": [
        {
          "output_type": "stream",
          "name": "stdout",
          "text": [
            "Model: \"sequential\"\n",
            "_________________________________________________________________\n",
            " Layer (type)                Output Shape              Param #   \n",
            "=================================================================\n",
            " dense (Dense)               (None, 64)                1792      \n",
            "                                                                 \n",
            " dropout (Dropout)           (None, 64)                0         \n",
            "                                                                 \n",
            " dense_1 (Dense)             (None, 32)                2080      \n",
            "                                                                 \n",
            " dropout_1 (Dropout)         (None, 32)                0         \n",
            "                                                                 \n",
            " dense_2 (Dense)             (None, 16)                528       \n",
            "                                                                 \n",
            " dense_3 (Dense)             (None, 1)                 17        \n",
            "                                                                 \n",
            "=================================================================\n",
            "Total params: 4417 (17.25 KB)\n",
            "Trainable params: 4417 (17.25 KB)\n",
            "Non-trainable params: 0 (0.00 Byte)\n",
            "_________________________________________________________________\n"
          ]
        }
      ],
      "source": [
        "# Model summary\n",
        "model_3.summary()"
      ]
    },
    {
      "cell_type": "code",
      "execution_count": 67,
      "id": "b337d8a4",
      "metadata": {
        "id": "b337d8a4",
        "colab": {
          "base_uri": "https://localhost:8080/"
        },
        "outputId": "52be8131-a216-43ac-bbc0-e83fd6094745"
      },
      "outputs": [
        {
          "output_type": "stream",
          "name": "stdout",
          "text": [
            "Epoch 1/50\n",
            "211/211 [==============================] - 2s 4ms/step - loss: 1.8456 - mae: 0.9880 - val_loss: 0.9055 - val_mae: 0.7607\n",
            "Epoch 2/50\n",
            "211/211 [==============================] - 1s 3ms/step - loss: 0.9994 - mae: 0.7651 - val_loss: 0.8579 - val_mae: 0.7338\n",
            "Epoch 3/50\n",
            "211/211 [==============================] - 1s 3ms/step - loss: 0.8575 - mae: 0.6951 - val_loss: 0.6530 - val_mae: 0.6123\n",
            "Epoch 4/50\n",
            "211/211 [==============================] - 1s 3ms/step - loss: 0.7092 - mae: 0.6135 - val_loss: 0.5500 - val_mae: 0.5614\n",
            "Epoch 5/50\n",
            "211/211 [==============================] - 1s 3ms/step - loss: 0.6123 - mae: 0.5552 - val_loss: 0.4701 - val_mae: 0.4964\n",
            "Epoch 6/50\n",
            "211/211 [==============================] - 1s 3ms/step - loss: 0.5445 - mae: 0.5143 - val_loss: 0.4175 - val_mae: 0.4637\n",
            "Epoch 7/50\n",
            "211/211 [==============================] - 1s 3ms/step - loss: 0.5088 - mae: 0.4968 - val_loss: 0.3985 - val_mae: 0.4457\n",
            "Epoch 8/50\n",
            "211/211 [==============================] - 1s 3ms/step - loss: 0.4791 - mae: 0.4829 - val_loss: 0.3888 - val_mae: 0.4546\n",
            "Epoch 9/50\n",
            "211/211 [==============================] - 1s 3ms/step - loss: 0.4605 - mae: 0.4735 - val_loss: 0.3722 - val_mae: 0.4553\n",
            "Epoch 10/50\n",
            "211/211 [==============================] - 1s 3ms/step - loss: 0.4324 - mae: 0.4600 - val_loss: 0.3311 - val_mae: 0.4117\n",
            "Epoch 11/50\n",
            "211/211 [==============================] - 1s 4ms/step - loss: 0.4119 - mae: 0.4544 - val_loss: 0.3470 - val_mae: 0.4378\n",
            "Epoch 12/50\n",
            "211/211 [==============================] - 1s 4ms/step - loss: 0.4010 - mae: 0.4450 - val_loss: 0.3166 - val_mae: 0.4049\n",
            "Epoch 13/50\n",
            "211/211 [==============================] - 1s 4ms/step - loss: 0.3755 - mae: 0.4363 - val_loss: 0.3255 - val_mae: 0.4337\n",
            "Epoch 14/50\n",
            "211/211 [==============================] - 1s 5ms/step - loss: 0.3744 - mae: 0.4327 - val_loss: 0.3199 - val_mae: 0.4163\n",
            "Epoch 15/50\n",
            "211/211 [==============================] - 1s 4ms/step - loss: 0.3551 - mae: 0.4287 - val_loss: 0.3137 - val_mae: 0.4276\n",
            "Epoch 16/50\n",
            "211/211 [==============================] - 1s 5ms/step - loss: 0.3515 - mae: 0.4243 - val_loss: 0.3049 - val_mae: 0.4114\n",
            "Epoch 17/50\n",
            "211/211 [==============================] - 1s 4ms/step - loss: 0.3404 - mae: 0.4159 - val_loss: 0.2988 - val_mae: 0.4073\n",
            "Epoch 18/50\n",
            "211/211 [==============================] - 1s 3ms/step - loss: 0.3365 - mae: 0.4177 - val_loss: 0.2975 - val_mae: 0.4058\n",
            "Epoch 19/50\n",
            "211/211 [==============================] - 1s 3ms/step - loss: 0.3208 - mae: 0.4106 - val_loss: 0.2951 - val_mae: 0.4102\n",
            "Epoch 20/50\n",
            "211/211 [==============================] - 1s 3ms/step - loss: 0.3225 - mae: 0.4099 - val_loss: 0.3000 - val_mae: 0.4140\n",
            "Epoch 21/50\n",
            "211/211 [==============================] - 1s 3ms/step - loss: 0.3190 - mae: 0.4029 - val_loss: 0.2899 - val_mae: 0.4034\n",
            "Epoch 22/50\n",
            "211/211 [==============================] - 1s 3ms/step - loss: 0.3152 - mae: 0.4016 - val_loss: 0.2898 - val_mae: 0.4087\n",
            "Epoch 23/50\n",
            "211/211 [==============================] - 1s 3ms/step - loss: 0.3023 - mae: 0.3982 - val_loss: 0.2911 - val_mae: 0.3965\n",
            "Epoch 24/50\n",
            "211/211 [==============================] - 1s 3ms/step - loss: 0.3076 - mae: 0.3958 - val_loss: 0.2811 - val_mae: 0.4002\n",
            "Epoch 25/50\n",
            "211/211 [==============================] - 1s 3ms/step - loss: 0.2960 - mae: 0.3928 - val_loss: 0.2809 - val_mae: 0.3973\n",
            "Epoch 26/50\n",
            "211/211 [==============================] - 1s 4ms/step - loss: 0.2991 - mae: 0.3876 - val_loss: 0.2774 - val_mae: 0.3988\n",
            "Epoch 27/50\n",
            "211/211 [==============================] - 1s 5ms/step - loss: 0.2837 - mae: 0.3864 - val_loss: 0.2802 - val_mae: 0.3978\n",
            "Epoch 28/50\n",
            "211/211 [==============================] - 1s 6ms/step - loss: 0.2846 - mae: 0.3836 - val_loss: 0.2826 - val_mae: 0.3957\n",
            "Epoch 29/50\n",
            "211/211 [==============================] - 1s 6ms/step - loss: 0.2836 - mae: 0.3842 - val_loss: 0.2931 - val_mae: 0.3964\n",
            "Epoch 30/50\n",
            "211/211 [==============================] - 1s 3ms/step - loss: 0.2831 - mae: 0.3813 - val_loss: 0.2892 - val_mae: 0.4058\n",
            "Epoch 31/50\n",
            "211/211 [==============================] - 1s 5ms/step - loss: 0.2856 - mae: 0.3816 - val_loss: 0.2726 - val_mae: 0.3936\n",
            "Epoch 32/50\n",
            "211/211 [==============================] - 1s 5ms/step - loss: 0.2775 - mae: 0.3773 - val_loss: 0.2706 - val_mae: 0.3832\n",
            "Epoch 33/50\n",
            "211/211 [==============================] - 1s 4ms/step - loss: 0.2721 - mae: 0.3738 - val_loss: 0.2708 - val_mae: 0.3854\n",
            "Epoch 34/50\n",
            "211/211 [==============================] - 1s 5ms/step - loss: 0.2728 - mae: 0.3749 - val_loss: 0.2755 - val_mae: 0.3943\n",
            "Epoch 35/50\n",
            "211/211 [==============================] - 1s 5ms/step - loss: 0.2769 - mae: 0.3758 - val_loss: 0.2717 - val_mae: 0.3910\n",
            "Epoch 36/50\n",
            "211/211 [==============================] - 1s 4ms/step - loss: 0.2737 - mae: 0.3723 - val_loss: 0.2710 - val_mae: 0.3933\n",
            "Epoch 37/50\n",
            "211/211 [==============================] - 1s 3ms/step - loss: 0.2855 - mae: 0.3754 - val_loss: 0.2741 - val_mae: 0.3881\n"
          ]
        }
      ],
      "source": [
        "# Initializing the Optimizer\n",
        "optimizer = Adam(0.001)\n",
        "# Compiling the model with 'mse' as loss function and metrics\n",
        "model_3.compile(loss='mse',\n",
        "              optimizer=optimizer,\n",
        "              metrics=['mae'])\n",
        "# Defining Early stopping\n",
        "es_cb = callbacks.EarlyStopping(monitor='val_loss', min_delta=0.001, patience=5)\n",
        "# Fitting the model on train and validation with 50 epochs\n",
        "history_3 = model_3.fit(X_train, y_train, validation_data=(X_val, y_val_scale), epochs=50,callbacks=es_cb)"
      ]
    },
    {
      "cell_type": "code",
      "execution_count": 68,
      "id": "4e7baacd",
      "metadata": {
        "id": "4e7baacd",
        "colab": {
          "base_uri": "https://localhost:8080/",
          "height": 452
        },
        "outputId": "9bffdbca-0660-4a85-ce20-75fd0fbcbd42"
      },
      "outputs": [
        {
          "output_type": "display_data",
          "data": {
            "text/plain": [
              "<Figure size 640x480 with 1 Axes>"
            ],
            "image/png": "[encoded data removed]"
          },
          "metadata": {}
        }
      ],
      "source": [
        "pyplot.title('Loss / Mean Squared Error')\n",
        "pyplot.plot(history_3.history['loss'], label='train')\n",
        "pyplot.plot(history_3.history['val_loss'], label='validate')\n",
        "pyplot.legend()\n",
        "pyplot.show()"
      ]
    },
    {
      "cell_type": "markdown",
      "id": "7KLrSAVv-P3v",
      "metadata": {
        "id": "7KLrSAVv-P3v"
      },
      "source": [
        "After using Dropout technique the train and validation curves seems to be smooth."
      ]
    },
    {
      "cell_type": "code",
      "execution_count": 69,
      "id": "a33bf2af",
      "metadata": {
        "id": "a33bf2af",
        "colab": {
          "base_uri": "https://localhost:8080/"
        },
        "outputId": "987e67ec-af9b-45ea-cef5-c89a72d068c3"
      },
      "outputs": [
        {
          "output_type": "stream",
          "name": "stdout",
          "text": [
            "91/91 [==============================] - 0s 1ms/step\n",
            "[[ 6186.827 ]\n",
            " [11705.093 ]\n",
            " [ 7145.7344]\n",
            " ...\n",
            " [ 5130.2593]\n",
            " [ 7687.8296]\n",
            " [ 9695.909 ]]\n"
          ]
        }
      ],
      "source": [
        "Y_result_scaled_3= model_3.predict(X_val)\n",
        "Y_result_3 = sc.inverse_transform(Y_result_scaled_3)\n",
        "print(Y_result_3)"
      ]
    },
    {
      "cell_type": "code",
      "execution_count": 70,
      "id": "j3s0w8-bgnHg",
      "metadata": {
        "id": "j3s0w8-bgnHg",
        "colab": {
          "base_uri": "https://localhost:8080/",
          "height": 115
        },
        "outputId": "b95db647-6b74-4112-a5b9-b5c33d9d0bdb"
      },
      "outputs": [
        {
          "output_type": "stream",
          "name": "stdout",
          "text": [
            "Validation Performance\n",
            "\n"
          ]
        },
        {
          "output_type": "execute_result",
          "data": {
            "text/plain": [
              "          RMSE          MAE  R-squared  Adj. R-squared\n",
              "0  2406.066555  1783.383691   0.716974        0.714298"
            ],
            "text/html": [
              "\n",
              "  <div id=\"df-81a0cea7-8c16-4bba-80a7-93303724e182\" class=\"colab-df-container\">\n",
              "    <div>\n",
              "<style scoped>\n",
              "    .dataframe tbody tr th:only-of-type {\n",
              "        vertical-align: middle;\n",
              "    }\n",
              "\n",
              "    .dataframe tbody tr th {\n",
              "        vertical-align: top;\n",
              "    }\n",
              "\n",
              "    .dataframe thead th {\n",
              "        text-align: right;\n",
              "    }\n",
              "</style>\n",
              "<table border=\"1\" class=\"dataframe\">\n",
              "  <thead>\n",
              "    <tr style=\"text-align: right;\">\n",
              "      <th></th>\n",
              "      <th>RMSE</th>\n",
              "      <th>MAE</th>\n",
              "      <th>R-squared</th>\n",
              "      <th>Adj. R-squared</th>\n",
              "    </tr>\n",
              "  </thead>\n",
              "  <tbody>\n",
              "    <tr>\n",
              "      <th>0</th>\n",
              "      <td>2406.066555</td>\n",
              "      <td>1783.383691</td>\n",
              "      <td>0.716974</td>\n",
              "      <td>0.714298</td>\n",
              "    </tr>\n",
              "  </tbody>\n",
              "</table>\n",
              "</div>\n",
              "    <div class=\"colab-df-buttons\">\n",
              "\n",
              "  <div class=\"colab-df-container\">\n",
              "    <button class=\"colab-df-convert\" onclick=\"convertToInteractive('df-81a0cea7-8c16-4bba-80a7-93303724e182')\"\n",
              "            title=\"Convert this dataframe to an interactive table.\"\n",
              "            style=\"display:none;\">\n",
              "\n",
              "  <svg xmlns=\"http://www.w3.org/2000/svg\" height=\"24px\" viewBox=\"0 -960 960 960\">\n",
              "    <path d=\"M120-120v-720h720v720H120Zm60-500h600v-160H180v160Zm220 220h160v-160H400v160Zm0 220h160v-160H400v160ZM180-400h160v-160H180v160Zm440 0h160v-160H620v160ZM180-180h160v-160H180v160Zm440 0h160v-160H620v160Z\"/>\n",
              "  </svg>\n",
              "    </button>\n",
              "\n",
              "  <style>\n",
              "    .colab-df-container {\n",
              "      display:flex;\n",
              "      gap: 12px;\n",
              "    }\n",
              "\n",
              "    .colab-df-convert {\n",
              "      background-color: #E8F0FE;\n",
              "      border: none;\n",
              "      border-radius: 50%;\n",
              "      cursor: pointer;\n",
              "      display: none;\n",
              "      fill: #1967D2;\n",
              "      height: 32px;\n",
              "      padding: 0 0 0 0;\n",
              "      width: 32px;\n",
              "    }\n",
              "\n",
              "    .colab-df-convert:hover {\n",
              "      background-color: #E2EBFA;\n",
              "      box-shadow: 0px 1px 2px rgba(60, 64, 67, 0.3), 0px 1px 3px 1px rgba(60, 64, 67, 0.15);\n",
              "      fill: #174EA6;\n",
              "    }\n",
              "\n",
              "    .colab-df-buttons div {\n",
              "      margin-bottom: 4px;\n",
              "    }\n",
              "\n",
              "    [theme=dark] .colab-df-convert {\n",
              "      background-color: #3B4455;\n",
              "      fill: #D2E3FC;\n",
              "    }\n",
              "\n",
              "    [theme=dark] .colab-df-convert:hover {\n",
              "      background-color: #434B5C;\n",
              "      box-shadow: 0px 1px 3px 1px rgba(0, 0, 0, 0.15);\n",
              "      filter: drop-shadow(0px 1px 2px rgba(0, 0, 0, 0.3));\n",
              "      fill: #FFFFFF;\n",
              "    }\n",
              "  </style>\n",
              "\n",
              "    <script>\n",
              "      const buttonEl =\n",
              "        document.querySelector('#df-81a0cea7-8c16-4bba-80a7-93303724e182 button.colab-df-convert');\n",
              "      buttonEl.style.display =\n",
              "        google.colab.kernel.accessAllowed ? 'block' : 'none';\n",
              "\n",
              "      async function convertToInteractive(key) {\n",
              "        const element = document.querySelector('#df-81a0cea7-8c16-4bba-80a7-93303724e182');\n",
              "        const dataTable =\n",
              "          await google.colab.kernel.invokeFunction('convertToInteractive',\n",
              "                                                    [key], {});\n",
              "        if (!dataTable) return;\n",
              "\n",
              "        const docLinkHtml = 'Like what you see? Visit the ' +\n",
              "          '<a target=\"_blank\" href=https://colab.research.google.com/notebooks/data_table.ipynb>data table notebook</a>'\n",
              "          + ' to learn more about interactive tables.';\n",
              "        element.innerHTML = '';\n",
              "        dataTable['output_type'] = 'display_data';\n",
              "        await google.colab.output.renderOutput(dataTable, element);\n",
              "        const docLink = document.createElement('div');\n",
              "        docLink.innerHTML = docLinkHtml;\n",
              "        element.appendChild(docLink);\n",
              "      }\n",
              "    </script>\n",
              "  </div>\n",
              "\n",
              "    </div>\n",
              "  </div>\n"
            ]
          },
          "metadata": {},
          "execution_count": 70
        }
      ],
      "source": [
        "# Checking model performance on train set\n",
        "print(\"Validation Performance\\n\")\n",
        "model_train_perf = model_performance_regression(X_val,y_val, Y_result_3)\n",
        "model_train_perf"
      ]
    },
    {
      "cell_type": "markdown",
      "id": "I-XBC6qM_qgx",
      "metadata": {
        "id": "I-XBC6qM_qgx"
      },
      "source": [
        "The Adjusted R-Square has increased when compared to the previous model. Now let's try the BatchNormalization technique and see if we can improve the metrics."
      ]
    },
    {
      "cell_type": "markdown",
      "id": "uO8qTVIVMiwk",
      "metadata": {
        "id": "uO8qTVIVMiwk"
      },
      "source": [
        "#### Model-4"
      ]
    },
    {
      "cell_type": "code",
      "execution_count": 71,
      "id": "cqpRaJB2cGO2",
      "metadata": {
        "id": "cqpRaJB2cGO2"
      },
      "outputs": [],
      "source": [
        "backend.clear_session()\n",
        "#Fixing the seed for random number generators so that we can ensure we receive the same output everytime\n",
        "np.random.seed(42)\n",
        "import random\n",
        "random.seed(42)\n",
        "tf.random.set_seed(42)"
      ]
    },
    {
      "cell_type": "code",
      "execution_count": 72,
      "id": "D5WUQWTYcGL9",
      "metadata": {
        "id": "D5WUQWTYcGL9"
      },
      "outputs": [],
      "source": [
        "# Initializing the model\n",
        "model_4 = Sequential()\n",
        "# Adding input layer with 64 neurons, relu as activation function and, he_uniform as weight initializer.\n",
        "model_4.add(Dense(64, activation='relu',kernel_initializer='he_uniform', input_shape=(27,)))\n",
        "# Adding the first hidden layer with 32 neurons, relu as activation function and, he_uniform as weight initializer\n",
        "model_4.add(Dense(32, activation='relu',kernel_initializer='he_uniform'))\n",
        "# Adding Batch Normalization\n",
        "model_4.add(BatchNormalization())\n",
        "# Adding the second hidden layer with 32 neurons, relu as activation function and, he_uniform as weight initializer\n",
        "model_4.add(Dense(32, activation='relu',kernel_initializer='he_uniform'))\n",
        "# Adding the output layer with one neuron and linear as activation\n",
        "model_4.add(Dense(1, activation='linear'))"
      ]
    },
    {
      "cell_type": "code",
      "execution_count": 73,
      "id": "ied2r12VcGJb",
      "metadata": {
        "id": "ied2r12VcGJb",
        "colab": {
          "base_uri": "https://localhost:8080/"
        },
        "outputId": "ac77b2c8-e303-43b2-9021-d4fb2445bdf2"
      },
      "outputs": [
        {
          "output_type": "stream",
          "name": "stdout",
          "text": [
            "Model: \"sequential\"\n",
            "_________________________________________________________________\n",
            " Layer (type)                Output Shape              Param #   \n",
            "=================================================================\n",
            " dense (Dense)               (None, 64)                1792      \n",
            "                                                                 \n",
            " dense_1 (Dense)             (None, 32)                2080      \n",
            "                                                                 \n",
            " batch_normalization (Batch  (None, 32)                128       \n",
            " Normalization)                                                  \n",
            "                                                                 \n",
            " dense_2 (Dense)             (None, 32)                1056      \n",
            "                                                                 \n",
            " dense_3 (Dense)             (None, 1)                 33        \n",
            "                                                                 \n",
            "=================================================================\n",
            "Total params: 5089 (19.88 KB)\n",
            "Trainable params: 5025 (19.63 KB)\n",
            "Non-trainable params: 64 (256.00 Byte)\n",
            "_________________________________________________________________\n"
          ]
        }
      ],
      "source": [
        "# Model summary\n",
        "model_4.summary()"
      ]
    },
    {
      "cell_type": "code",
      "execution_count": 74,
      "id": "ZnqD-PZHcGG4",
      "metadata": {
        "id": "ZnqD-PZHcGG4",
        "colab": {
          "base_uri": "https://localhost:8080/"
        },
        "outputId": "52bf442a-18c6-4c90-de22-970e742b07f7"
      },
      "outputs": [
        {
          "output_type": "stream",
          "name": "stdout",
          "text": [
            "Epoch 1/50\n",
            "211/211 [==============================] - 2s 4ms/step - loss: 0.6783 - mae: 0.5725 - val_loss: 0.4276 - val_mae: 0.4677\n",
            "Epoch 2/50\n",
            "211/211 [==============================] - 1s 3ms/step - loss: 0.4666 - mae: 0.4621 - val_loss: 0.3703 - val_mae: 0.4300\n",
            "Epoch 3/50\n",
            "211/211 [==============================] - 1s 3ms/step - loss: 0.4179 - mae: 0.4392 - val_loss: 0.3614 - val_mae: 0.4308\n",
            "Epoch 4/50\n",
            "211/211 [==============================] - 1s 3ms/step - loss: 0.3965 - mae: 0.4324 - val_loss: 0.3709 - val_mae: 0.4293\n",
            "Epoch 5/50\n",
            "211/211 [==============================] - 1s 3ms/step - loss: 0.3757 - mae: 0.4239 - val_loss: 0.3566 - val_mae: 0.4200\n",
            "Epoch 6/50\n",
            "211/211 [==============================] - 1s 3ms/step - loss: 0.3549 - mae: 0.4159 - val_loss: 0.5472 - val_mae: 0.4751\n",
            "Epoch 7/50\n",
            "211/211 [==============================] - 1s 3ms/step - loss: 0.3330 - mae: 0.4023 - val_loss: 0.4560 - val_mae: 0.4341\n",
            "Epoch 8/50\n",
            "211/211 [==============================] - 1s 3ms/step - loss: 0.3329 - mae: 0.4108 - val_loss: 0.3645 - val_mae: 0.4278\n",
            "Epoch 9/50\n",
            "211/211 [==============================] - 1s 3ms/step - loss: 0.3181 - mae: 0.3958 - val_loss: 0.3736 - val_mae: 0.4191\n",
            "Epoch 10/50\n",
            "211/211 [==============================] - 1s 3ms/step - loss: 0.3009 - mae: 0.3922 - val_loss: 0.3792 - val_mae: 0.4187\n"
          ]
        }
      ],
      "source": [
        "# Initializing the Optimizer\n",
        "optimizer = Adam(0.001)\n",
        "# Compiling the model with 'mse' as loss function and metrics\n",
        "model_4.compile(loss='mse',\n",
        "              optimizer=optimizer,\n",
        "              metrics=['mae'])\n",
        "# Defining Early stopping\n",
        "es_cb = callbacks.EarlyStopping(monitor='val_loss', min_delta=0.001, patience=5)\n",
        "# Fitting the model on train and validation with 50 epochs\n",
        "history_4 = model_4.fit(X_train, y_train, validation_data=(X_val, y_val_scale), epochs=50,callbacks=es_cb)"
      ]
    },
    {
      "cell_type": "code",
      "execution_count": 75,
      "id": "PkGAuj5mcGEF",
      "metadata": {
        "id": "PkGAuj5mcGEF",
        "colab": {
          "base_uri": "https://localhost:8080/",
          "height": 452
        },
        "outputId": "9198e0a2-11ee-43ae-a9d2-dc2d7da62280"
      },
      "outputs": [
        {
          "output_type": "display_data",
          "data": {
            "text/plain": [
              "<Figure size 640x480 with 1 Axes>"
            ],
            "image/png": "[encoded data removed]"
          },
          "metadata": {}
        }
      ],
      "source": [
        "pyplot.title('Loss / Mean Squared Error')\n",
        "pyplot.plot(history_4.history['loss'], label='train')\n",
        "pyplot.plot(history_4.history['val_loss'], label='validate')\n",
        "pyplot.legend()\n",
        "pyplot.show()"
      ]
    },
    {
      "cell_type": "markdown",
      "source": [
        "The train and validation curves are smooth. Now let's calculate the metrics."
      ],
      "metadata": {
        "id": "Pc15yVcea0BW"
      },
      "id": "Pc15yVcea0BW"
    },
    {
      "cell_type": "code",
      "execution_count": 76,
      "id": "JgkCcuKWcGBU",
      "metadata": {
        "id": "JgkCcuKWcGBU",
        "colab": {
          "base_uri": "https://localhost:8080/"
        },
        "outputId": "8b14cf74-5eda-49bc-b4f7-3304087e657f"
      },
      "outputs": [
        {
          "output_type": "stream",
          "name": "stdout",
          "text": [
            "91/91 [==============================] - 0s 1ms/step\n",
            "[[ 4419.104 ]\n",
            " [12774.151 ]\n",
            " [ 5789.995 ]\n",
            " ...\n",
            " [ 3802.5327]\n",
            " [ 6229.389 ]\n",
            " [ 9381.984 ]]\n"
          ]
        }
      ],
      "source": [
        "Y_result_scaled_4= model_4.predict(X_val)\n",
        "Y_result_4 = sc.inverse_transform(Y_result_scaled_4)\n",
        "print(Y_result_4)"
      ]
    },
    {
      "cell_type": "code",
      "execution_count": 77,
      "id": "AneMpUR3yGOh",
      "metadata": {
        "id": "AneMpUR3yGOh",
        "colab": {
          "base_uri": "https://localhost:8080/",
          "height": 115
        },
        "outputId": "490c5c92-7b1f-4256-859b-208312d9771a"
      },
      "outputs": [
        {
          "output_type": "stream",
          "name": "stdout",
          "text": [
            "Validation Performance\n",
            "\n"
          ]
        },
        {
          "output_type": "execute_result",
          "data": {
            "text/plain": [
              "          RMSE          MAE  R-squared  Adj. R-squared\n",
              "0  2829.838269  1924.082406   0.608498        0.604797"
            ],
            "text/html": [
              "\n",
              "  <div id=\"df-c17d69ae-585c-4768-8a27-735c0fd765da\" class=\"colab-df-container\">\n",
              "    <div>\n",
              "<style scoped>\n",
              "    .dataframe tbody tr th:only-of-type {\n",
              "        vertical-align: middle;\n",
              "    }\n",
              "\n",
              "    .dataframe tbody tr th {\n",
              "        vertical-align: top;\n",
              "    }\n",
              "\n",
              "    .dataframe thead th {\n",
              "        text-align: right;\n",
              "    }\n",
              "</style>\n",
              "<table border=\"1\" class=\"dataframe\">\n",
              "  <thead>\n",
              "    <tr style=\"text-align: right;\">\n",
              "      <th></th>\n",
              "      <th>RMSE</th>\n",
              "      <th>MAE</th>\n",
              "      <th>R-squared</th>\n",
              "      <th>Adj. R-squared</th>\n",
              "    </tr>\n",
              "  </thead>\n",
              "  <tbody>\n",
              "    <tr>\n",
              "      <th>0</th>\n",
              "      <td>2829.838269</td>\n",
              "      <td>1924.082406</td>\n",
              "      <td>0.608498</td>\n",
              "      <td>0.604797</td>\n",
              "    </tr>\n",
              "  </tbody>\n",
              "</table>\n",
              "</div>\n",
              "    <div class=\"colab-df-buttons\">\n",
              "\n",
              "  <div class=\"colab-df-container\">\n",
              "    <button class=\"colab-df-convert\" onclick=\"convertToInteractive('df-c17d69ae-585c-4768-8a27-735c0fd765da')\"\n",
              "            title=\"Convert this dataframe to an interactive table.\"\n",
              "            style=\"display:none;\">\n",
              "\n",
              "  <svg xmlns=\"http://www.w3.org/2000/svg\" height=\"24px\" viewBox=\"0 -960 960 960\">\n",
              "    <path d=\"M120-120v-720h720v720H120Zm60-500h600v-160H180v160Zm220 220h160v-160H400v160Zm0 220h160v-160H400v160ZM180-400h160v-160H180v160Zm440 0h160v-160H620v160ZM180-180h160v-160H180v160Zm440 0h160v-160H620v160Z\"/>\n",
              "  </svg>\n",
              "    </button>\n",
              "\n",
              "  <style>\n",
              "    .colab-df-container {\n",
              "      display:flex;\n",
              "      gap: 12px;\n",
              "    }\n",
              "\n",
              "    .colab-df-convert {\n",
              "      background-color: #E8F0FE;\n",
              "      border: none;\n",
              "      border-radius: 50%;\n",
              "      cursor: pointer;\n",
              "      display: none;\n",
              "      fill: #1967D2;\n",
              "      height: 32px;\n",
              "      padding: 0 0 0 0;\n",
              "      width: 32px;\n",
              "    }\n",
              "\n",
              "    .colab-df-convert:hover {\n",
              "      background-color: #E2EBFA;\n",
              "      box-shadow: 0px 1px 2px rgba(60, 64, 67, 0.3), 0px 1px 3px 1px rgba(60, 64, 67, 0.15);\n",
              "      fill: #174EA6;\n",
              "    }\n",
              "\n",
              "    .colab-df-buttons div {\n",
              "      margin-bottom: 4px;\n",
              "    }\n",
              "\n",
              "    [theme=dark] .colab-df-convert {\n",
              "      background-color: #3B4455;\n",
              "      fill: #D2E3FC;\n",
              "    }\n",
              "\n",
              "    [theme=dark] .colab-df-convert:hover {\n",
              "      background-color: #434B5C;\n",
              "      box-shadow: 0px 1px 3px 1px rgba(0, 0, 0, 0.15);\n",
              "      filter: drop-shadow(0px 1px 2px rgba(0, 0, 0, 0.3));\n",
              "      fill: #FFFFFF;\n",
              "    }\n",
              "  </style>\n",
              "\n",
              "    <script>\n",
              "      const buttonEl =\n",
              "        document.querySelector('#df-c17d69ae-585c-4768-8a27-735c0fd765da button.colab-df-convert');\n",
              "      buttonEl.style.display =\n",
              "        google.colab.kernel.accessAllowed ? 'block' : 'none';\n",
              "\n",
              "      async function convertToInteractive(key) {\n",
              "        const element = document.querySelector('#df-c17d69ae-585c-4768-8a27-735c0fd765da');\n",
              "        const dataTable =\n",
              "          await google.colab.kernel.invokeFunction('convertToInteractive',\n",
              "                                                    [key], {});\n",
              "        if (!dataTable) return;\n",
              "\n",
              "        const docLinkHtml = 'Like what you see? Visit the ' +\n",
              "          '<a target=\"_blank\" href=https://colab.research.google.com/notebooks/data_table.ipynb>data table notebook</a>'\n",
              "          + ' to learn more about interactive tables.';\n",
              "        element.innerHTML = '';\n",
              "        dataTable['output_type'] = 'display_data';\n",
              "        await google.colab.output.renderOutput(dataTable, element);\n",
              "        const docLink = document.createElement('div');\n",
              "        docLink.innerHTML = docLinkHtml;\n",
              "        element.appendChild(docLink);\n",
              "      }\n",
              "    </script>\n",
              "  </div>\n",
              "\n",
              "    </div>\n",
              "  </div>\n"
            ]
          },
          "metadata": {},
          "execution_count": 77
        }
      ],
      "source": [
        "# Checking model performance on train set\n",
        "print(\"Validation Performance\\n\")\n",
        "model_train_perf = model_performance_regression(X_val,y_val, Y_result_4)\n",
        "model_train_perf"
      ]
    },
    {
      "cell_type": "markdown",
      "id": "DWkcMO_JBdmC",
      "metadata": {
        "id": "DWkcMO_JBdmC"
      },
      "source": [
        "* BatchNormalization technique did not perform well on and even the Adjusted R-square dropped sharply.\n",
        "* Let's try to build another model using Dropout with different neural network architecture and see if we can improve the Adjusted R-square."
      ]
    },
    {
      "cell_type": "markdown",
      "id": "VNXyOiMwMmfB",
      "metadata": {
        "id": "VNXyOiMwMmfB"
      },
      "source": [
        "### Model-5"
      ]
    },
    {
      "cell_type": "code",
      "execution_count": 78,
      "id": "JCqx69QGC8Z4",
      "metadata": {
        "id": "JCqx69QGC8Z4"
      },
      "outputs": [],
      "source": [
        "backend.clear_session()\n",
        "#Fixing the seed for random number generators so that we can ensure we receive the same output everytime\n",
        "np.random.seed(42)\n",
        "import random\n",
        "random.seed(42)\n",
        "tf.random.set_seed(42)"
      ]
    },
    {
      "cell_type": "code",
      "execution_count": 79,
      "id": "3MUGx8ueC8XT",
      "metadata": {
        "id": "3MUGx8ueC8XT"
      },
      "outputs": [],
      "source": [
        "# Initializing the model\n",
        "model_5 = Sequential()\n",
        "# Adding input layer with 64 neurons, relu as activation function and, he_uniform as weight initializer.\n",
        "model_5.add(Dense(64, activation='relu',kernel_initializer='he_uniform', input_shape=(27,)))\n",
        "# Adding dropout with ratio of 0.1\n",
        "model_5.add(Dropout(0.2))\n",
        "# Adding the first hidden layer with 32 neurons, relu as activation function and, he_uniform as weight initializer\n",
        "model_5.add(Dense(32, activation='relu',kernel_initializer='he_uniform'))\n",
        "# Adding dropout with ratio of 0.1\n",
        "model_5.add(Dropout(0.1))\n",
        "# Adding the second hidden layer with 16 neurons, relu as activation function and, he_uniform as weight initializer\n",
        "model_5.add(Dense(16, activation='relu',kernel_initializer='he_uniform'))\n",
        "# Adding the third hidden layer with 8 neurons, relu as activation function and, he_uniform as weight initializer\n",
        "model_5.add(Dense(8, activation='relu',kernel_initializer='he_uniform'))\n",
        "# Adding the output layer with one neuron and linear as activation\n",
        "model_5.add(Dense(1, activation='linear'))"
      ]
    },
    {
      "cell_type": "code",
      "execution_count": 80,
      "id": "dZJ2v4pDC8Um",
      "metadata": {
        "id": "dZJ2v4pDC8Um",
        "colab": {
          "base_uri": "https://localhost:8080/"
        },
        "outputId": "ffe307be-f413-4d8e-fb77-7020c80a16f2"
      },
      "outputs": [
        {
          "output_type": "stream",
          "name": "stdout",
          "text": [
            "Model: \"sequential\"\n",
            "_________________________________________________________________\n",
            " Layer (type)                Output Shape              Param #   \n",
            "=================================================================\n",
            " dense (Dense)               (None, 64)                1792      \n",
            "                                                                 \n",
            " dropout (Dropout)           (None, 64)                0         \n",
            "                                                                 \n",
            " dense_1 (Dense)             (None, 32)                2080      \n",
            "                                                                 \n",
            " dropout_1 (Dropout)         (None, 32)                0         \n",
            "                                                                 \n",
            " dense_2 (Dense)             (None, 16)                528       \n",
            "                                                                 \n",
            " dense_3 (Dense)             (None, 8)                 136       \n",
            "                                                                 \n",
            " dense_4 (Dense)             (None, 1)                 9         \n",
            "                                                                 \n",
            "=================================================================\n",
            "Total params: 4545 (17.75 KB)\n",
            "Trainable params: 4545 (17.75 KB)\n",
            "Non-trainable params: 0 (0.00 Byte)\n",
            "_________________________________________________________________\n"
          ]
        }
      ],
      "source": [
        "# Model summary\n",
        "model_5.summary()"
      ]
    },
    {
      "cell_type": "code",
      "execution_count": 81,
      "id": "TXtgfQuYC8SJ",
      "metadata": {
        "id": "TXtgfQuYC8SJ",
        "colab": {
          "base_uri": "https://localhost:8080/"
        },
        "outputId": "e3c96f54-8d1b-4d3c-b67a-02364a4eb490"
      },
      "outputs": [
        {
          "output_type": "stream",
          "name": "stdout",
          "text": [
            "Epoch 1/50\n",
            "211/211 [==============================] - 2s 4ms/step - loss: 1.6395 - mae: 0.9367 - val_loss: 0.7936 - val_mae: 0.7092\n",
            "Epoch 2/50\n",
            "211/211 [==============================] - 1s 3ms/step - loss: 0.8394 - mae: 0.6794 - val_loss: 0.6044 - val_mae: 0.5880\n",
            "Epoch 3/50\n",
            "211/211 [==============================] - 1s 3ms/step - loss: 0.7176 - mae: 0.6148 - val_loss: 0.5124 - val_mae: 0.5122\n",
            "Epoch 4/50\n",
            "211/211 [==============================] - 1s 3ms/step - loss: 0.6340 - mae: 0.5657 - val_loss: 0.4888 - val_mae: 0.5176\n",
            "Epoch 5/50\n",
            "211/211 [==============================] - 1s 3ms/step - loss: 0.5808 - mae: 0.5336 - val_loss: 0.4422 - val_mae: 0.4717\n",
            "Epoch 6/50\n",
            "211/211 [==============================] - 1s 3ms/step - loss: 0.5413 - mae: 0.5132 - val_loss: 0.4151 - val_mae: 0.4553\n",
            "Epoch 7/50\n",
            "211/211 [==============================] - 1s 3ms/step - loss: 0.5213 - mae: 0.5005 - val_loss: 0.4049 - val_mae: 0.4485\n",
            "Epoch 8/50\n",
            "211/211 [==============================] - 1s 3ms/step - loss: 0.4895 - mae: 0.4843 - val_loss: 0.3759 - val_mae: 0.4430\n",
            "Epoch 9/50\n",
            "211/211 [==============================] - 1s 3ms/step - loss: 0.4588 - mae: 0.4737 - val_loss: 0.3487 - val_mae: 0.4382\n",
            "Epoch 10/50\n",
            "211/211 [==============================] - 1s 3ms/step - loss: 0.4224 - mae: 0.4596 - val_loss: 0.3284 - val_mae: 0.4123\n",
            "Epoch 11/50\n",
            "211/211 [==============================] - 1s 3ms/step - loss: 0.4049 - mae: 0.4477 - val_loss: 0.3376 - val_mae: 0.4306\n",
            "Epoch 12/50\n",
            "211/211 [==============================] - 1s 3ms/step - loss: 0.3908 - mae: 0.4436 - val_loss: 0.3127 - val_mae: 0.4071\n",
            "Epoch 13/50\n",
            "211/211 [==============================] - 1s 3ms/step - loss: 0.3725 - mae: 0.4357 - val_loss: 0.3121 - val_mae: 0.4143\n",
            "Epoch 14/50\n",
            "211/211 [==============================] - 1s 4ms/step - loss: 0.3563 - mae: 0.4282 - val_loss: 0.3073 - val_mae: 0.3992\n",
            "Epoch 15/50\n",
            "211/211 [==============================] - 1s 4ms/step - loss: 0.3519 - mae: 0.4230 - val_loss: 0.3037 - val_mae: 0.4173\n",
            "Epoch 16/50\n",
            "211/211 [==============================] - 1s 5ms/step - loss: 0.3414 - mae: 0.4171 - val_loss: 0.2957 - val_mae: 0.4055\n",
            "Epoch 17/50\n",
            "211/211 [==============================] - 1s 5ms/step - loss: 0.3323 - mae: 0.4131 - val_loss: 0.2884 - val_mae: 0.3881\n",
            "Epoch 18/50\n",
            "211/211 [==============================] - 1s 5ms/step - loss: 0.3264 - mae: 0.4139 - val_loss: 0.2861 - val_mae: 0.3902\n",
            "Epoch 19/50\n",
            "211/211 [==============================] - 1s 4ms/step - loss: 0.3180 - mae: 0.4074 - val_loss: 0.2847 - val_mae: 0.4045\n",
            "Epoch 20/50\n",
            "211/211 [==============================] - 1s 3ms/step - loss: 0.3244 - mae: 0.4076 - val_loss: 0.2881 - val_mae: 0.4076\n",
            "Epoch 21/50\n",
            "211/211 [==============================] - 1s 3ms/step - loss: 0.3123 - mae: 0.4015 - val_loss: 0.2738 - val_mae: 0.3859\n",
            "Epoch 22/50\n",
            "211/211 [==============================] - 1s 3ms/step - loss: 0.2985 - mae: 0.3972 - val_loss: 0.2803 - val_mae: 0.3924\n",
            "Epoch 23/50\n",
            "211/211 [==============================] - 1s 3ms/step - loss: 0.3010 - mae: 0.3934 - val_loss: 0.2771 - val_mae: 0.3900\n",
            "Epoch 24/50\n",
            "211/211 [==============================] - 1s 3ms/step - loss: 0.2884 - mae: 0.3884 - val_loss: 0.2689 - val_mae: 0.3843\n",
            "Epoch 25/50\n",
            "211/211 [==============================] - 1s 3ms/step - loss: 0.2856 - mae: 0.3869 - val_loss: 0.2632 - val_mae: 0.3700\n",
            "Epoch 26/50\n",
            "211/211 [==============================] - 1s 3ms/step - loss: 0.2883 - mae: 0.3861 - val_loss: 0.2643 - val_mae: 0.3838\n",
            "Epoch 27/50\n",
            "211/211 [==============================] - 1s 3ms/step - loss: 0.2795 - mae: 0.3805 - val_loss: 0.2635 - val_mae: 0.3792\n",
            "Epoch 28/50\n",
            "211/211 [==============================] - 1s 3ms/step - loss: 0.2805 - mae: 0.3809 - val_loss: 0.2646 - val_mae: 0.3738\n",
            "Epoch 29/50\n",
            "211/211 [==============================] - 1s 3ms/step - loss: 0.2744 - mae: 0.3771 - val_loss: 0.2745 - val_mae: 0.3846\n",
            "Epoch 30/50\n",
            "211/211 [==============================] - 1s 3ms/step - loss: 0.2846 - mae: 0.3817 - val_loss: 0.2633 - val_mae: 0.3811\n"
          ]
        }
      ],
      "source": [
        "# Initializing the Optimizer\n",
        "optimizer = Adam(0.001)\n",
        "# Compiling the model with 'mse' as loss function and metrics\n",
        "model_5.compile(loss='mse',\n",
        "              optimizer=optimizer,\n",
        "              metrics=['mae'])\n",
        "# Adding the callbacks\n",
        "es_cb = callbacks.EarlyStopping(monitor='val_loss', min_delta=0.001, patience=5)\n",
        "# Fitting the model on train and validation with 50 epochs\n",
        "history_5 = model_5.fit(X_train, y_train, validation_data=(X_val, y_val_scale), epochs=50,callbacks=es_cb)"
      ]
    },
    {
      "cell_type": "code",
      "execution_count": 82,
      "id": "juaUrpZuC8Pt",
      "metadata": {
        "id": "juaUrpZuC8Pt",
        "colab": {
          "base_uri": "https://localhost:8080/",
          "height": 452
        },
        "outputId": "237ce986-85d8-4183-a647-3bcaaeca78c1"
      },
      "outputs": [
        {
          "output_type": "display_data",
          "data": {
            "text/plain": [
              "<Figure size 640x480 with 1 Axes>"
            ],
            "image/png": "[encoded data removed]"
          },
          "metadata": {}
        }
      ],
      "source": [
        "pyplot.title('Loss / Mean Squared Error')\n",
        "pyplot.plot(history_5.history['loss'], label='train')\n",
        "pyplot.plot(history_5.history['val_loss'], label='validate')\n",
        "pyplot.legend()\n",
        "pyplot.show()"
      ]
    },
    {
      "cell_type": "markdown",
      "id": "xtiqi8aOEg-r",
      "metadata": {
        "id": "xtiqi8aOEg-r"
      },
      "source": [
        "* We can observe that after increasing the layers, both the curves seems to be smooth."
      ]
    },
    {
      "cell_type": "code",
      "execution_count": 83,
      "id": "m8l6wNO1C8M7",
      "metadata": {
        "id": "m8l6wNO1C8M7",
        "colab": {
          "base_uri": "https://localhost:8080/"
        },
        "outputId": "f6e9f766-7230-485c-97aa-9938a89d69a2"
      },
      "outputs": [
        {
          "output_type": "stream",
          "name": "stdout",
          "text": [
            "91/91 [==============================] - 0s 1ms/step\n",
            "[[ 6211.8735]\n",
            " [12267.523 ]\n",
            " [ 7010.832 ]\n",
            " ...\n",
            " [ 4937.3223]\n",
            " [ 7737.0654]\n",
            " [10878.756 ]]\n"
          ]
        }
      ],
      "source": [
        "Y_result_scaled_5= model_5.predict(X_val)\n",
        "Y_result_5 = sc.inverse_transform(Y_result_scaled_5)\n",
        "print(Y_result_5)"
      ]
    },
    {
      "cell_type": "code",
      "execution_count": 84,
      "id": "_vYh9VEiC8HY",
      "metadata": {
        "id": "_vYh9VEiC8HY",
        "colab": {
          "base_uri": "https://localhost:8080/",
          "height": 115
        },
        "outputId": "f6f13879-0ec4-4714-fd25-02ce6b9f5360"
      },
      "outputs": [
        {
          "output_type": "stream",
          "name": "stdout",
          "text": [
            "Validation Performance\n",
            "\n"
          ]
        },
        {
          "output_type": "execute_result",
          "data": {
            "text/plain": [
              "          RMSE          MAE  R-squared  Adj. R-squared\n",
              "0  2358.132098  1751.359247   0.728139        0.725569"
            ],
            "text/html": [
              "\n",
              "  <div id=\"df-1abadac8-a6b2-433d-9d46-2e89ad995c54\" class=\"colab-df-container\">\n",
              "    <div>\n",
              "<style scoped>\n",
              "    .dataframe tbody tr th:only-of-type {\n",
              "        vertical-align: middle;\n",
              "    }\n",
              "\n",
              "    .dataframe tbody tr th {\n",
              "        vertical-align: top;\n",
              "    }\n",
              "\n",
              "    .dataframe thead th {\n",
              "        text-align: right;\n",
              "    }\n",
              "</style>\n",
              "<table border=\"1\" class=\"dataframe\">\n",
              "  <thead>\n",
              "    <tr style=\"text-align: right;\">\n",
              "      <th></th>\n",
              "      <th>RMSE</th>\n",
              "      <th>MAE</th>\n",
              "      <th>R-squared</th>\n",
              "      <th>Adj. R-squared</th>\n",
              "    </tr>\n",
              "  </thead>\n",
              "  <tbody>\n",
              "    <tr>\n",
              "      <th>0</th>\n",
              "      <td>2358.132098</td>\n",
              "      <td>1751.359247</td>\n",
              "      <td>0.728139</td>\n",
              "      <td>0.725569</td>\n",
              "    </tr>\n",
              "  </tbody>\n",
              "</table>\n",
              "</div>\n",
              "    <div class=\"colab-df-buttons\">\n",
              "\n",
              "  <div class=\"colab-df-container\">\n",
              "    <button class=\"colab-df-convert\" onclick=\"convertToInteractive('df-1abadac8-a6b2-433d-9d46-2e89ad995c54')\"\n",
              "            title=\"Convert this dataframe to an interactive table.\"\n",
              "            style=\"display:none;\">\n",
              "\n",
              "  <svg xmlns=\"http://www.w3.org/2000/svg\" height=\"24px\" viewBox=\"0 -960 960 960\">\n",
              "    <path d=\"M120-120v-720h720v720H120Zm60-500h600v-160H180v160Zm220 220h160v-160H400v160Zm0 220h160v-160H400v160ZM180-400h160v-160H180v160Zm440 0h160v-160H620v160ZM180-180h160v-160H180v160Zm440 0h160v-160H620v160Z\"/>\n",
              "  </svg>\n",
              "    </button>\n",
              "\n",
              "  <style>\n",
              "    .colab-df-container {\n",
              "      display:flex;\n",
              "      gap: 12px;\n",
              "    }\n",
              "\n",
              "    .colab-df-convert {\n",
              "      background-color: #E8F0FE;\n",
              "      border: none;\n",
              "      border-radius: 50%;\n",
              "      cursor: pointer;\n",
              "      display: none;\n",
              "      fill: #1967D2;\n",
              "      height: 32px;\n",
              "      padding: 0 0 0 0;\n",
              "      width: 32px;\n",
              "    }\n",
              "\n",
              "    .colab-df-convert:hover {\n",
              "      background-color: #E2EBFA;\n",
              "      box-shadow: 0px 1px 2px rgba(60, 64, 67, 0.3), 0px 1px 3px 1px rgba(60, 64, 67, 0.15);\n",
              "      fill: #174EA6;\n",
              "    }\n",
              "\n",
              "    .colab-df-buttons div {\n",
              "      margin-bottom: 4px;\n",
              "    }\n",
              "\n",
              "    [theme=dark] .colab-df-convert {\n",
              "      background-color: #3B4455;\n",
              "      fill: #D2E3FC;\n",
              "    }\n",
              "\n",
              "    [theme=dark] .colab-df-convert:hover {\n",
              "      background-color: #434B5C;\n",
              "      box-shadow: 0px 1px 3px 1px rgba(0, 0, 0, 0.15);\n",
              "      filter: drop-shadow(0px 1px 2px rgba(0, 0, 0, 0.3));\n",
              "      fill: #FFFFFF;\n",
              "    }\n",
              "  </style>\n",
              "\n",
              "    <script>\n",
              "      const buttonEl =\n",
              "        document.querySelector('#df-1abadac8-a6b2-433d-9d46-2e89ad995c54 button.colab-df-convert');\n",
              "      buttonEl.style.display =\n",
              "        google.colab.kernel.accessAllowed ? 'block' : 'none';\n",
              "\n",
              "      async function convertToInteractive(key) {\n",
              "        const element = document.querySelector('#df-1abadac8-a6b2-433d-9d46-2e89ad995c54');\n",
              "        const dataTable =\n",
              "          await google.colab.kernel.invokeFunction('convertToInteractive',\n",
              "                                                    [key], {});\n",
              "        if (!dataTable) return;\n",
              "\n",
              "        const docLinkHtml = 'Like what you see? Visit the ' +\n",
              "          '<a target=\"_blank\" href=https://colab.research.google.com/notebooks/data_table.ipynb>data table notebook</a>'\n",
              "          + ' to learn more about interactive tables.';\n",
              "        element.innerHTML = '';\n",
              "        dataTable['output_type'] = 'display_data';\n",
              "        await google.colab.output.renderOutput(dataTable, element);\n",
              "        const docLink = document.createElement('div');\n",
              "        docLink.innerHTML = docLinkHtml;\n",
              "        element.appendChild(docLink);\n",
              "      }\n",
              "    </script>\n",
              "  </div>\n",
              "\n",
              "    </div>\n",
              "  </div>\n"
            ]
          },
          "metadata": {},
          "execution_count": 84
        }
      ],
      "source": [
        "# Checking model performance on train set\n",
        "print(\"Validation Performance\\n\")\n",
        "model_train_perf = model_performance_regression(X_val,y_val, Y_result_5)\n",
        "model_train_perf"
      ]
    },
    {
      "cell_type": "markdown",
      "id": "QwyA4-RvFG0S",
      "metadata": {
        "id": "QwyA4-RvFG0S"
      },
      "source": [
        "The Adjusted R-square of the model increased, and increasing the number of layers did work to improve the metrics."
      ]
    },
    {
      "cell_type": "markdown",
      "source": [
        "Out of all the models built, the final Model-5 with the dropout technique gives a good Adjusted R-Square when compared to all the models. Now let's predict on the test data using Model-5."
      ],
      "metadata": {
        "id": "TfuCyIgLbZhy"
      },
      "id": "TfuCyIgLbZhy"
    },
    {
      "cell_type": "markdown",
      "source": [
        "####**Test Prediction**"
      ],
      "metadata": {
        "id": "407W-nOMfl5P"
      },
      "id": "407W-nOMfl5P"
    },
    {
      "cell_type": "code",
      "source": [
        "# Predicting on test dat\n",
        "test_pred = model_5.predict(X_test)\n",
        "##As we have scaled the target variable, now after predicting we should inverse the scale and should convert to normal form\n",
        "test_pred = sc.inverse_transform(test_pred)\n",
        "print(test_pred)"
      ],
      "metadata": {
        "colab": {
          "base_uri": "https://localhost:8080/"
        },
        "id": "FM5csyngftKI",
        "outputId": "fb963b36-50ce-4f94-bb1f-fd389dbe1764"
      },
      "id": "FM5csyngftKI",
      "execution_count": 85,
      "outputs": [
        {
          "output_type": "stream",
          "name": "stdout",
          "text": [
            "34/34 [==============================] - 0s 1ms/step\n",
            "[[11512.05  ]\n",
            " [ 6153.3687]\n",
            " [ 9048.327 ]\n",
            " ...\n",
            " [11756.782 ]\n",
            " [ 8353.491 ]\n",
            " [11104.263 ]]\n"
          ]
        }
      ]
    },
    {
      "cell_type": "code",
      "source": [
        "# Checking model performance on train set\n",
        "print(\"Training Performance\\n\")\n",
        "model_train_perf = model_performance_regression(X_test,y_test, test_pred)\n",
        "model_train_perf"
      ],
      "metadata": {
        "colab": {
          "base_uri": "https://localhost:8080/",
          "height": 115
        },
        "id": "poEjQnhuftDj",
        "outputId": "b6d21304-55a3-4448-c96e-b7028678df1e"
      },
      "id": "poEjQnhuftDj",
      "execution_count": 86,
      "outputs": [
        {
          "output_type": "stream",
          "name": "stdout",
          "text": [
            "Training Performance\n",
            "\n"
          ]
        },
        {
          "output_type": "execute_result",
          "data": {
            "text/plain": [
              "          RMSE          MAE  R-squared  Adj. R-squared\n",
              "0  2904.175029  1864.686857   0.653189        0.644194"
            ],
            "text/html": [
              "\n",
              "  <div id=\"df-ba85a07e-cc35-4032-b44b-2753db61194a\" class=\"colab-df-container\">\n",
              "    <div>\n",
              "<style scoped>\n",
              "    .dataframe tbody tr th:only-of-type {\n",
              "        vertical-align: middle;\n",
              "    }\n",
              "\n",
              "    .dataframe tbody tr th {\n",
              "        vertical-align: top;\n",
              "    }\n",
              "\n",
              "    .dataframe thead th {\n",
              "        text-align: right;\n",
              "    }\n",
              "</style>\n",
              "<table border=\"1\" class=\"dataframe\">\n",
              "  <thead>\n",
              "    <tr style=\"text-align: right;\">\n",
              "      <th></th>\n",
              "      <th>RMSE</th>\n",
              "      <th>MAE</th>\n",
              "      <th>R-squared</th>\n",
              "      <th>Adj. R-squared</th>\n",
              "    </tr>\n",
              "  </thead>\n",
              "  <tbody>\n",
              "    <tr>\n",
              "      <th>0</th>\n",
              "      <td>2904.175029</td>\n",
              "      <td>1864.686857</td>\n",
              "      <td>0.653189</td>\n",
              "      <td>0.644194</td>\n",
              "    </tr>\n",
              "  </tbody>\n",
              "</table>\n",
              "</div>\n",
              "    <div class=\"colab-df-buttons\">\n",
              "\n",
              "  <div class=\"colab-df-container\">\n",
              "    <button class=\"colab-df-convert\" onclick=\"convertToInteractive('df-ba85a07e-cc35-4032-b44b-2753db61194a')\"\n",
              "            title=\"Convert this dataframe to an interactive table.\"\n",
              "            style=\"display:none;\">\n",
              "\n",
              "  <svg xmlns=\"http://www.w3.org/2000/svg\" height=\"24px\" viewBox=\"0 -960 960 960\">\n",
              "    <path d=\"M120-120v-720h720v720H120Zm60-500h600v-160H180v160Zm220 220h160v-160H400v160Zm0 220h160v-160H400v160ZM180-400h160v-160H180v160Zm440 0h160v-160H620v160ZM180-180h160v-160H180v160Zm440 0h160v-160H620v160Z\"/>\n",
              "  </svg>\n",
              "    </button>\n",
              "\n",
              "  <style>\n",
              "    .colab-df-container {\n",
              "      display:flex;\n",
              "      gap: 12px;\n",
              "    }\n",
              "\n",
              "    .colab-df-convert {\n",
              "      background-color: #E8F0FE;\n",
              "      border: none;\n",
              "      border-radius: 50%;\n",
              "      cursor: pointer;\n",
              "      display: none;\n",
              "      fill: #1967D2;\n",
              "      height: 32px;\n",
              "      padding: 0 0 0 0;\n",
              "      width: 32px;\n",
              "    }\n",
              "\n",
              "    .colab-df-convert:hover {\n",
              "      background-color: #E2EBFA;\n",
              "      box-shadow: 0px 1px 2px rgba(60, 64, 67, 0.3), 0px 1px 3px 1px rgba(60, 64, 67, 0.15);\n",
              "      fill: #174EA6;\n",
              "    }\n",
              "\n",
              "    .colab-df-buttons div {\n",
              "      margin-bottom: 4px;\n",
              "    }\n",
              "\n",
              "    [theme=dark] .colab-df-convert {\n",
              "      background-color: #3B4455;\n",
              "      fill: #D2E3FC;\n",
              "    }\n",
              "\n",
              "    [theme=dark] .colab-df-convert:hover {\n",
              "      background-color: #434B5C;\n",
              "      box-shadow: 0px 1px 3px 1px rgba(0, 0, 0, 0.15);\n",
              "      filter: drop-shadow(0px 1px 2px rgba(0, 0, 0, 0.3));\n",
              "      fill: #FFFFFF;\n",
              "    }\n",
              "  </style>\n",
              "\n",
              "    <script>\n",
              "      const buttonEl =\n",
              "        document.querySelector('#df-ba85a07e-cc35-4032-b44b-2753db61194a button.colab-df-convert');\n",
              "      buttonEl.style.display =\n",
              "        google.colab.kernel.accessAllowed ? 'block' : 'none';\n",
              "\n",
              "      async function convertToInteractive(key) {\n",
              "        const element = document.querySelector('#df-ba85a07e-cc35-4032-b44b-2753db61194a');\n",
              "        const dataTable =\n",
              "          await google.colab.kernel.invokeFunction('convertToInteractive',\n",
              "                                                    [key], {});\n",
              "        if (!dataTable) return;\n",
              "\n",
              "        const docLinkHtml = 'Like what you see? Visit the ' +\n",
              "          '<a target=\"_blank\" href=https://colab.research.google.com/notebooks/data_table.ipynb>data table notebook</a>'\n",
              "          + ' to learn more about interactive tables.';\n",
              "        element.innerHTML = '';\n",
              "        dataTable['output_type'] = 'display_data';\n",
              "        await google.colab.output.renderOutput(dataTable, element);\n",
              "        const docLink = document.createElement('div');\n",
              "        docLink.innerHTML = docLinkHtml;\n",
              "        element.appendChild(docLink);\n",
              "      }\n",
              "    </script>\n",
              "  </div>\n",
              "\n",
              "    </div>\n",
              "  </div>\n"
            ]
          },
          "metadata": {},
          "execution_count": 86
        }
      ]
    },
    {
      "cell_type": "markdown",
      "id": "d247127b",
      "metadata": {
        "id": "d247127b"
      },
      "source": [
        "### Comments\n",
        "\n",
        "- We have trained 5 different models with some changes in architecture and Optimizer.\n",
        "- Just by increasing one layer in the last model, we were able to reduce the loss.\n",
        "- Play around with your neural network model by changing the number of dense layers, learning rate, number of neurons in hidden layers. Try out different loss and activation functions and see if you can get a better Adjusted R Square."
      ]
    },
    {
      "cell_type": "markdown",
      "id": "ed99ca39",
      "metadata": {
        "id": "ed99ca39"
      },
      "source": [
        "### Happy Learning !"
      ]
    }
  ],
  "metadata": {
    "colab": {
      "provenance": [],
      "include_colab_link": true
    },
    "kernelspec": {
      "display_name": "Python 3",
      "language": "python",
      "name": "python3"
    },
    "language_info": {
      "codemirror_mode": {
        "name": "ipython",
        "version": 3
      },
      "file_extension": ".py",
      "mimetype": "text/x-python",
      "name": "python",
      "nbconvert_exporter": "python",
      "pygments_lexer": "ipython3",
      "version": "3.8.8"
    }
  },
  "nbformat": 4,
  "nbformat_minor": 5
}